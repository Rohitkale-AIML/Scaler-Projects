{
  "nbformat": 4,
  "nbformat_minor": 0,
  "metadata": {
    "colab": {
      "provenance": [],
      "gpuType": "T4"
    },
    "kernelspec": {
      "name": "python3",
      "display_name": "Python 3"
    },
    "language_info": {
      "name": "python"
    },
    "widgets": {
      "application/vnd.jupyter.widget-state+json": {
        "9ce678ac26e94534b7eba0100e17b516": {
          "model_module": "@jupyter-widgets/controls",
          "model_name": "HBoxModel",
          "model_module_version": "1.5.0",
          "state": {
            "_dom_classes": [],
            "_model_module": "@jupyter-widgets/controls",
            "_model_module_version": "1.5.0",
            "_model_name": "HBoxModel",
            "_view_count": null,
            "_view_module": "@jupyter-widgets/controls",
            "_view_module_version": "1.5.0",
            "_view_name": "HBoxView",
            "box_style": "",
            "children": [
              "IPY_MODEL_7f7668eeba6e4198b5f9443cba0e908a",
              "IPY_MODEL_664efd4bd7ea4b368266a7da59158a9d",
              "IPY_MODEL_d245bef1672c4a95848b88956f883b81"
            ],
            "layout": "IPY_MODEL_8903f05888444c3e9c0004b6cfed3414"
          }
        },
        "7f7668eeba6e4198b5f9443cba0e908a": {
          "model_module": "@jupyter-widgets/controls",
          "model_name": "HTMLModel",
          "model_module_version": "1.5.0",
          "state": {
            "_dom_classes": [],
            "_model_module": "@jupyter-widgets/controls",
            "_model_module_version": "1.5.0",
            "_model_name": "HTMLModel",
            "_view_count": null,
            "_view_module": "@jupyter-widgets/controls",
            "_view_module_version": "1.5.0",
            "_view_name": "HTMLView",
            "description": "",
            "description_tooltip": null,
            "layout": "IPY_MODEL_717645a09a9f4055816ef56326639229",
            "placeholder": "​",
            "style": "IPY_MODEL_6414fa5b173f44bdaf4a481e785ba012",
            "value": "100%"
          }
        },
        "664efd4bd7ea4b368266a7da59158a9d": {
          "model_module": "@jupyter-widgets/controls",
          "model_name": "FloatProgressModel",
          "model_module_version": "1.5.0",
          "state": {
            "_dom_classes": [],
            "_model_module": "@jupyter-widgets/controls",
            "_model_module_version": "1.5.0",
            "_model_name": "FloatProgressModel",
            "_view_count": null,
            "_view_module": "@jupyter-widgets/controls",
            "_view_module_version": "1.5.0",
            "_view_name": "ProgressView",
            "bar_style": "success",
            "description": "",
            "description_tooltip": null,
            "layout": "IPY_MODEL_b1baad27736f46b4bc80678ce59edbff",
            "max": 2394,
            "min": 0,
            "orientation": "horizontal",
            "style": "IPY_MODEL_6a371528b65844aca7110fbfb9a89f3e",
            "value": 2394
          }
        },
        "d245bef1672c4a95848b88956f883b81": {
          "model_module": "@jupyter-widgets/controls",
          "model_name": "HTMLModel",
          "model_module_version": "1.5.0",
          "state": {
            "_dom_classes": [],
            "_model_module": "@jupyter-widgets/controls",
            "_model_module_version": "1.5.0",
            "_model_name": "HTMLModel",
            "_view_count": null,
            "_view_module": "@jupyter-widgets/controls",
            "_view_module_version": "1.5.0",
            "_view_name": "HTMLView",
            "description": "",
            "description_tooltip": null,
            "layout": "IPY_MODEL_c9a6d6c3cdf841e0897cfabce6c88a29",
            "placeholder": "​",
            "style": "IPY_MODEL_64aa834e25a144dd81db1ecb4d45d8c4",
            "value": " 2394/2394 [00:00&lt;00:00, 37423.60it/s]"
          }
        },
        "8903f05888444c3e9c0004b6cfed3414": {
          "model_module": "@jupyter-widgets/base",
          "model_name": "LayoutModel",
          "model_module_version": "1.2.0",
          "state": {
            "_model_module": "@jupyter-widgets/base",
            "_model_module_version": "1.2.0",
            "_model_name": "LayoutModel",
            "_view_count": null,
            "_view_module": "@jupyter-widgets/base",
            "_view_module_version": "1.2.0",
            "_view_name": "LayoutView",
            "align_content": null,
            "align_items": null,
            "align_self": null,
            "border": null,
            "bottom": null,
            "display": null,
            "flex": null,
            "flex_flow": null,
            "grid_area": null,
            "grid_auto_columns": null,
            "grid_auto_flow": null,
            "grid_auto_rows": null,
            "grid_column": null,
            "grid_gap": null,
            "grid_row": null,
            "grid_template_areas": null,
            "grid_template_columns": null,
            "grid_template_rows": null,
            "height": null,
            "justify_content": null,
            "justify_items": null,
            "left": null,
            "margin": null,
            "max_height": null,
            "max_width": null,
            "min_height": null,
            "min_width": null,
            "object_fit": null,
            "object_position": null,
            "order": null,
            "overflow": null,
            "overflow_x": null,
            "overflow_y": null,
            "padding": null,
            "right": null,
            "top": null,
            "visibility": null,
            "width": null
          }
        },
        "717645a09a9f4055816ef56326639229": {
          "model_module": "@jupyter-widgets/base",
          "model_name": "LayoutModel",
          "model_module_version": "1.2.0",
          "state": {
            "_model_module": "@jupyter-widgets/base",
            "_model_module_version": "1.2.0",
            "_model_name": "LayoutModel",
            "_view_count": null,
            "_view_module": "@jupyter-widgets/base",
            "_view_module_version": "1.2.0",
            "_view_name": "LayoutView",
            "align_content": null,
            "align_items": null,
            "align_self": null,
            "border": null,
            "bottom": null,
            "display": null,
            "flex": null,
            "flex_flow": null,
            "grid_area": null,
            "grid_auto_columns": null,
            "grid_auto_flow": null,
            "grid_auto_rows": null,
            "grid_column": null,
            "grid_gap": null,
            "grid_row": null,
            "grid_template_areas": null,
            "grid_template_columns": null,
            "grid_template_rows": null,
            "height": null,
            "justify_content": null,
            "justify_items": null,
            "left": null,
            "margin": null,
            "max_height": null,
            "max_width": null,
            "min_height": null,
            "min_width": null,
            "object_fit": null,
            "object_position": null,
            "order": null,
            "overflow": null,
            "overflow_x": null,
            "overflow_y": null,
            "padding": null,
            "right": null,
            "top": null,
            "visibility": null,
            "width": null
          }
        },
        "6414fa5b173f44bdaf4a481e785ba012": {
          "model_module": "@jupyter-widgets/controls",
          "model_name": "DescriptionStyleModel",
          "model_module_version": "1.5.0",
          "state": {
            "_model_module": "@jupyter-widgets/controls",
            "_model_module_version": "1.5.0",
            "_model_name": "DescriptionStyleModel",
            "_view_count": null,
            "_view_module": "@jupyter-widgets/base",
            "_view_module_version": "1.2.0",
            "_view_name": "StyleView",
            "description_width": ""
          }
        },
        "b1baad27736f46b4bc80678ce59edbff": {
          "model_module": "@jupyter-widgets/base",
          "model_name": "LayoutModel",
          "model_module_version": "1.2.0",
          "state": {
            "_model_module": "@jupyter-widgets/base",
            "_model_module_version": "1.2.0",
            "_model_name": "LayoutModel",
            "_view_count": null,
            "_view_module": "@jupyter-widgets/base",
            "_view_module_version": "1.2.0",
            "_view_name": "LayoutView",
            "align_content": null,
            "align_items": null,
            "align_self": null,
            "border": null,
            "bottom": null,
            "display": null,
            "flex": null,
            "flex_flow": null,
            "grid_area": null,
            "grid_auto_columns": null,
            "grid_auto_flow": null,
            "grid_auto_rows": null,
            "grid_column": null,
            "grid_gap": null,
            "grid_row": null,
            "grid_template_areas": null,
            "grid_template_columns": null,
            "grid_template_rows": null,
            "height": null,
            "justify_content": null,
            "justify_items": null,
            "left": null,
            "margin": null,
            "max_height": null,
            "max_width": null,
            "min_height": null,
            "min_width": null,
            "object_fit": null,
            "object_position": null,
            "order": null,
            "overflow": null,
            "overflow_x": null,
            "overflow_y": null,
            "padding": null,
            "right": null,
            "top": null,
            "visibility": null,
            "width": null
          }
        },
        "6a371528b65844aca7110fbfb9a89f3e": {
          "model_module": "@jupyter-widgets/controls",
          "model_name": "ProgressStyleModel",
          "model_module_version": "1.5.0",
          "state": {
            "_model_module": "@jupyter-widgets/controls",
            "_model_module_version": "1.5.0",
            "_model_name": "ProgressStyleModel",
            "_view_count": null,
            "_view_module": "@jupyter-widgets/base",
            "_view_module_version": "1.2.0",
            "_view_name": "StyleView",
            "bar_color": null,
            "description_width": ""
          }
        },
        "c9a6d6c3cdf841e0897cfabce6c88a29": {
          "model_module": "@jupyter-widgets/base",
          "model_name": "LayoutModel",
          "model_module_version": "1.2.0",
          "state": {
            "_model_module": "@jupyter-widgets/base",
            "_model_module_version": "1.2.0",
            "_model_name": "LayoutModel",
            "_view_count": null,
            "_view_module": "@jupyter-widgets/base",
            "_view_module_version": "1.2.0",
            "_view_name": "LayoutView",
            "align_content": null,
            "align_items": null,
            "align_self": null,
            "border": null,
            "bottom": null,
            "display": null,
            "flex": null,
            "flex_flow": null,
            "grid_area": null,
            "grid_auto_columns": null,
            "grid_auto_flow": null,
            "grid_auto_rows": null,
            "grid_column": null,
            "grid_gap": null,
            "grid_row": null,
            "grid_template_areas": null,
            "grid_template_columns": null,
            "grid_template_rows": null,
            "height": null,
            "justify_content": null,
            "justify_items": null,
            "left": null,
            "margin": null,
            "max_height": null,
            "max_width": null,
            "min_height": null,
            "min_width": null,
            "object_fit": null,
            "object_position": null,
            "order": null,
            "overflow": null,
            "overflow_x": null,
            "overflow_y": null,
            "padding": null,
            "right": null,
            "top": null,
            "visibility": null,
            "width": null
          }
        },
        "64aa834e25a144dd81db1ecb4d45d8c4": {
          "model_module": "@jupyter-widgets/controls",
          "model_name": "DescriptionStyleModel",
          "model_module_version": "1.5.0",
          "state": {
            "_model_module": "@jupyter-widgets/controls",
            "_model_module_version": "1.5.0",
            "_model_name": "DescriptionStyleModel",
            "_view_count": null,
            "_view_module": "@jupyter-widgets/base",
            "_view_module_version": "1.2.0",
            "_view_name": "StyleView",
            "description_width": ""
          }
        },
        "eef5b1715640413487937155ef855590": {
          "model_module": "@jupyter-widgets/controls",
          "model_name": "HBoxModel",
          "model_module_version": "1.5.0",
          "state": {
            "_dom_classes": [],
            "_model_module": "@jupyter-widgets/controls",
            "_model_module_version": "1.5.0",
            "_model_name": "HBoxModel",
            "_view_count": null,
            "_view_module": "@jupyter-widgets/controls",
            "_view_module_version": "1.5.0",
            "_view_name": "HBoxView",
            "box_style": "",
            "children": [
              "IPY_MODEL_7d50c0a59581481e8ad94a5d656e4720",
              "IPY_MODEL_c695af58b25d44b0bba0d19eb3b4923c",
              "IPY_MODEL_b5ba120a26004ed7bef9012d5e7a768e"
            ],
            "layout": "IPY_MODEL_1a1ba9deac7f48ae8b27da698e748a11"
          }
        },
        "7d50c0a59581481e8ad94a5d656e4720": {
          "model_module": "@jupyter-widgets/controls",
          "model_name": "HTMLModel",
          "model_module_version": "1.5.0",
          "state": {
            "_dom_classes": [],
            "_model_module": "@jupyter-widgets/controls",
            "_model_module_version": "1.5.0",
            "_model_name": "HTMLModel",
            "_view_count": null,
            "_view_module": "@jupyter-widgets/controls",
            "_view_module_version": "1.5.0",
            "_view_name": "HTMLView",
            "description": "",
            "description_tooltip": null,
            "layout": "IPY_MODEL_5d2ffe5474aa4338879d353a7207f7c5",
            "placeholder": "​",
            "style": "IPY_MODEL_2af212f84f624a79a51278858d3511ea",
            "value": "100%"
          }
        },
        "c695af58b25d44b0bba0d19eb3b4923c": {
          "model_module": "@jupyter-widgets/controls",
          "model_name": "FloatProgressModel",
          "model_module_version": "1.5.0",
          "state": {
            "_dom_classes": [],
            "_model_module": "@jupyter-widgets/controls",
            "_model_module_version": "1.5.0",
            "_model_name": "FloatProgressModel",
            "_view_count": null,
            "_view_module": "@jupyter-widgets/controls",
            "_view_module_version": "1.5.0",
            "_view_name": "ProgressView",
            "bar_style": "success",
            "description": "",
            "description_tooltip": null,
            "layout": "IPY_MODEL_00cc5e3eb64f41119f18c4eb1b025ad4",
            "max": 46468,
            "min": 0,
            "orientation": "horizontal",
            "style": "IPY_MODEL_64f09362019144e6a3fe9ac209b25592",
            "value": 46468
          }
        },
        "b5ba120a26004ed7bef9012d5e7a768e": {
          "model_module": "@jupyter-widgets/controls",
          "model_name": "HTMLModel",
          "model_module_version": "1.5.0",
          "state": {
            "_dom_classes": [],
            "_model_module": "@jupyter-widgets/controls",
            "_model_module_version": "1.5.0",
            "_model_name": "HTMLModel",
            "_view_count": null,
            "_view_module": "@jupyter-widgets/controls",
            "_view_module_version": "1.5.0",
            "_view_name": "HTMLView",
            "description": "",
            "description_tooltip": null,
            "layout": "IPY_MODEL_121bcef1b1e74ab091aba18af8827e0b",
            "placeholder": "​",
            "style": "IPY_MODEL_4846f959da67412d81889ac7ce23f764",
            "value": " 46468/46468 [00:00&lt;00:00, 450839.36it/s]"
          }
        },
        "1a1ba9deac7f48ae8b27da698e748a11": {
          "model_module": "@jupyter-widgets/base",
          "model_name": "LayoutModel",
          "model_module_version": "1.2.0",
          "state": {
            "_model_module": "@jupyter-widgets/base",
            "_model_module_version": "1.2.0",
            "_model_name": "LayoutModel",
            "_view_count": null,
            "_view_module": "@jupyter-widgets/base",
            "_view_module_version": "1.2.0",
            "_view_name": "LayoutView",
            "align_content": null,
            "align_items": null,
            "align_self": null,
            "border": null,
            "bottom": null,
            "display": null,
            "flex": null,
            "flex_flow": null,
            "grid_area": null,
            "grid_auto_columns": null,
            "grid_auto_flow": null,
            "grid_auto_rows": null,
            "grid_column": null,
            "grid_gap": null,
            "grid_row": null,
            "grid_template_areas": null,
            "grid_template_columns": null,
            "grid_template_rows": null,
            "height": null,
            "justify_content": null,
            "justify_items": null,
            "left": null,
            "margin": null,
            "max_height": null,
            "max_width": null,
            "min_height": null,
            "min_width": null,
            "object_fit": null,
            "object_position": null,
            "order": null,
            "overflow": null,
            "overflow_x": null,
            "overflow_y": null,
            "padding": null,
            "right": null,
            "top": null,
            "visibility": null,
            "width": null
          }
        },
        "5d2ffe5474aa4338879d353a7207f7c5": {
          "model_module": "@jupyter-widgets/base",
          "model_name": "LayoutModel",
          "model_module_version": "1.2.0",
          "state": {
            "_model_module": "@jupyter-widgets/base",
            "_model_module_version": "1.2.0",
            "_model_name": "LayoutModel",
            "_view_count": null,
            "_view_module": "@jupyter-widgets/base",
            "_view_module_version": "1.2.0",
            "_view_name": "LayoutView",
            "align_content": null,
            "align_items": null,
            "align_self": null,
            "border": null,
            "bottom": null,
            "display": null,
            "flex": null,
            "flex_flow": null,
            "grid_area": null,
            "grid_auto_columns": null,
            "grid_auto_flow": null,
            "grid_auto_rows": null,
            "grid_column": null,
            "grid_gap": null,
            "grid_row": null,
            "grid_template_areas": null,
            "grid_template_columns": null,
            "grid_template_rows": null,
            "height": null,
            "justify_content": null,
            "justify_items": null,
            "left": null,
            "margin": null,
            "max_height": null,
            "max_width": null,
            "min_height": null,
            "min_width": null,
            "object_fit": null,
            "object_position": null,
            "order": null,
            "overflow": null,
            "overflow_x": null,
            "overflow_y": null,
            "padding": null,
            "right": null,
            "top": null,
            "visibility": null,
            "width": null
          }
        },
        "2af212f84f624a79a51278858d3511ea": {
          "model_module": "@jupyter-widgets/controls",
          "model_name": "DescriptionStyleModel",
          "model_module_version": "1.5.0",
          "state": {
            "_model_module": "@jupyter-widgets/controls",
            "_model_module_version": "1.5.0",
            "_model_name": "DescriptionStyleModel",
            "_view_count": null,
            "_view_module": "@jupyter-widgets/base",
            "_view_module_version": "1.2.0",
            "_view_name": "StyleView",
            "description_width": ""
          }
        },
        "00cc5e3eb64f41119f18c4eb1b025ad4": {
          "model_module": "@jupyter-widgets/base",
          "model_name": "LayoutModel",
          "model_module_version": "1.2.0",
          "state": {
            "_model_module": "@jupyter-widgets/base",
            "_model_module_version": "1.2.0",
            "_model_name": "LayoutModel",
            "_view_count": null,
            "_view_module": "@jupyter-widgets/base",
            "_view_module_version": "1.2.0",
            "_view_name": "LayoutView",
            "align_content": null,
            "align_items": null,
            "align_self": null,
            "border": null,
            "bottom": null,
            "display": null,
            "flex": null,
            "flex_flow": null,
            "grid_area": null,
            "grid_auto_columns": null,
            "grid_auto_flow": null,
            "grid_auto_rows": null,
            "grid_column": null,
            "grid_gap": null,
            "grid_row": null,
            "grid_template_areas": null,
            "grid_template_columns": null,
            "grid_template_rows": null,
            "height": null,
            "justify_content": null,
            "justify_items": null,
            "left": null,
            "margin": null,
            "max_height": null,
            "max_width": null,
            "min_height": null,
            "min_width": null,
            "object_fit": null,
            "object_position": null,
            "order": null,
            "overflow": null,
            "overflow_x": null,
            "overflow_y": null,
            "padding": null,
            "right": null,
            "top": null,
            "visibility": null,
            "width": null
          }
        },
        "64f09362019144e6a3fe9ac209b25592": {
          "model_module": "@jupyter-widgets/controls",
          "model_name": "ProgressStyleModel",
          "model_module_version": "1.5.0",
          "state": {
            "_model_module": "@jupyter-widgets/controls",
            "_model_module_version": "1.5.0",
            "_model_name": "ProgressStyleModel",
            "_view_count": null,
            "_view_module": "@jupyter-widgets/base",
            "_view_module_version": "1.2.0",
            "_view_name": "StyleView",
            "bar_color": null,
            "description_width": ""
          }
        },
        "121bcef1b1e74ab091aba18af8827e0b": {
          "model_module": "@jupyter-widgets/base",
          "model_name": "LayoutModel",
          "model_module_version": "1.2.0",
          "state": {
            "_model_module": "@jupyter-widgets/base",
            "_model_module_version": "1.2.0",
            "_model_name": "LayoutModel",
            "_view_count": null,
            "_view_module": "@jupyter-widgets/base",
            "_view_module_version": "1.2.0",
            "_view_name": "LayoutView",
            "align_content": null,
            "align_items": null,
            "align_self": null,
            "border": null,
            "bottom": null,
            "display": null,
            "flex": null,
            "flex_flow": null,
            "grid_area": null,
            "grid_auto_columns": null,
            "grid_auto_flow": null,
            "grid_auto_rows": null,
            "grid_column": null,
            "grid_gap": null,
            "grid_row": null,
            "grid_template_areas": null,
            "grid_template_columns": null,
            "grid_template_rows": null,
            "height": null,
            "justify_content": null,
            "justify_items": null,
            "left": null,
            "margin": null,
            "max_height": null,
            "max_width": null,
            "min_height": null,
            "min_width": null,
            "object_fit": null,
            "object_position": null,
            "order": null,
            "overflow": null,
            "overflow_x": null,
            "overflow_y": null,
            "padding": null,
            "right": null,
            "top": null,
            "visibility": null,
            "width": null
          }
        },
        "4846f959da67412d81889ac7ce23f764": {
          "model_module": "@jupyter-widgets/controls",
          "model_name": "DescriptionStyleModel",
          "model_module_version": "1.5.0",
          "state": {
            "_model_module": "@jupyter-widgets/controls",
            "_model_module_version": "1.5.0",
            "_model_name": "DescriptionStyleModel",
            "_view_count": null,
            "_view_module": "@jupyter-widgets/base",
            "_view_module_version": "1.2.0",
            "_view_name": "StyleView",
            "description_width": ""
          }
        },
        "c02554d41d1c4c0591aece2ff58b904f": {
          "model_module": "@jupyter-widgets/controls",
          "model_name": "HBoxModel",
          "model_module_version": "1.5.0",
          "state": {
            "_dom_classes": [],
            "_model_module": "@jupyter-widgets/controls",
            "_model_module_version": "1.5.0",
            "_model_name": "HBoxModel",
            "_view_count": null,
            "_view_module": "@jupyter-widgets/controls",
            "_view_module_version": "1.5.0",
            "_view_name": "HBoxView",
            "box_style": "",
            "children": [
              "IPY_MODEL_6bd2aae0d6274709bd1152edd9574c02",
              "IPY_MODEL_89c28c0ec8f7460886df1a5f677f7b60",
              "IPY_MODEL_b851477e63c447ba8e97f48aaba14f4b"
            ],
            "layout": "IPY_MODEL_dc6607b8293245a99186ddff4f02abe7"
          }
        },
        "6bd2aae0d6274709bd1152edd9574c02": {
          "model_module": "@jupyter-widgets/controls",
          "model_name": "HTMLModel",
          "model_module_version": "1.5.0",
          "state": {
            "_dom_classes": [],
            "_model_module": "@jupyter-widgets/controls",
            "_model_module_version": "1.5.0",
            "_model_name": "HTMLModel",
            "_view_count": null,
            "_view_module": "@jupyter-widgets/controls",
            "_view_module_version": "1.5.0",
            "_view_name": "HTMLView",
            "description": "",
            "description_tooltip": null,
            "layout": "IPY_MODEL_8eb3ae0e1bb0480c9ef8d8c10032887c",
            "placeholder": "​",
            "style": "IPY_MODEL_2132303fec884163a0b42728711c9dd9",
            "value": "Downloading (…)okenizer_config.json: 100%"
          }
        },
        "89c28c0ec8f7460886df1a5f677f7b60": {
          "model_module": "@jupyter-widgets/controls",
          "model_name": "FloatProgressModel",
          "model_module_version": "1.5.0",
          "state": {
            "_dom_classes": [],
            "_model_module": "@jupyter-widgets/controls",
            "_model_module_version": "1.5.0",
            "_model_name": "FloatProgressModel",
            "_view_count": null,
            "_view_module": "@jupyter-widgets/controls",
            "_view_module_version": "1.5.0",
            "_view_name": "ProgressView",
            "bar_style": "success",
            "description": "",
            "description_tooltip": null,
            "layout": "IPY_MODEL_b85feb02533645e6919d6f87052eeb6c",
            "max": 28,
            "min": 0,
            "orientation": "horizontal",
            "style": "IPY_MODEL_d3909c7c0a6a483dbd2292b9d5554c2a",
            "value": 28
          }
        },
        "b851477e63c447ba8e97f48aaba14f4b": {
          "model_module": "@jupyter-widgets/controls",
          "model_name": "HTMLModel",
          "model_module_version": "1.5.0",
          "state": {
            "_dom_classes": [],
            "_model_module": "@jupyter-widgets/controls",
            "_model_module_version": "1.5.0",
            "_model_name": "HTMLModel",
            "_view_count": null,
            "_view_module": "@jupyter-widgets/controls",
            "_view_module_version": "1.5.0",
            "_view_name": "HTMLView",
            "description": "",
            "description_tooltip": null,
            "layout": "IPY_MODEL_7307e8b25231409b9b3c256eb1bf4fcc",
            "placeholder": "​",
            "style": "IPY_MODEL_0e4ac7c6fa2f46d49a7849f64b0274e1",
            "value": " 28.0/28.0 [00:00&lt;00:00, 498B/s]"
          }
        },
        "dc6607b8293245a99186ddff4f02abe7": {
          "model_module": "@jupyter-widgets/base",
          "model_name": "LayoutModel",
          "model_module_version": "1.2.0",
          "state": {
            "_model_module": "@jupyter-widgets/base",
            "_model_module_version": "1.2.0",
            "_model_name": "LayoutModel",
            "_view_count": null,
            "_view_module": "@jupyter-widgets/base",
            "_view_module_version": "1.2.0",
            "_view_name": "LayoutView",
            "align_content": null,
            "align_items": null,
            "align_self": null,
            "border": null,
            "bottom": null,
            "display": null,
            "flex": null,
            "flex_flow": null,
            "grid_area": null,
            "grid_auto_columns": null,
            "grid_auto_flow": null,
            "grid_auto_rows": null,
            "grid_column": null,
            "grid_gap": null,
            "grid_row": null,
            "grid_template_areas": null,
            "grid_template_columns": null,
            "grid_template_rows": null,
            "height": null,
            "justify_content": null,
            "justify_items": null,
            "left": null,
            "margin": null,
            "max_height": null,
            "max_width": null,
            "min_height": null,
            "min_width": null,
            "object_fit": null,
            "object_position": null,
            "order": null,
            "overflow": null,
            "overflow_x": null,
            "overflow_y": null,
            "padding": null,
            "right": null,
            "top": null,
            "visibility": null,
            "width": null
          }
        },
        "8eb3ae0e1bb0480c9ef8d8c10032887c": {
          "model_module": "@jupyter-widgets/base",
          "model_name": "LayoutModel",
          "model_module_version": "1.2.0",
          "state": {
            "_model_module": "@jupyter-widgets/base",
            "_model_module_version": "1.2.0",
            "_model_name": "LayoutModel",
            "_view_count": null,
            "_view_module": "@jupyter-widgets/base",
            "_view_module_version": "1.2.0",
            "_view_name": "LayoutView",
            "align_content": null,
            "align_items": null,
            "align_self": null,
            "border": null,
            "bottom": null,
            "display": null,
            "flex": null,
            "flex_flow": null,
            "grid_area": null,
            "grid_auto_columns": null,
            "grid_auto_flow": null,
            "grid_auto_rows": null,
            "grid_column": null,
            "grid_gap": null,
            "grid_row": null,
            "grid_template_areas": null,
            "grid_template_columns": null,
            "grid_template_rows": null,
            "height": null,
            "justify_content": null,
            "justify_items": null,
            "left": null,
            "margin": null,
            "max_height": null,
            "max_width": null,
            "min_height": null,
            "min_width": null,
            "object_fit": null,
            "object_position": null,
            "order": null,
            "overflow": null,
            "overflow_x": null,
            "overflow_y": null,
            "padding": null,
            "right": null,
            "top": null,
            "visibility": null,
            "width": null
          }
        },
        "2132303fec884163a0b42728711c9dd9": {
          "model_module": "@jupyter-widgets/controls",
          "model_name": "DescriptionStyleModel",
          "model_module_version": "1.5.0",
          "state": {
            "_model_module": "@jupyter-widgets/controls",
            "_model_module_version": "1.5.0",
            "_model_name": "DescriptionStyleModel",
            "_view_count": null,
            "_view_module": "@jupyter-widgets/base",
            "_view_module_version": "1.2.0",
            "_view_name": "StyleView",
            "description_width": ""
          }
        },
        "b85feb02533645e6919d6f87052eeb6c": {
          "model_module": "@jupyter-widgets/base",
          "model_name": "LayoutModel",
          "model_module_version": "1.2.0",
          "state": {
            "_model_module": "@jupyter-widgets/base",
            "_model_module_version": "1.2.0",
            "_model_name": "LayoutModel",
            "_view_count": null,
            "_view_module": "@jupyter-widgets/base",
            "_view_module_version": "1.2.0",
            "_view_name": "LayoutView",
            "align_content": null,
            "align_items": null,
            "align_self": null,
            "border": null,
            "bottom": null,
            "display": null,
            "flex": null,
            "flex_flow": null,
            "grid_area": null,
            "grid_auto_columns": null,
            "grid_auto_flow": null,
            "grid_auto_rows": null,
            "grid_column": null,
            "grid_gap": null,
            "grid_row": null,
            "grid_template_areas": null,
            "grid_template_columns": null,
            "grid_template_rows": null,
            "height": null,
            "justify_content": null,
            "justify_items": null,
            "left": null,
            "margin": null,
            "max_height": null,
            "max_width": null,
            "min_height": null,
            "min_width": null,
            "object_fit": null,
            "object_position": null,
            "order": null,
            "overflow": null,
            "overflow_x": null,
            "overflow_y": null,
            "padding": null,
            "right": null,
            "top": null,
            "visibility": null,
            "width": null
          }
        },
        "d3909c7c0a6a483dbd2292b9d5554c2a": {
          "model_module": "@jupyter-widgets/controls",
          "model_name": "ProgressStyleModel",
          "model_module_version": "1.5.0",
          "state": {
            "_model_module": "@jupyter-widgets/controls",
            "_model_module_version": "1.5.0",
            "_model_name": "ProgressStyleModel",
            "_view_count": null,
            "_view_module": "@jupyter-widgets/base",
            "_view_module_version": "1.2.0",
            "_view_name": "StyleView",
            "bar_color": null,
            "description_width": ""
          }
        },
        "7307e8b25231409b9b3c256eb1bf4fcc": {
          "model_module": "@jupyter-widgets/base",
          "model_name": "LayoutModel",
          "model_module_version": "1.2.0",
          "state": {
            "_model_module": "@jupyter-widgets/base",
            "_model_module_version": "1.2.0",
            "_model_name": "LayoutModel",
            "_view_count": null,
            "_view_module": "@jupyter-widgets/base",
            "_view_module_version": "1.2.0",
            "_view_name": "LayoutView",
            "align_content": null,
            "align_items": null,
            "align_self": null,
            "border": null,
            "bottom": null,
            "display": null,
            "flex": null,
            "flex_flow": null,
            "grid_area": null,
            "grid_auto_columns": null,
            "grid_auto_flow": null,
            "grid_auto_rows": null,
            "grid_column": null,
            "grid_gap": null,
            "grid_row": null,
            "grid_template_areas": null,
            "grid_template_columns": null,
            "grid_template_rows": null,
            "height": null,
            "justify_content": null,
            "justify_items": null,
            "left": null,
            "margin": null,
            "max_height": null,
            "max_width": null,
            "min_height": null,
            "min_width": null,
            "object_fit": null,
            "object_position": null,
            "order": null,
            "overflow": null,
            "overflow_x": null,
            "overflow_y": null,
            "padding": null,
            "right": null,
            "top": null,
            "visibility": null,
            "width": null
          }
        },
        "0e4ac7c6fa2f46d49a7849f64b0274e1": {
          "model_module": "@jupyter-widgets/controls",
          "model_name": "DescriptionStyleModel",
          "model_module_version": "1.5.0",
          "state": {
            "_model_module": "@jupyter-widgets/controls",
            "_model_module_version": "1.5.0",
            "_model_name": "DescriptionStyleModel",
            "_view_count": null,
            "_view_module": "@jupyter-widgets/base",
            "_view_module_version": "1.2.0",
            "_view_name": "StyleView",
            "description_width": ""
          }
        },
        "39d1175f617a43c78f8f28d1e22711ee": {
          "model_module": "@jupyter-widgets/controls",
          "model_name": "HBoxModel",
          "model_module_version": "1.5.0",
          "state": {
            "_dom_classes": [],
            "_model_module": "@jupyter-widgets/controls",
            "_model_module_version": "1.5.0",
            "_model_name": "HBoxModel",
            "_view_count": null,
            "_view_module": "@jupyter-widgets/controls",
            "_view_module_version": "1.5.0",
            "_view_name": "HBoxView",
            "box_style": "",
            "children": [
              "IPY_MODEL_e264797e574b4b61bed2815c21ac7565",
              "IPY_MODEL_6222eb5fd96549d18b74196e8b8daf96",
              "IPY_MODEL_4a294e3fbad740d387edbab90135fbcc"
            ],
            "layout": "IPY_MODEL_482edaa019924cc6959e4785d12acab7"
          }
        },
        "e264797e574b4b61bed2815c21ac7565": {
          "model_module": "@jupyter-widgets/controls",
          "model_name": "HTMLModel",
          "model_module_version": "1.5.0",
          "state": {
            "_dom_classes": [],
            "_model_module": "@jupyter-widgets/controls",
            "_model_module_version": "1.5.0",
            "_model_name": "HTMLModel",
            "_view_count": null,
            "_view_module": "@jupyter-widgets/controls",
            "_view_module_version": "1.5.0",
            "_view_name": "HTMLView",
            "description": "",
            "description_tooltip": null,
            "layout": "IPY_MODEL_376c6ee3d1b54eebaff8e78677272246",
            "placeholder": "​",
            "style": "IPY_MODEL_60b9ccf5f82c480d851b9652a800df36",
            "value": "Downloading (…)lve/main/config.json: 100%"
          }
        },
        "6222eb5fd96549d18b74196e8b8daf96": {
          "model_module": "@jupyter-widgets/controls",
          "model_name": "FloatProgressModel",
          "model_module_version": "1.5.0",
          "state": {
            "_dom_classes": [],
            "_model_module": "@jupyter-widgets/controls",
            "_model_module_version": "1.5.0",
            "_model_name": "FloatProgressModel",
            "_view_count": null,
            "_view_module": "@jupyter-widgets/controls",
            "_view_module_version": "1.5.0",
            "_view_name": "ProgressView",
            "bar_style": "success",
            "description": "",
            "description_tooltip": null,
            "layout": "IPY_MODEL_d4db6a8de84243c7b66bd4fb6971925e",
            "max": 570,
            "min": 0,
            "orientation": "horizontal",
            "style": "IPY_MODEL_2ac05d6772fe4732b58002ced1275b32",
            "value": 570
          }
        },
        "4a294e3fbad740d387edbab90135fbcc": {
          "model_module": "@jupyter-widgets/controls",
          "model_name": "HTMLModel",
          "model_module_version": "1.5.0",
          "state": {
            "_dom_classes": [],
            "_model_module": "@jupyter-widgets/controls",
            "_model_module_version": "1.5.0",
            "_model_name": "HTMLModel",
            "_view_count": null,
            "_view_module": "@jupyter-widgets/controls",
            "_view_module_version": "1.5.0",
            "_view_name": "HTMLView",
            "description": "",
            "description_tooltip": null,
            "layout": "IPY_MODEL_c7d7a2ff387642a8805dcc067d2def86",
            "placeholder": "​",
            "style": "IPY_MODEL_9f63af9886fc4dd5871283d419389466",
            "value": " 570/570 [00:00&lt;00:00, 18.0kB/s]"
          }
        },
        "482edaa019924cc6959e4785d12acab7": {
          "model_module": "@jupyter-widgets/base",
          "model_name": "LayoutModel",
          "model_module_version": "1.2.0",
          "state": {
            "_model_module": "@jupyter-widgets/base",
            "_model_module_version": "1.2.0",
            "_model_name": "LayoutModel",
            "_view_count": null,
            "_view_module": "@jupyter-widgets/base",
            "_view_module_version": "1.2.0",
            "_view_name": "LayoutView",
            "align_content": null,
            "align_items": null,
            "align_self": null,
            "border": null,
            "bottom": null,
            "display": null,
            "flex": null,
            "flex_flow": null,
            "grid_area": null,
            "grid_auto_columns": null,
            "grid_auto_flow": null,
            "grid_auto_rows": null,
            "grid_column": null,
            "grid_gap": null,
            "grid_row": null,
            "grid_template_areas": null,
            "grid_template_columns": null,
            "grid_template_rows": null,
            "height": null,
            "justify_content": null,
            "justify_items": null,
            "left": null,
            "margin": null,
            "max_height": null,
            "max_width": null,
            "min_height": null,
            "min_width": null,
            "object_fit": null,
            "object_position": null,
            "order": null,
            "overflow": null,
            "overflow_x": null,
            "overflow_y": null,
            "padding": null,
            "right": null,
            "top": null,
            "visibility": null,
            "width": null
          }
        },
        "376c6ee3d1b54eebaff8e78677272246": {
          "model_module": "@jupyter-widgets/base",
          "model_name": "LayoutModel",
          "model_module_version": "1.2.0",
          "state": {
            "_model_module": "@jupyter-widgets/base",
            "_model_module_version": "1.2.0",
            "_model_name": "LayoutModel",
            "_view_count": null,
            "_view_module": "@jupyter-widgets/base",
            "_view_module_version": "1.2.0",
            "_view_name": "LayoutView",
            "align_content": null,
            "align_items": null,
            "align_self": null,
            "border": null,
            "bottom": null,
            "display": null,
            "flex": null,
            "flex_flow": null,
            "grid_area": null,
            "grid_auto_columns": null,
            "grid_auto_flow": null,
            "grid_auto_rows": null,
            "grid_column": null,
            "grid_gap": null,
            "grid_row": null,
            "grid_template_areas": null,
            "grid_template_columns": null,
            "grid_template_rows": null,
            "height": null,
            "justify_content": null,
            "justify_items": null,
            "left": null,
            "margin": null,
            "max_height": null,
            "max_width": null,
            "min_height": null,
            "min_width": null,
            "object_fit": null,
            "object_position": null,
            "order": null,
            "overflow": null,
            "overflow_x": null,
            "overflow_y": null,
            "padding": null,
            "right": null,
            "top": null,
            "visibility": null,
            "width": null
          }
        },
        "60b9ccf5f82c480d851b9652a800df36": {
          "model_module": "@jupyter-widgets/controls",
          "model_name": "DescriptionStyleModel",
          "model_module_version": "1.5.0",
          "state": {
            "_model_module": "@jupyter-widgets/controls",
            "_model_module_version": "1.5.0",
            "_model_name": "DescriptionStyleModel",
            "_view_count": null,
            "_view_module": "@jupyter-widgets/base",
            "_view_module_version": "1.2.0",
            "_view_name": "StyleView",
            "description_width": ""
          }
        },
        "d4db6a8de84243c7b66bd4fb6971925e": {
          "model_module": "@jupyter-widgets/base",
          "model_name": "LayoutModel",
          "model_module_version": "1.2.0",
          "state": {
            "_model_module": "@jupyter-widgets/base",
            "_model_module_version": "1.2.0",
            "_model_name": "LayoutModel",
            "_view_count": null,
            "_view_module": "@jupyter-widgets/base",
            "_view_module_version": "1.2.0",
            "_view_name": "LayoutView",
            "align_content": null,
            "align_items": null,
            "align_self": null,
            "border": null,
            "bottom": null,
            "display": null,
            "flex": null,
            "flex_flow": null,
            "grid_area": null,
            "grid_auto_columns": null,
            "grid_auto_flow": null,
            "grid_auto_rows": null,
            "grid_column": null,
            "grid_gap": null,
            "grid_row": null,
            "grid_template_areas": null,
            "grid_template_columns": null,
            "grid_template_rows": null,
            "height": null,
            "justify_content": null,
            "justify_items": null,
            "left": null,
            "margin": null,
            "max_height": null,
            "max_width": null,
            "min_height": null,
            "min_width": null,
            "object_fit": null,
            "object_position": null,
            "order": null,
            "overflow": null,
            "overflow_x": null,
            "overflow_y": null,
            "padding": null,
            "right": null,
            "top": null,
            "visibility": null,
            "width": null
          }
        },
        "2ac05d6772fe4732b58002ced1275b32": {
          "model_module": "@jupyter-widgets/controls",
          "model_name": "ProgressStyleModel",
          "model_module_version": "1.5.0",
          "state": {
            "_model_module": "@jupyter-widgets/controls",
            "_model_module_version": "1.5.0",
            "_model_name": "ProgressStyleModel",
            "_view_count": null,
            "_view_module": "@jupyter-widgets/base",
            "_view_module_version": "1.2.0",
            "_view_name": "StyleView",
            "bar_color": null,
            "description_width": ""
          }
        },
        "c7d7a2ff387642a8805dcc067d2def86": {
          "model_module": "@jupyter-widgets/base",
          "model_name": "LayoutModel",
          "model_module_version": "1.2.0",
          "state": {
            "_model_module": "@jupyter-widgets/base",
            "_model_module_version": "1.2.0",
            "_model_name": "LayoutModel",
            "_view_count": null,
            "_view_module": "@jupyter-widgets/base",
            "_view_module_version": "1.2.0",
            "_view_name": "LayoutView",
            "align_content": null,
            "align_items": null,
            "align_self": null,
            "border": null,
            "bottom": null,
            "display": null,
            "flex": null,
            "flex_flow": null,
            "grid_area": null,
            "grid_auto_columns": null,
            "grid_auto_flow": null,
            "grid_auto_rows": null,
            "grid_column": null,
            "grid_gap": null,
            "grid_row": null,
            "grid_template_areas": null,
            "grid_template_columns": null,
            "grid_template_rows": null,
            "height": null,
            "justify_content": null,
            "justify_items": null,
            "left": null,
            "margin": null,
            "max_height": null,
            "max_width": null,
            "min_height": null,
            "min_width": null,
            "object_fit": null,
            "object_position": null,
            "order": null,
            "overflow": null,
            "overflow_x": null,
            "overflow_y": null,
            "padding": null,
            "right": null,
            "top": null,
            "visibility": null,
            "width": null
          }
        },
        "9f63af9886fc4dd5871283d419389466": {
          "model_module": "@jupyter-widgets/controls",
          "model_name": "DescriptionStyleModel",
          "model_module_version": "1.5.0",
          "state": {
            "_model_module": "@jupyter-widgets/controls",
            "_model_module_version": "1.5.0",
            "_model_name": "DescriptionStyleModel",
            "_view_count": null,
            "_view_module": "@jupyter-widgets/base",
            "_view_module_version": "1.2.0",
            "_view_name": "StyleView",
            "description_width": ""
          }
        },
        "a8c0bcabf6394a008546842859663349": {
          "model_module": "@jupyter-widgets/controls",
          "model_name": "HBoxModel",
          "model_module_version": "1.5.0",
          "state": {
            "_dom_classes": [],
            "_model_module": "@jupyter-widgets/controls",
            "_model_module_version": "1.5.0",
            "_model_name": "HBoxModel",
            "_view_count": null,
            "_view_module": "@jupyter-widgets/controls",
            "_view_module_version": "1.5.0",
            "_view_name": "HBoxView",
            "box_style": "",
            "children": [
              "IPY_MODEL_f9119a85fede4152b20ab627eea6a46e",
              "IPY_MODEL_d0ae94c244ca429f8353344a9f917b10",
              "IPY_MODEL_a9caef911ed44737802a622b80eeefd2"
            ],
            "layout": "IPY_MODEL_2c9f1a7b360e41c68b70ceef263d3067"
          }
        },
        "f9119a85fede4152b20ab627eea6a46e": {
          "model_module": "@jupyter-widgets/controls",
          "model_name": "HTMLModel",
          "model_module_version": "1.5.0",
          "state": {
            "_dom_classes": [],
            "_model_module": "@jupyter-widgets/controls",
            "_model_module_version": "1.5.0",
            "_model_name": "HTMLModel",
            "_view_count": null,
            "_view_module": "@jupyter-widgets/controls",
            "_view_module_version": "1.5.0",
            "_view_name": "HTMLView",
            "description": "",
            "description_tooltip": null,
            "layout": "IPY_MODEL_395957ae57fe41649e9afecabfae65a4",
            "placeholder": "​",
            "style": "IPY_MODEL_446f103898494b82aeeaec290a2ab003",
            "value": "Downloading (…)solve/main/vocab.txt: 100%"
          }
        },
        "d0ae94c244ca429f8353344a9f917b10": {
          "model_module": "@jupyter-widgets/controls",
          "model_name": "FloatProgressModel",
          "model_module_version": "1.5.0",
          "state": {
            "_dom_classes": [],
            "_model_module": "@jupyter-widgets/controls",
            "_model_module_version": "1.5.0",
            "_model_name": "FloatProgressModel",
            "_view_count": null,
            "_view_module": "@jupyter-widgets/controls",
            "_view_module_version": "1.5.0",
            "_view_name": "ProgressView",
            "bar_style": "success",
            "description": "",
            "description_tooltip": null,
            "layout": "IPY_MODEL_0be7358e920d4d979241238c619f279c",
            "max": 231508,
            "min": 0,
            "orientation": "horizontal",
            "style": "IPY_MODEL_d6e3719f47dc4b2c9d12d7ba67203086",
            "value": 231508
          }
        },
        "a9caef911ed44737802a622b80eeefd2": {
          "model_module": "@jupyter-widgets/controls",
          "model_name": "HTMLModel",
          "model_module_version": "1.5.0",
          "state": {
            "_dom_classes": [],
            "_model_module": "@jupyter-widgets/controls",
            "_model_module_version": "1.5.0",
            "_model_name": "HTMLModel",
            "_view_count": null,
            "_view_module": "@jupyter-widgets/controls",
            "_view_module_version": "1.5.0",
            "_view_name": "HTMLView",
            "description": "",
            "description_tooltip": null,
            "layout": "IPY_MODEL_43a3ae357a1f45ed97ccf4c090ee39cc",
            "placeholder": "​",
            "style": "IPY_MODEL_16becb6967ba4017a1447fd6a3d70749",
            "value": " 232k/232k [00:00&lt;00:00, 1.45MB/s]"
          }
        },
        "2c9f1a7b360e41c68b70ceef263d3067": {
          "model_module": "@jupyter-widgets/base",
          "model_name": "LayoutModel",
          "model_module_version": "1.2.0",
          "state": {
            "_model_module": "@jupyter-widgets/base",
            "_model_module_version": "1.2.0",
            "_model_name": "LayoutModel",
            "_view_count": null,
            "_view_module": "@jupyter-widgets/base",
            "_view_module_version": "1.2.0",
            "_view_name": "LayoutView",
            "align_content": null,
            "align_items": null,
            "align_self": null,
            "border": null,
            "bottom": null,
            "display": null,
            "flex": null,
            "flex_flow": null,
            "grid_area": null,
            "grid_auto_columns": null,
            "grid_auto_flow": null,
            "grid_auto_rows": null,
            "grid_column": null,
            "grid_gap": null,
            "grid_row": null,
            "grid_template_areas": null,
            "grid_template_columns": null,
            "grid_template_rows": null,
            "height": null,
            "justify_content": null,
            "justify_items": null,
            "left": null,
            "margin": null,
            "max_height": null,
            "max_width": null,
            "min_height": null,
            "min_width": null,
            "object_fit": null,
            "object_position": null,
            "order": null,
            "overflow": null,
            "overflow_x": null,
            "overflow_y": null,
            "padding": null,
            "right": null,
            "top": null,
            "visibility": null,
            "width": null
          }
        },
        "395957ae57fe41649e9afecabfae65a4": {
          "model_module": "@jupyter-widgets/base",
          "model_name": "LayoutModel",
          "model_module_version": "1.2.0",
          "state": {
            "_model_module": "@jupyter-widgets/base",
            "_model_module_version": "1.2.0",
            "_model_name": "LayoutModel",
            "_view_count": null,
            "_view_module": "@jupyter-widgets/base",
            "_view_module_version": "1.2.0",
            "_view_name": "LayoutView",
            "align_content": null,
            "align_items": null,
            "align_self": null,
            "border": null,
            "bottom": null,
            "display": null,
            "flex": null,
            "flex_flow": null,
            "grid_area": null,
            "grid_auto_columns": null,
            "grid_auto_flow": null,
            "grid_auto_rows": null,
            "grid_column": null,
            "grid_gap": null,
            "grid_row": null,
            "grid_template_areas": null,
            "grid_template_columns": null,
            "grid_template_rows": null,
            "height": null,
            "justify_content": null,
            "justify_items": null,
            "left": null,
            "margin": null,
            "max_height": null,
            "max_width": null,
            "min_height": null,
            "min_width": null,
            "object_fit": null,
            "object_position": null,
            "order": null,
            "overflow": null,
            "overflow_x": null,
            "overflow_y": null,
            "padding": null,
            "right": null,
            "top": null,
            "visibility": null,
            "width": null
          }
        },
        "446f103898494b82aeeaec290a2ab003": {
          "model_module": "@jupyter-widgets/controls",
          "model_name": "DescriptionStyleModel",
          "model_module_version": "1.5.0",
          "state": {
            "_model_module": "@jupyter-widgets/controls",
            "_model_module_version": "1.5.0",
            "_model_name": "DescriptionStyleModel",
            "_view_count": null,
            "_view_module": "@jupyter-widgets/base",
            "_view_module_version": "1.2.0",
            "_view_name": "StyleView",
            "description_width": ""
          }
        },
        "0be7358e920d4d979241238c619f279c": {
          "model_module": "@jupyter-widgets/base",
          "model_name": "LayoutModel",
          "model_module_version": "1.2.0",
          "state": {
            "_model_module": "@jupyter-widgets/base",
            "_model_module_version": "1.2.0",
            "_model_name": "LayoutModel",
            "_view_count": null,
            "_view_module": "@jupyter-widgets/base",
            "_view_module_version": "1.2.0",
            "_view_name": "LayoutView",
            "align_content": null,
            "align_items": null,
            "align_self": null,
            "border": null,
            "bottom": null,
            "display": null,
            "flex": null,
            "flex_flow": null,
            "grid_area": null,
            "grid_auto_columns": null,
            "grid_auto_flow": null,
            "grid_auto_rows": null,
            "grid_column": null,
            "grid_gap": null,
            "grid_row": null,
            "grid_template_areas": null,
            "grid_template_columns": null,
            "grid_template_rows": null,
            "height": null,
            "justify_content": null,
            "justify_items": null,
            "left": null,
            "margin": null,
            "max_height": null,
            "max_width": null,
            "min_height": null,
            "min_width": null,
            "object_fit": null,
            "object_position": null,
            "order": null,
            "overflow": null,
            "overflow_x": null,
            "overflow_y": null,
            "padding": null,
            "right": null,
            "top": null,
            "visibility": null,
            "width": null
          }
        },
        "d6e3719f47dc4b2c9d12d7ba67203086": {
          "model_module": "@jupyter-widgets/controls",
          "model_name": "ProgressStyleModel",
          "model_module_version": "1.5.0",
          "state": {
            "_model_module": "@jupyter-widgets/controls",
            "_model_module_version": "1.5.0",
            "_model_name": "ProgressStyleModel",
            "_view_count": null,
            "_view_module": "@jupyter-widgets/base",
            "_view_module_version": "1.2.0",
            "_view_name": "StyleView",
            "bar_color": null,
            "description_width": ""
          }
        },
        "43a3ae357a1f45ed97ccf4c090ee39cc": {
          "model_module": "@jupyter-widgets/base",
          "model_name": "LayoutModel",
          "model_module_version": "1.2.0",
          "state": {
            "_model_module": "@jupyter-widgets/base",
            "_model_module_version": "1.2.0",
            "_model_name": "LayoutModel",
            "_view_count": null,
            "_view_module": "@jupyter-widgets/base",
            "_view_module_version": "1.2.0",
            "_view_name": "LayoutView",
            "align_content": null,
            "align_items": null,
            "align_self": null,
            "border": null,
            "bottom": null,
            "display": null,
            "flex": null,
            "flex_flow": null,
            "grid_area": null,
            "grid_auto_columns": null,
            "grid_auto_flow": null,
            "grid_auto_rows": null,
            "grid_column": null,
            "grid_gap": null,
            "grid_row": null,
            "grid_template_areas": null,
            "grid_template_columns": null,
            "grid_template_rows": null,
            "height": null,
            "justify_content": null,
            "justify_items": null,
            "left": null,
            "margin": null,
            "max_height": null,
            "max_width": null,
            "min_height": null,
            "min_width": null,
            "object_fit": null,
            "object_position": null,
            "order": null,
            "overflow": null,
            "overflow_x": null,
            "overflow_y": null,
            "padding": null,
            "right": null,
            "top": null,
            "visibility": null,
            "width": null
          }
        },
        "16becb6967ba4017a1447fd6a3d70749": {
          "model_module": "@jupyter-widgets/controls",
          "model_name": "DescriptionStyleModel",
          "model_module_version": "1.5.0",
          "state": {
            "_model_module": "@jupyter-widgets/controls",
            "_model_module_version": "1.5.0",
            "_model_name": "DescriptionStyleModel",
            "_view_count": null,
            "_view_module": "@jupyter-widgets/base",
            "_view_module_version": "1.2.0",
            "_view_name": "StyleView",
            "description_width": ""
          }
        },
        "138d379210074fc583a24ef929537ea4": {
          "model_module": "@jupyter-widgets/controls",
          "model_name": "HBoxModel",
          "model_module_version": "1.5.0",
          "state": {
            "_dom_classes": [],
            "_model_module": "@jupyter-widgets/controls",
            "_model_module_version": "1.5.0",
            "_model_name": "HBoxModel",
            "_view_count": null,
            "_view_module": "@jupyter-widgets/controls",
            "_view_module_version": "1.5.0",
            "_view_name": "HBoxView",
            "box_style": "",
            "children": [
              "IPY_MODEL_060b1725364540f0acda09a4a2c1072d",
              "IPY_MODEL_222c8eec42154d8e87473c40972a3c96",
              "IPY_MODEL_4250ce0484214c459b94e18cf2688467"
            ],
            "layout": "IPY_MODEL_96fd2e82cfea45fa8e97c553de375d61"
          }
        },
        "060b1725364540f0acda09a4a2c1072d": {
          "model_module": "@jupyter-widgets/controls",
          "model_name": "HTMLModel",
          "model_module_version": "1.5.0",
          "state": {
            "_dom_classes": [],
            "_model_module": "@jupyter-widgets/controls",
            "_model_module_version": "1.5.0",
            "_model_name": "HTMLModel",
            "_view_count": null,
            "_view_module": "@jupyter-widgets/controls",
            "_view_module_version": "1.5.0",
            "_view_name": "HTMLView",
            "description": "",
            "description_tooltip": null,
            "layout": "IPY_MODEL_87f954d81a304910908f7624e59f5285",
            "placeholder": "​",
            "style": "IPY_MODEL_dd01d13c1a0e4cc39e6a0995971fc6ac",
            "value": "Downloading (…)/main/tokenizer.json: 100%"
          }
        },
        "222c8eec42154d8e87473c40972a3c96": {
          "model_module": "@jupyter-widgets/controls",
          "model_name": "FloatProgressModel",
          "model_module_version": "1.5.0",
          "state": {
            "_dom_classes": [],
            "_model_module": "@jupyter-widgets/controls",
            "_model_module_version": "1.5.0",
            "_model_name": "FloatProgressModel",
            "_view_count": null,
            "_view_module": "@jupyter-widgets/controls",
            "_view_module_version": "1.5.0",
            "_view_name": "ProgressView",
            "bar_style": "success",
            "description": "",
            "description_tooltip": null,
            "layout": "IPY_MODEL_0d2d06a623ba4b60861b62d14d61252c",
            "max": 466062,
            "min": 0,
            "orientation": "horizontal",
            "style": "IPY_MODEL_b8a3474c789545c580d4db7b388adc33",
            "value": 466062
          }
        },
        "4250ce0484214c459b94e18cf2688467": {
          "model_module": "@jupyter-widgets/controls",
          "model_name": "HTMLModel",
          "model_module_version": "1.5.0",
          "state": {
            "_dom_classes": [],
            "_model_module": "@jupyter-widgets/controls",
            "_model_module_version": "1.5.0",
            "_model_name": "HTMLModel",
            "_view_count": null,
            "_view_module": "@jupyter-widgets/controls",
            "_view_module_version": "1.5.0",
            "_view_name": "HTMLView",
            "description": "",
            "description_tooltip": null,
            "layout": "IPY_MODEL_08b79b3ce7364a9c9958cb5c11cde637",
            "placeholder": "​",
            "style": "IPY_MODEL_050bdf258c264e16b6b0db89662ff48f",
            "value": " 466k/466k [00:00&lt;00:00, 5.55MB/s]"
          }
        },
        "96fd2e82cfea45fa8e97c553de375d61": {
          "model_module": "@jupyter-widgets/base",
          "model_name": "LayoutModel",
          "model_module_version": "1.2.0",
          "state": {
            "_model_module": "@jupyter-widgets/base",
            "_model_module_version": "1.2.0",
            "_model_name": "LayoutModel",
            "_view_count": null,
            "_view_module": "@jupyter-widgets/base",
            "_view_module_version": "1.2.0",
            "_view_name": "LayoutView",
            "align_content": null,
            "align_items": null,
            "align_self": null,
            "border": null,
            "bottom": null,
            "display": null,
            "flex": null,
            "flex_flow": null,
            "grid_area": null,
            "grid_auto_columns": null,
            "grid_auto_flow": null,
            "grid_auto_rows": null,
            "grid_column": null,
            "grid_gap": null,
            "grid_row": null,
            "grid_template_areas": null,
            "grid_template_columns": null,
            "grid_template_rows": null,
            "height": null,
            "justify_content": null,
            "justify_items": null,
            "left": null,
            "margin": null,
            "max_height": null,
            "max_width": null,
            "min_height": null,
            "min_width": null,
            "object_fit": null,
            "object_position": null,
            "order": null,
            "overflow": null,
            "overflow_x": null,
            "overflow_y": null,
            "padding": null,
            "right": null,
            "top": null,
            "visibility": null,
            "width": null
          }
        },
        "87f954d81a304910908f7624e59f5285": {
          "model_module": "@jupyter-widgets/base",
          "model_name": "LayoutModel",
          "model_module_version": "1.2.0",
          "state": {
            "_model_module": "@jupyter-widgets/base",
            "_model_module_version": "1.2.0",
            "_model_name": "LayoutModel",
            "_view_count": null,
            "_view_module": "@jupyter-widgets/base",
            "_view_module_version": "1.2.0",
            "_view_name": "LayoutView",
            "align_content": null,
            "align_items": null,
            "align_self": null,
            "border": null,
            "bottom": null,
            "display": null,
            "flex": null,
            "flex_flow": null,
            "grid_area": null,
            "grid_auto_columns": null,
            "grid_auto_flow": null,
            "grid_auto_rows": null,
            "grid_column": null,
            "grid_gap": null,
            "grid_row": null,
            "grid_template_areas": null,
            "grid_template_columns": null,
            "grid_template_rows": null,
            "height": null,
            "justify_content": null,
            "justify_items": null,
            "left": null,
            "margin": null,
            "max_height": null,
            "max_width": null,
            "min_height": null,
            "min_width": null,
            "object_fit": null,
            "object_position": null,
            "order": null,
            "overflow": null,
            "overflow_x": null,
            "overflow_y": null,
            "padding": null,
            "right": null,
            "top": null,
            "visibility": null,
            "width": null
          }
        },
        "dd01d13c1a0e4cc39e6a0995971fc6ac": {
          "model_module": "@jupyter-widgets/controls",
          "model_name": "DescriptionStyleModel",
          "model_module_version": "1.5.0",
          "state": {
            "_model_module": "@jupyter-widgets/controls",
            "_model_module_version": "1.5.0",
            "_model_name": "DescriptionStyleModel",
            "_view_count": null,
            "_view_module": "@jupyter-widgets/base",
            "_view_module_version": "1.2.0",
            "_view_name": "StyleView",
            "description_width": ""
          }
        },
        "0d2d06a623ba4b60861b62d14d61252c": {
          "model_module": "@jupyter-widgets/base",
          "model_name": "LayoutModel",
          "model_module_version": "1.2.0",
          "state": {
            "_model_module": "@jupyter-widgets/base",
            "_model_module_version": "1.2.0",
            "_model_name": "LayoutModel",
            "_view_count": null,
            "_view_module": "@jupyter-widgets/base",
            "_view_module_version": "1.2.0",
            "_view_name": "LayoutView",
            "align_content": null,
            "align_items": null,
            "align_self": null,
            "border": null,
            "bottom": null,
            "display": null,
            "flex": null,
            "flex_flow": null,
            "grid_area": null,
            "grid_auto_columns": null,
            "grid_auto_flow": null,
            "grid_auto_rows": null,
            "grid_column": null,
            "grid_gap": null,
            "grid_row": null,
            "grid_template_areas": null,
            "grid_template_columns": null,
            "grid_template_rows": null,
            "height": null,
            "justify_content": null,
            "justify_items": null,
            "left": null,
            "margin": null,
            "max_height": null,
            "max_width": null,
            "min_height": null,
            "min_width": null,
            "object_fit": null,
            "object_position": null,
            "order": null,
            "overflow": null,
            "overflow_x": null,
            "overflow_y": null,
            "padding": null,
            "right": null,
            "top": null,
            "visibility": null,
            "width": null
          }
        },
        "b8a3474c789545c580d4db7b388adc33": {
          "model_module": "@jupyter-widgets/controls",
          "model_name": "ProgressStyleModel",
          "model_module_version": "1.5.0",
          "state": {
            "_model_module": "@jupyter-widgets/controls",
            "_model_module_version": "1.5.0",
            "_model_name": "ProgressStyleModel",
            "_view_count": null,
            "_view_module": "@jupyter-widgets/base",
            "_view_module_version": "1.2.0",
            "_view_name": "StyleView",
            "bar_color": null,
            "description_width": ""
          }
        },
        "08b79b3ce7364a9c9958cb5c11cde637": {
          "model_module": "@jupyter-widgets/base",
          "model_name": "LayoutModel",
          "model_module_version": "1.2.0",
          "state": {
            "_model_module": "@jupyter-widgets/base",
            "_model_module_version": "1.2.0",
            "_model_name": "LayoutModel",
            "_view_count": null,
            "_view_module": "@jupyter-widgets/base",
            "_view_module_version": "1.2.0",
            "_view_name": "LayoutView",
            "align_content": null,
            "align_items": null,
            "align_self": null,
            "border": null,
            "bottom": null,
            "display": null,
            "flex": null,
            "flex_flow": null,
            "grid_area": null,
            "grid_auto_columns": null,
            "grid_auto_flow": null,
            "grid_auto_rows": null,
            "grid_column": null,
            "grid_gap": null,
            "grid_row": null,
            "grid_template_areas": null,
            "grid_template_columns": null,
            "grid_template_rows": null,
            "height": null,
            "justify_content": null,
            "justify_items": null,
            "left": null,
            "margin": null,
            "max_height": null,
            "max_width": null,
            "min_height": null,
            "min_width": null,
            "object_fit": null,
            "object_position": null,
            "order": null,
            "overflow": null,
            "overflow_x": null,
            "overflow_y": null,
            "padding": null,
            "right": null,
            "top": null,
            "visibility": null,
            "width": null
          }
        },
        "050bdf258c264e16b6b0db89662ff48f": {
          "model_module": "@jupyter-widgets/controls",
          "model_name": "DescriptionStyleModel",
          "model_module_version": "1.5.0",
          "state": {
            "_model_module": "@jupyter-widgets/controls",
            "_model_module_version": "1.5.0",
            "_model_name": "DescriptionStyleModel",
            "_view_count": null,
            "_view_module": "@jupyter-widgets/base",
            "_view_module_version": "1.2.0",
            "_view_name": "StyleView",
            "description_width": ""
          }
        },
        "cae9d2882bdd4c1eb985c7e85cdf4dd2": {
          "model_module": "@jupyter-widgets/controls",
          "model_name": "HBoxModel",
          "model_module_version": "1.5.0",
          "state": {
            "_dom_classes": [],
            "_model_module": "@jupyter-widgets/controls",
            "_model_module_version": "1.5.0",
            "_model_name": "HBoxModel",
            "_view_count": null,
            "_view_module": "@jupyter-widgets/controls",
            "_view_module_version": "1.5.0",
            "_view_name": "HBoxView",
            "box_style": "",
            "children": [
              "IPY_MODEL_a8c2afc5c318449e8ac8d0fb2e415924",
              "IPY_MODEL_7764af084e39462ab8872437c17a1fe3",
              "IPY_MODEL_1ca22cfe52b4435db7df41db092c230f"
            ],
            "layout": "IPY_MODEL_8b38b898f7264aae8a9773f1a122ed49"
          }
        },
        "a8c2afc5c318449e8ac8d0fb2e415924": {
          "model_module": "@jupyter-widgets/controls",
          "model_name": "HTMLModel",
          "model_module_version": "1.5.0",
          "state": {
            "_dom_classes": [],
            "_model_module": "@jupyter-widgets/controls",
            "_model_module_version": "1.5.0",
            "_model_name": "HTMLModel",
            "_view_count": null,
            "_view_module": "@jupyter-widgets/controls",
            "_view_module_version": "1.5.0",
            "_view_name": "HTMLView",
            "description": "",
            "description_tooltip": null,
            "layout": "IPY_MODEL_cafa9e71f66046759726a9e2b13efe8e",
            "placeholder": "​",
            "style": "IPY_MODEL_40c9c391b800448684a03cfc22ce63ff",
            "value": "Downloading model.safetensors: 100%"
          }
        },
        "7764af084e39462ab8872437c17a1fe3": {
          "model_module": "@jupyter-widgets/controls",
          "model_name": "FloatProgressModel",
          "model_module_version": "1.5.0",
          "state": {
            "_dom_classes": [],
            "_model_module": "@jupyter-widgets/controls",
            "_model_module_version": "1.5.0",
            "_model_name": "FloatProgressModel",
            "_view_count": null,
            "_view_module": "@jupyter-widgets/controls",
            "_view_module_version": "1.5.0",
            "_view_name": "ProgressView",
            "bar_style": "success",
            "description": "",
            "description_tooltip": null,
            "layout": "IPY_MODEL_2d4dbba591fb41f486946144c949f57f",
            "max": 440449768,
            "min": 0,
            "orientation": "horizontal",
            "style": "IPY_MODEL_4dd1c9d0ff8040798b317f9ce5ffad28",
            "value": 440449768
          }
        },
        "1ca22cfe52b4435db7df41db092c230f": {
          "model_module": "@jupyter-widgets/controls",
          "model_name": "HTMLModel",
          "model_module_version": "1.5.0",
          "state": {
            "_dom_classes": [],
            "_model_module": "@jupyter-widgets/controls",
            "_model_module_version": "1.5.0",
            "_model_name": "HTMLModel",
            "_view_count": null,
            "_view_module": "@jupyter-widgets/controls",
            "_view_module_version": "1.5.0",
            "_view_name": "HTMLView",
            "description": "",
            "description_tooltip": null,
            "layout": "IPY_MODEL_cf2701cd019b4689aa108b9e752010c5",
            "placeholder": "​",
            "style": "IPY_MODEL_a351150eb2d94f058e775345c7eb8c9f",
            "value": " 440M/440M [00:04&lt;00:00, 167MB/s]"
          }
        },
        "8b38b898f7264aae8a9773f1a122ed49": {
          "model_module": "@jupyter-widgets/base",
          "model_name": "LayoutModel",
          "model_module_version": "1.2.0",
          "state": {
            "_model_module": "@jupyter-widgets/base",
            "_model_module_version": "1.2.0",
            "_model_name": "LayoutModel",
            "_view_count": null,
            "_view_module": "@jupyter-widgets/base",
            "_view_module_version": "1.2.0",
            "_view_name": "LayoutView",
            "align_content": null,
            "align_items": null,
            "align_self": null,
            "border": null,
            "bottom": null,
            "display": null,
            "flex": null,
            "flex_flow": null,
            "grid_area": null,
            "grid_auto_columns": null,
            "grid_auto_flow": null,
            "grid_auto_rows": null,
            "grid_column": null,
            "grid_gap": null,
            "grid_row": null,
            "grid_template_areas": null,
            "grid_template_columns": null,
            "grid_template_rows": null,
            "height": null,
            "justify_content": null,
            "justify_items": null,
            "left": null,
            "margin": null,
            "max_height": null,
            "max_width": null,
            "min_height": null,
            "min_width": null,
            "object_fit": null,
            "object_position": null,
            "order": null,
            "overflow": null,
            "overflow_x": null,
            "overflow_y": null,
            "padding": null,
            "right": null,
            "top": null,
            "visibility": null,
            "width": null
          }
        },
        "cafa9e71f66046759726a9e2b13efe8e": {
          "model_module": "@jupyter-widgets/base",
          "model_name": "LayoutModel",
          "model_module_version": "1.2.0",
          "state": {
            "_model_module": "@jupyter-widgets/base",
            "_model_module_version": "1.2.0",
            "_model_name": "LayoutModel",
            "_view_count": null,
            "_view_module": "@jupyter-widgets/base",
            "_view_module_version": "1.2.0",
            "_view_name": "LayoutView",
            "align_content": null,
            "align_items": null,
            "align_self": null,
            "border": null,
            "bottom": null,
            "display": null,
            "flex": null,
            "flex_flow": null,
            "grid_area": null,
            "grid_auto_columns": null,
            "grid_auto_flow": null,
            "grid_auto_rows": null,
            "grid_column": null,
            "grid_gap": null,
            "grid_row": null,
            "grid_template_areas": null,
            "grid_template_columns": null,
            "grid_template_rows": null,
            "height": null,
            "justify_content": null,
            "justify_items": null,
            "left": null,
            "margin": null,
            "max_height": null,
            "max_width": null,
            "min_height": null,
            "min_width": null,
            "object_fit": null,
            "object_position": null,
            "order": null,
            "overflow": null,
            "overflow_x": null,
            "overflow_y": null,
            "padding": null,
            "right": null,
            "top": null,
            "visibility": null,
            "width": null
          }
        },
        "40c9c391b800448684a03cfc22ce63ff": {
          "model_module": "@jupyter-widgets/controls",
          "model_name": "DescriptionStyleModel",
          "model_module_version": "1.5.0",
          "state": {
            "_model_module": "@jupyter-widgets/controls",
            "_model_module_version": "1.5.0",
            "_model_name": "DescriptionStyleModel",
            "_view_count": null,
            "_view_module": "@jupyter-widgets/base",
            "_view_module_version": "1.2.0",
            "_view_name": "StyleView",
            "description_width": ""
          }
        },
        "2d4dbba591fb41f486946144c949f57f": {
          "model_module": "@jupyter-widgets/base",
          "model_name": "LayoutModel",
          "model_module_version": "1.2.0",
          "state": {
            "_model_module": "@jupyter-widgets/base",
            "_model_module_version": "1.2.0",
            "_model_name": "LayoutModel",
            "_view_count": null,
            "_view_module": "@jupyter-widgets/base",
            "_view_module_version": "1.2.0",
            "_view_name": "LayoutView",
            "align_content": null,
            "align_items": null,
            "align_self": null,
            "border": null,
            "bottom": null,
            "display": null,
            "flex": null,
            "flex_flow": null,
            "grid_area": null,
            "grid_auto_columns": null,
            "grid_auto_flow": null,
            "grid_auto_rows": null,
            "grid_column": null,
            "grid_gap": null,
            "grid_row": null,
            "grid_template_areas": null,
            "grid_template_columns": null,
            "grid_template_rows": null,
            "height": null,
            "justify_content": null,
            "justify_items": null,
            "left": null,
            "margin": null,
            "max_height": null,
            "max_width": null,
            "min_height": null,
            "min_width": null,
            "object_fit": null,
            "object_position": null,
            "order": null,
            "overflow": null,
            "overflow_x": null,
            "overflow_y": null,
            "padding": null,
            "right": null,
            "top": null,
            "visibility": null,
            "width": null
          }
        },
        "4dd1c9d0ff8040798b317f9ce5ffad28": {
          "model_module": "@jupyter-widgets/controls",
          "model_name": "ProgressStyleModel",
          "model_module_version": "1.5.0",
          "state": {
            "_model_module": "@jupyter-widgets/controls",
            "_model_module_version": "1.5.0",
            "_model_name": "ProgressStyleModel",
            "_view_count": null,
            "_view_module": "@jupyter-widgets/base",
            "_view_module_version": "1.2.0",
            "_view_name": "StyleView",
            "bar_color": null,
            "description_width": ""
          }
        },
        "cf2701cd019b4689aa108b9e752010c5": {
          "model_module": "@jupyter-widgets/base",
          "model_name": "LayoutModel",
          "model_module_version": "1.2.0",
          "state": {
            "_model_module": "@jupyter-widgets/base",
            "_model_module_version": "1.2.0",
            "_model_name": "LayoutModel",
            "_view_count": null,
            "_view_module": "@jupyter-widgets/base",
            "_view_module_version": "1.2.0",
            "_view_name": "LayoutView",
            "align_content": null,
            "align_items": null,
            "align_self": null,
            "border": null,
            "bottom": null,
            "display": null,
            "flex": null,
            "flex_flow": null,
            "grid_area": null,
            "grid_auto_columns": null,
            "grid_auto_flow": null,
            "grid_auto_rows": null,
            "grid_column": null,
            "grid_gap": null,
            "grid_row": null,
            "grid_template_areas": null,
            "grid_template_columns": null,
            "grid_template_rows": null,
            "height": null,
            "justify_content": null,
            "justify_items": null,
            "left": null,
            "margin": null,
            "max_height": null,
            "max_width": null,
            "min_height": null,
            "min_width": null,
            "object_fit": null,
            "object_position": null,
            "order": null,
            "overflow": null,
            "overflow_x": null,
            "overflow_y": null,
            "padding": null,
            "right": null,
            "top": null,
            "visibility": null,
            "width": null
          }
        },
        "a351150eb2d94f058e775345c7eb8c9f": {
          "model_module": "@jupyter-widgets/controls",
          "model_name": "DescriptionStyleModel",
          "model_module_version": "1.5.0",
          "state": {
            "_model_module": "@jupyter-widgets/controls",
            "_model_module_version": "1.5.0",
            "_model_name": "DescriptionStyleModel",
            "_view_count": null,
            "_view_module": "@jupyter-widgets/base",
            "_view_module_version": "1.2.0",
            "_view_name": "StyleView",
            "description_width": ""
          }
        }
      }
    },
    "accelerator": "GPU"
  },
  "cells": [
    {
      "cell_type": "markdown",
      "source": [
        "## **Problem Statement**"
      ],
      "metadata": {
        "id": "SCLz6qIbbUqD"
      }
    },
    {
      "cell_type": "markdown",
      "source": [
        "A microblogging and social networking service provider company wants to automatically tag and analyze tweets for better understanding of the trends and topics without being dependent on the hashtags that the users use. Many users do not use hashtags or sometimes use wrong or mis-spelled tags, so they want to completely remove this problem and create a system of recognizing important content of the tweets.\n",
        "\n",
        "**Concept** : Named Entity Recognition (NER) is an important subtask of information extraction that seeks to locate and recognise named entities.\n",
        "\n",
        "**Task** : Train models that will be able to identify the various named entities."
      ],
      "metadata": {
        "id": "-fjMJEvPbd9z"
      }
    },
    {
      "cell_type": "markdown",
      "source": [
        "## **Data Description**\n",
        "\n",
        "Dataset is annotated with 10 fine-grained NER categories:\n",
        "1. person\n",
        "2. geo-location\n",
        "3. company\n",
        "4. facility\n",
        "5. product\n",
        "6. music artist\n",
        "7. movie\n",
        "8. sports team\n",
        "9. tv show\n",
        "10. other\n",
        "\n",
        "Dataset was extracted from tweets and is structured in CoNLL format, in English language contained in Text file format.\n",
        "\n",
        "The CoNLL format is a text file with one word per line with sentences separated by an empty line. The first word in a line should be the word and the last word should be the label."
      ],
      "metadata": {
        "id": "wrltzCGKeEkZ"
      }
    },
    {
      "cell_type": "markdown",
      "source": [
        "## **Importing Libraries**"
      ],
      "metadata": {
        "id": "LDXQTO92Lw8M"
      }
    },
    {
      "cell_type": "code",
      "source": [
        "import numpy as np\n",
        "import pandas as pd\n",
        "import matplotlib.pyplot as plt\n",
        "import seaborn as sns"
      ],
      "metadata": {
        "id": "KO1Ar37hLwGY"
      },
      "execution_count": null,
      "outputs": []
    },
    {
      "cell_type": "code",
      "source": [
        "import string\n",
        "import re\n",
        "import datetime\n",
        "\n",
        "import warnings\n",
        "warnings.filterwarnings('ignore')\n",
        "from tqdm.notebook import tqdm\n",
        "tqdm.pandas()"
      ],
      "metadata": {
        "id": "kBCzbt4GNjVc"
      },
      "execution_count": null,
      "outputs": []
    },
    {
      "cell_type": "code",
      "source": [
        "import gensim.downloader\n",
        "from gensim.models import KeyedVectors"
      ],
      "metadata": {
        "id": "0MhdgxsVG1sw"
      },
      "execution_count": null,
      "outputs": []
    },
    {
      "cell_type": "code",
      "source": [
        "pip install tensorflow_addons"
      ],
      "metadata": {
        "colab": {
          "base_uri": "https://localhost:8080/"
        },
        "id": "jXu9zBRuiYln",
        "outputId": "98fab8b5-9d5c-42b9-b28a-dbd2a6bb4498"
      },
      "execution_count": null,
      "outputs": [
        {
          "output_type": "stream",
          "name": "stdout",
          "text": [
            "Requirement already satisfied: tensorflow_addons in /usr/local/lib/python3.10/dist-packages (0.21.0)\n",
            "Requirement already satisfied: packaging in /usr/local/lib/python3.10/dist-packages (from tensorflow_addons) (23.1)\n",
            "Requirement already satisfied: typeguard<3.0.0,>=2.7 in /usr/local/lib/python3.10/dist-packages (from tensorflow_addons) (2.13.3)\n"
          ]
        }
      ]
    },
    {
      "cell_type": "code",
      "source": [
        "pip install datasets transformers"
      ],
      "metadata": {
        "id": "uYdl6Zhvqxlf",
        "colab": {
          "base_uri": "https://localhost:8080/"
        },
        "outputId": "7fc4602c-2711-4636-ff9b-d819360bc32d"
      },
      "execution_count": null,
      "outputs": [
        {
          "output_type": "stream",
          "name": "stdout",
          "text": [
            "Requirement already satisfied: datasets in /usr/local/lib/python3.10/dist-packages (2.14.3)\n",
            "Requirement already satisfied: transformers in /usr/local/lib/python3.10/dist-packages (4.31.0)\n",
            "Requirement already satisfied: numpy>=1.17 in /usr/local/lib/python3.10/dist-packages (from datasets) (1.22.4)\n",
            "Requirement already satisfied: pyarrow>=8.0.0 in /usr/local/lib/python3.10/dist-packages (from datasets) (9.0.0)\n",
            "Requirement already satisfied: dill<0.3.8,>=0.3.0 in /usr/local/lib/python3.10/dist-packages (from datasets) (0.3.7)\n",
            "Requirement already satisfied: pandas in /usr/local/lib/python3.10/dist-packages (from datasets) (1.5.3)\n",
            "Requirement already satisfied: requests>=2.19.0 in /usr/local/lib/python3.10/dist-packages (from datasets) (2.27.1)\n",
            "Requirement already satisfied: tqdm>=4.62.1 in /usr/local/lib/python3.10/dist-packages (from datasets) (4.65.0)\n",
            "Requirement already satisfied: xxhash in /usr/local/lib/python3.10/dist-packages (from datasets) (3.3.0)\n",
            "Requirement already satisfied: multiprocess in /usr/local/lib/python3.10/dist-packages (from datasets) (0.70.15)\n",
            "Requirement already satisfied: fsspec[http]>=2021.11.1 in /usr/local/lib/python3.10/dist-packages (from datasets) (2023.6.0)\n",
            "Requirement already satisfied: aiohttp in /usr/local/lib/python3.10/dist-packages (from datasets) (3.8.5)\n",
            "Requirement already satisfied: huggingface-hub<1.0.0,>=0.14.0 in /usr/local/lib/python3.10/dist-packages (from datasets) (0.16.4)\n",
            "Requirement already satisfied: packaging in /usr/local/lib/python3.10/dist-packages (from datasets) (23.1)\n",
            "Requirement already satisfied: pyyaml>=5.1 in /usr/local/lib/python3.10/dist-packages (from datasets) (6.0.1)\n",
            "Requirement already satisfied: filelock in /usr/local/lib/python3.10/dist-packages (from transformers) (3.12.2)\n",
            "Requirement already satisfied: regex!=2019.12.17 in /usr/local/lib/python3.10/dist-packages (from transformers) (2022.10.31)\n",
            "Requirement already satisfied: tokenizers!=0.11.3,<0.14,>=0.11.1 in /usr/local/lib/python3.10/dist-packages (from transformers) (0.13.3)\n",
            "Requirement already satisfied: safetensors>=0.3.1 in /usr/local/lib/python3.10/dist-packages (from transformers) (0.3.1)\n",
            "Requirement already satisfied: attrs>=17.3.0 in /usr/local/lib/python3.10/dist-packages (from aiohttp->datasets) (23.1.0)\n",
            "Requirement already satisfied: charset-normalizer<4.0,>=2.0 in /usr/local/lib/python3.10/dist-packages (from aiohttp->datasets) (2.0.12)\n",
            "Requirement already satisfied: multidict<7.0,>=4.5 in /usr/local/lib/python3.10/dist-packages (from aiohttp->datasets) (6.0.4)\n",
            "Requirement already satisfied: async-timeout<5.0,>=4.0.0a3 in /usr/local/lib/python3.10/dist-packages (from aiohttp->datasets) (4.0.2)\n",
            "Requirement already satisfied: yarl<2.0,>=1.0 in /usr/local/lib/python3.10/dist-packages (from aiohttp->datasets) (1.9.2)\n",
            "Requirement already satisfied: frozenlist>=1.1.1 in /usr/local/lib/python3.10/dist-packages (from aiohttp->datasets) (1.4.0)\n",
            "Requirement already satisfied: aiosignal>=1.1.2 in /usr/local/lib/python3.10/dist-packages (from aiohttp->datasets) (1.3.1)\n",
            "Requirement already satisfied: typing-extensions>=3.7.4.3 in /usr/local/lib/python3.10/dist-packages (from huggingface-hub<1.0.0,>=0.14.0->datasets) (4.7.1)\n",
            "Requirement already satisfied: urllib3<1.27,>=1.21.1 in /usr/local/lib/python3.10/dist-packages (from requests>=2.19.0->datasets) (1.26.16)\n",
            "Requirement already satisfied: certifi>=2017.4.17 in /usr/local/lib/python3.10/dist-packages (from requests>=2.19.0->datasets) (2023.7.22)\n",
            "Requirement already satisfied: idna<4,>=2.5 in /usr/local/lib/python3.10/dist-packages (from requests>=2.19.0->datasets) (3.4)\n",
            "Requirement already satisfied: python-dateutil>=2.8.1 in /usr/local/lib/python3.10/dist-packages (from pandas->datasets) (2.8.2)\n",
            "Requirement already satisfied: pytz>=2020.1 in /usr/local/lib/python3.10/dist-packages (from pandas->datasets) (2022.7.1)\n",
            "Requirement already satisfied: six>=1.5 in /usr/local/lib/python3.10/dist-packages (from python-dateutil>=2.8.1->pandas->datasets) (1.16.0)\n"
          ]
        }
      ]
    },
    {
      "cell_type": "code",
      "source": [
        "pip install plot-keras-history"
      ],
      "metadata": {
        "colab": {
          "base_uri": "https://localhost:8080/"
        },
        "id": "Jc2JpM-1zH24",
        "outputId": "a71a0192-75a4-440b-9322-7e99eeab2f8e"
      },
      "execution_count": null,
      "outputs": [
        {
          "output_type": "stream",
          "name": "stdout",
          "text": [
            "Requirement already satisfied: plot-keras-history in /usr/local/lib/python3.10/dist-packages (1.1.38)\n",
            "Requirement already satisfied: matplotlib in /usr/local/lib/python3.10/dist-packages (from plot-keras-history) (3.7.1)\n",
            "Requirement already satisfied: pandas in /usr/local/lib/python3.10/dist-packages (from plot-keras-history) (1.5.3)\n",
            "Requirement already satisfied: scipy in /usr/local/lib/python3.10/dist-packages (from plot-keras-history) (1.10.1)\n",
            "Requirement already satisfied: support-developer>=1.0.2 in /usr/local/lib/python3.10/dist-packages (from plot-keras-history) (1.0.5)\n",
            "Requirement already satisfied: sanitize-ml-labels>=1.0.48 in /usr/local/lib/python3.10/dist-packages (from plot-keras-history) (1.0.50)\n",
            "Requirement already satisfied: compress-json in /usr/local/lib/python3.10/dist-packages (from sanitize-ml-labels>=1.0.48->plot-keras-history) (1.0.8)\n",
            "Requirement already satisfied: contourpy>=1.0.1 in /usr/local/lib/python3.10/dist-packages (from matplotlib->plot-keras-history) (1.1.0)\n",
            "Requirement already satisfied: cycler>=0.10 in /usr/local/lib/python3.10/dist-packages (from matplotlib->plot-keras-history) (0.11.0)\n",
            "Requirement already satisfied: fonttools>=4.22.0 in /usr/local/lib/python3.10/dist-packages (from matplotlib->plot-keras-history) (4.41.1)\n",
            "Requirement already satisfied: kiwisolver>=1.0.1 in /usr/local/lib/python3.10/dist-packages (from matplotlib->plot-keras-history) (1.4.4)\n",
            "Requirement already satisfied: numpy>=1.20 in /usr/local/lib/python3.10/dist-packages (from matplotlib->plot-keras-history) (1.22.4)\n",
            "Requirement already satisfied: packaging>=20.0 in /usr/local/lib/python3.10/dist-packages (from matplotlib->plot-keras-history) (23.1)\n",
            "Requirement already satisfied: pillow>=6.2.0 in /usr/local/lib/python3.10/dist-packages (from matplotlib->plot-keras-history) (9.4.0)\n",
            "Requirement already satisfied: pyparsing>=2.3.1 in /usr/local/lib/python3.10/dist-packages (from matplotlib->plot-keras-history) (3.1.0)\n",
            "Requirement already satisfied: python-dateutil>=2.7 in /usr/local/lib/python3.10/dist-packages (from matplotlib->plot-keras-history) (2.8.2)\n",
            "Requirement already satisfied: pytz>=2020.1 in /usr/local/lib/python3.10/dist-packages (from pandas->plot-keras-history) (2022.7.1)\n",
            "Requirement already satisfied: six>=1.5 in /usr/local/lib/python3.10/dist-packages (from python-dateutil>=2.7->matplotlib->plot-keras-history) (1.16.0)\n"
          ]
        }
      ]
    },
    {
      "cell_type": "code",
      "source": [
        "pip install seqeval"
      ],
      "metadata": {
        "colab": {
          "base_uri": "https://localhost:8080/"
        },
        "id": "hCsjU8oA9SAk",
        "outputId": "c20beced-1802-478e-a12f-51b9a539d4d2"
      },
      "execution_count": null,
      "outputs": [
        {
          "output_type": "stream",
          "name": "stdout",
          "text": [
            "Requirement already satisfied: seqeval in /usr/local/lib/python3.10/dist-packages (1.2.2)\n",
            "Requirement already satisfied: numpy>=1.14.0 in /usr/local/lib/python3.10/dist-packages (from seqeval) (1.22.4)\n",
            "Requirement already satisfied: scikit-learn>=0.21.3 in /usr/local/lib/python3.10/dist-packages (from seqeval) (1.2.2)\n",
            "Requirement already satisfied: scipy>=1.3.2 in /usr/local/lib/python3.10/dist-packages (from scikit-learn>=0.21.3->seqeval) (1.10.1)\n",
            "Requirement already satisfied: joblib>=1.1.1 in /usr/local/lib/python3.10/dist-packages (from scikit-learn>=0.21.3->seqeval) (1.3.1)\n",
            "Requirement already satisfied: threadpoolctl>=2.0.0 in /usr/local/lib/python3.10/dist-packages (from scikit-learn>=0.21.3->seqeval) (3.2.0)\n"
          ]
        }
      ]
    },
    {
      "cell_type": "code",
      "source": [
        "from sklearn.model_selection import train_test_split\n",
        "from sklearn.metrics import confusion_matrix\n",
        "from seqeval.metrics import accuracy_score, f1_score, classification_report\n",
        "\n",
        "import tensorflow as tf\n",
        "import keras as k\n",
        "\n",
        "from keras.utils import to_categorical\n",
        "from keras.models import load_model\n",
        "\n",
        "from tensorflow.keras.preprocessing.text import Tokenizer\n",
        "from tensorflow.keras.preprocessing.sequence import pad_sequences\n",
        "from tensorflow.keras.layers import Dense, Embedding, Input, LSTM, Bidirectional, TimeDistributed\n",
        "from tensorflow.keras.models import Model\n",
        "from tensorflow.keras.callbacks import EarlyStopping, ModelCheckpoint\n",
        "\n",
        "import tensorflow_addons as tfa\n",
        "from tensorflow_addons.layers import CRF\n",
        "from tensorflow_addons.losses import SigmoidFocalCrossEntropy\n",
        "from tensorflow_addons.optimizers import AdamW\n",
        "\n",
        "from plot_keras_history import plot_history\n",
        "\n",
        "from transformers import BertTokenizer, TFBertForTokenClassification\n",
        "\n",
        "tf.random.set_seed(111)\n",
        "np.random.seed(88)"
      ],
      "metadata": {
        "id": "tGn0sPMFItXk"
      },
      "execution_count": null,
      "outputs": []
    },
    {
      "cell_type": "markdown",
      "source": [
        "## **Loading and formatting the data**"
      ],
      "metadata": {
        "id": "FY5m9cRCgrjD"
      }
    },
    {
      "cell_type": "code",
      "execution_count": null,
      "metadata": {
        "id": "3ghk6XM6bKk3",
        "colab": {
          "base_uri": "https://localhost:8080/"
        },
        "outputId": "d4dc8dd0-8323-4278-fdc1-3e8659627e3e"
      },
      "outputs": [
        {
          "output_type": "stream",
          "name": "stdout",
          "text": [
            "Drive already mounted at /content/drive; to attempt to forcibly remount, call drive.mount(\"/content/drive\", force_remount=True).\n"
          ]
        }
      ],
      "source": [
        "from google.colab import drive\n",
        "drive.mount('/content/drive')"
      ]
    },
    {
      "cell_type": "code",
      "source": [
        "def load_data(filename: str):\n",
        "  # Conll file is stored as (token, tag) pairs, one per line\n",
        "  # Extracting data from conll files\n",
        "  with open(filename, 'r') as file:\n",
        "    lines = [line[:-1].split() for line in file] # Skipping last line as it will be a blank space\n",
        "  samples, start = [], 0\n",
        "  for end, parts in enumerate(lines):\n",
        "      if not parts:\n",
        "          sample = [(token, tag)\n",
        "                      for token, tag in lines[start:end]]\n",
        "          samples.append(sample)\n",
        "          start = end + 1\n",
        "  if start < end:\n",
        "    samples.append(lines[start:end])\n",
        "  return samples\n",
        "\n",
        "train_samples = load_data('/content/drive/MyDrive/Colab Notebooks/Data/wnut 16.txt.conll')\n",
        "test_samples = load_data('/content/drive/MyDrive/Colab Notebooks/Data/wnut 16test.txt.conll')\n",
        "samples = train_samples + test_samples\n",
        "schema = ['_'] + sorted({tag for sentence in samples\n",
        "                             for _, tag in sentence}) # '_' is used to indicate a null (blank) token."
      ],
      "metadata": {
        "id": "wgo61CbGA7P9"
      },
      "execution_count": null,
      "outputs": []
    },
    {
      "cell_type": "code",
      "source": [
        "schema"
      ],
      "metadata": {
        "colab": {
          "base_uri": "https://localhost:8080/"
        },
        "id": "ixsnZ-t5BEge",
        "outputId": "098968b3-1a27-4c39-fc2c-5e9c6aec67fb"
      },
      "execution_count": null,
      "outputs": [
        {
          "output_type": "execute_result",
          "data": {
            "text/plain": [
              "['_',\n",
              " 'B-company',\n",
              " 'B-facility',\n",
              " 'B-geo-loc',\n",
              " 'B-movie',\n",
              " 'B-musicartist',\n",
              " 'B-other',\n",
              " 'B-person',\n",
              " 'B-product',\n",
              " 'B-sportsteam',\n",
              " 'B-tvshow',\n",
              " 'I-company',\n",
              " 'I-facility',\n",
              " 'I-geo-loc',\n",
              " 'I-movie',\n",
              " 'I-musicartist',\n",
              " 'I-other',\n",
              " 'I-person',\n",
              " 'I-product',\n",
              " 'I-sportsteam',\n",
              " 'I-tvshow',\n",
              " 'O']"
            ]
          },
          "metadata": {},
          "execution_count": 15
        }
      ]
    },
    {
      "cell_type": "code",
      "source": [
        "train_samples[1]"
      ],
      "metadata": {
        "colab": {
          "base_uri": "https://localhost:8080/"
        },
        "id": "VtkKtD4BBR-r",
        "outputId": "b723d030-8408-4d9d-aa93-f0dc53931a46"
      },
      "execution_count": null,
      "outputs": [
        {
          "output_type": "execute_result",
          "data": {
            "text/plain": [
              "[('Made', 'O'),\n",
              " ('it', 'O'),\n",
              " ('back', 'O'),\n",
              " ('home', 'O'),\n",
              " ('to', 'O'),\n",
              " ('GA', 'B-geo-loc'),\n",
              " ('.', 'O'),\n",
              " ('It', 'O'),\n",
              " ('sucks', 'O'),\n",
              " ('not', 'O'),\n",
              " ('to', 'O'),\n",
              " ('be', 'O'),\n",
              " ('at', 'O'),\n",
              " ('Disney', 'B-facility'),\n",
              " ('world', 'I-facility'),\n",
              " (',', 'O'),\n",
              " ('but', 'O'),\n",
              " ('its', 'O'),\n",
              " ('good', 'O'),\n",
              " ('to', 'O'),\n",
              " ('be', 'O'),\n",
              " ('home', 'O'),\n",
              " ('.', 'O'),\n",
              " ('Time', 'O'),\n",
              " ('to', 'O'),\n",
              " ('start', 'O'),\n",
              " ('planning', 'O'),\n",
              " ('the', 'O'),\n",
              " ('next', 'O'),\n",
              " ('Disney', 'B-facility'),\n",
              " ('World', 'I-facility'),\n",
              " ('trip', 'O'),\n",
              " ('.', 'O')]"
            ]
          },
          "metadata": {},
          "execution_count": 16
        }
      ]
    },
    {
      "cell_type": "code",
      "source": [
        "len(train_samples), len(list(range(1,len(train_samples)+1)))"
      ],
      "metadata": {
        "colab": {
          "base_uri": "https://localhost:8080/"
        },
        "id": "kRC3APufKhti",
        "outputId": "99ed9924-e7a6-4a54-915b-9c3a733cd2e7"
      },
      "execution_count": null,
      "outputs": [
        {
          "output_type": "execute_result",
          "data": {
            "text/plain": [
              "(2394, 2394)"
            ]
          },
          "metadata": {},
          "execution_count": 17
        }
      ]
    },
    {
      "cell_type": "markdown",
      "source": [
        "## **Understanding Structure of the Data**"
      ],
      "metadata": {
        "id": "b40DQm5OyoJk"
      }
    },
    {
      "cell_type": "code",
      "source": [
        "tweets_train = []\n",
        "\n",
        "for i, sample in tqdm(zip(list(range(1,len(train_samples)+1)), train_samples), total=len(train_samples)):\n",
        "  current_tweet_train = []\n",
        "  for content in sample:\n",
        "    word, label = content\n",
        "    current_tweet_train.append(('Tweet: '+ str(i), word, label))\n",
        "  tweets_train.append(current_tweet_train)"
      ],
      "metadata": {
        "id": "HLZKG1mc5yTE",
        "colab": {
          "base_uri": "https://localhost:8080/",
          "height": 49,
          "referenced_widgets": [
            "9ce678ac26e94534b7eba0100e17b516",
            "7f7668eeba6e4198b5f9443cba0e908a",
            "664efd4bd7ea4b368266a7da59158a9d",
            "d245bef1672c4a95848b88956f883b81",
            "8903f05888444c3e9c0004b6cfed3414",
            "717645a09a9f4055816ef56326639229",
            "6414fa5b173f44bdaf4a481e785ba012",
            "b1baad27736f46b4bc80678ce59edbff",
            "6a371528b65844aca7110fbfb9a89f3e",
            "c9a6d6c3cdf841e0897cfabce6c88a29",
            "64aa834e25a144dd81db1ecb4d45d8c4"
          ]
        },
        "outputId": "e57bdaa2-4552-4d0a-9fa7-b16fa7690844"
      },
      "execution_count": null,
      "outputs": [
        {
          "output_type": "display_data",
          "data": {
            "text/plain": [
              "  0%|          | 0/2394 [00:00<?, ?it/s]"
            ],
            "application/vnd.jupyter.widget-view+json": {
              "version_major": 2,
              "version_minor": 0,
              "model_id": "9ce678ac26e94534b7eba0100e17b516"
            }
          },
          "metadata": {}
        }
      ]
    },
    {
      "cell_type": "code",
      "source": [
        "len(tweets_train)"
      ],
      "metadata": {
        "colab": {
          "base_uri": "https://localhost:8080/"
        },
        "id": "rFnoNIWO53QG",
        "outputId": "6e727b8f-8f34-41c4-ce00-6fa2e414b875"
      },
      "execution_count": null,
      "outputs": [
        {
          "output_type": "execute_result",
          "data": {
            "text/plain": [
              "2394"
            ]
          },
          "metadata": {},
          "execution_count": 21
        }
      ]
    },
    {
      "cell_type": "code",
      "source": [
        "len(tweets_train[0])"
      ],
      "metadata": {
        "colab": {
          "base_uri": "https://localhost:8080/"
        },
        "id": "ae-35NPKLiKW",
        "outputId": "6dfaae00-9fac-4059-f1fb-67963f92fee5"
      },
      "execution_count": null,
      "outputs": [
        {
          "output_type": "execute_result",
          "data": {
            "text/plain": [
              "12"
            ]
          },
          "metadata": {},
          "execution_count": 22
        }
      ]
    },
    {
      "cell_type": "code",
      "source": [
        "tweets_train_df = pd.DataFrame({'Tweet_#':[tweet_content[0] for tweet in tweets_train for tweet_content in tweet],\n",
        "                                'Word':[tweet_content[1] for tweet in tweets_train for tweet_content in tweet],\n",
        "                                'NER_Tag':[tweet_content[2] for tweet in tweets_train for tweet_content in tweet],})"
      ],
      "metadata": {
        "id": "91t4iMqP9T6r"
      },
      "execution_count": null,
      "outputs": []
    },
    {
      "cell_type": "code",
      "source": [
        "tweets_train_df"
      ],
      "metadata": {
        "colab": {
          "base_uri": "https://localhost:8080/",
          "height": 424
        },
        "id": "TUU-w_L9mkBO",
        "outputId": "9d14acbf-87a5-49c4-8f99-b926b7742eb2"
      },
      "execution_count": null,
      "outputs": [
        {
          "output_type": "execute_result",
          "data": {
            "text/plain": [
              "           Tweet_#             Word NER_Tag\n",
              "0         Tweet: 1  @SammieLynnsMom       O\n",
              "1         Tweet: 1         @tg10781       O\n",
              "2         Tweet: 1             they       O\n",
              "3         Tweet: 1             will       O\n",
              "4         Tweet: 1               be       O\n",
              "...            ...              ...     ...\n",
              "46463  Tweet: 2394           friday       O\n",
              "46464  Tweet: 2394          whatchu       O\n",
              "46465  Tweet: 2394              got       O\n",
              "46466  Tweet: 2394              for       O\n",
              "46467  Tweet: 2394               me       O\n",
              "\n",
              "[46468 rows x 3 columns]"
            ],
            "text/html": [
              "\n",
              "\n",
              "  <div id=\"df-4ce0db4a-8ad3-4069-8986-1eb5b0f809d5\">\n",
              "    <div class=\"colab-df-container\">\n",
              "      <div>\n",
              "<style scoped>\n",
              "    .dataframe tbody tr th:only-of-type {\n",
              "        vertical-align: middle;\n",
              "    }\n",
              "\n",
              "    .dataframe tbody tr th {\n",
              "        vertical-align: top;\n",
              "    }\n",
              "\n",
              "    .dataframe thead th {\n",
              "        text-align: right;\n",
              "    }\n",
              "</style>\n",
              "<table border=\"1\" class=\"dataframe\">\n",
              "  <thead>\n",
              "    <tr style=\"text-align: right;\">\n",
              "      <th></th>\n",
              "      <th>Tweet_#</th>\n",
              "      <th>Word</th>\n",
              "      <th>NER_Tag</th>\n",
              "    </tr>\n",
              "  </thead>\n",
              "  <tbody>\n",
              "    <tr>\n",
              "      <th>0</th>\n",
              "      <td>Tweet: 1</td>\n",
              "      <td>@SammieLynnsMom</td>\n",
              "      <td>O</td>\n",
              "    </tr>\n",
              "    <tr>\n",
              "      <th>1</th>\n",
              "      <td>Tweet: 1</td>\n",
              "      <td>@tg10781</td>\n",
              "      <td>O</td>\n",
              "    </tr>\n",
              "    <tr>\n",
              "      <th>2</th>\n",
              "      <td>Tweet: 1</td>\n",
              "      <td>they</td>\n",
              "      <td>O</td>\n",
              "    </tr>\n",
              "    <tr>\n",
              "      <th>3</th>\n",
              "      <td>Tweet: 1</td>\n",
              "      <td>will</td>\n",
              "      <td>O</td>\n",
              "    </tr>\n",
              "    <tr>\n",
              "      <th>4</th>\n",
              "      <td>Tweet: 1</td>\n",
              "      <td>be</td>\n",
              "      <td>O</td>\n",
              "    </tr>\n",
              "    <tr>\n",
              "      <th>...</th>\n",
              "      <td>...</td>\n",
              "      <td>...</td>\n",
              "      <td>...</td>\n",
              "    </tr>\n",
              "    <tr>\n",
              "      <th>46463</th>\n",
              "      <td>Tweet: 2394</td>\n",
              "      <td>friday</td>\n",
              "      <td>O</td>\n",
              "    </tr>\n",
              "    <tr>\n",
              "      <th>46464</th>\n",
              "      <td>Tweet: 2394</td>\n",
              "      <td>whatchu</td>\n",
              "      <td>O</td>\n",
              "    </tr>\n",
              "    <tr>\n",
              "      <th>46465</th>\n",
              "      <td>Tweet: 2394</td>\n",
              "      <td>got</td>\n",
              "      <td>O</td>\n",
              "    </tr>\n",
              "    <tr>\n",
              "      <th>46466</th>\n",
              "      <td>Tweet: 2394</td>\n",
              "      <td>for</td>\n",
              "      <td>O</td>\n",
              "    </tr>\n",
              "    <tr>\n",
              "      <th>46467</th>\n",
              "      <td>Tweet: 2394</td>\n",
              "      <td>me</td>\n",
              "      <td>O</td>\n",
              "    </tr>\n",
              "  </tbody>\n",
              "</table>\n",
              "<p>46468 rows × 3 columns</p>\n",
              "</div>\n",
              "      <button class=\"colab-df-convert\" onclick=\"convertToInteractive('df-4ce0db4a-8ad3-4069-8986-1eb5b0f809d5')\"\n",
              "              title=\"Convert this dataframe to an interactive table.\"\n",
              "              style=\"display:none;\">\n",
              "\n",
              "  <svg xmlns=\"http://www.w3.org/2000/svg\" height=\"24px\"viewBox=\"0 0 24 24\"\n",
              "       width=\"24px\">\n",
              "    <path d=\"M0 0h24v24H0V0z\" fill=\"none\"/>\n",
              "    <path d=\"M18.56 5.44l.94 2.06.94-2.06 2.06-.94-2.06-.94-.94-2.06-.94 2.06-2.06.94zm-11 1L8.5 8.5l.94-2.06 2.06-.94-2.06-.94L8.5 2.5l-.94 2.06-2.06.94zm10 10l.94 2.06.94-2.06 2.06-.94-2.06-.94-.94-2.06-.94 2.06-2.06.94z\"/><path d=\"M17.41 7.96l-1.37-1.37c-.4-.4-.92-.59-1.43-.59-.52 0-1.04.2-1.43.59L10.3 9.45l-7.72 7.72c-.78.78-.78 2.05 0 2.83L4 21.41c.39.39.9.59 1.41.59.51 0 1.02-.2 1.41-.59l7.78-7.78 2.81-2.81c.8-.78.8-2.07 0-2.86zM5.41 20L4 18.59l7.72-7.72 1.47 1.35L5.41 20z\"/>\n",
              "  </svg>\n",
              "      </button>\n",
              "\n",
              "\n",
              "\n",
              "    <div id=\"df-d7d8eb2e-3244-4d1d-8ddb-21aa73129aba\">\n",
              "      <button class=\"colab-df-quickchart\" onclick=\"quickchart('df-d7d8eb2e-3244-4d1d-8ddb-21aa73129aba')\"\n",
              "              title=\"Suggest charts.\"\n",
              "              style=\"display:none;\">\n",
              "\n",
              "<svg xmlns=\"http://www.w3.org/2000/svg\" height=\"24px\"viewBox=\"0 0 24 24\"\n",
              "     width=\"24px\">\n",
              "    <g>\n",
              "        <path d=\"M19 3H5c-1.1 0-2 .9-2 2v14c0 1.1.9 2 2 2h14c1.1 0 2-.9 2-2V5c0-1.1-.9-2-2-2zM9 17H7v-7h2v7zm4 0h-2V7h2v10zm4 0h-2v-4h2v4z\"/>\n",
              "    </g>\n",
              "</svg>\n",
              "      </button>\n",
              "    </div>\n",
              "\n",
              "<style>\n",
              "  .colab-df-quickchart {\n",
              "    background-color: #E8F0FE;\n",
              "    border: none;\n",
              "    border-radius: 50%;\n",
              "    cursor: pointer;\n",
              "    display: none;\n",
              "    fill: #1967D2;\n",
              "    height: 32px;\n",
              "    padding: 0 0 0 0;\n",
              "    width: 32px;\n",
              "  }\n",
              "\n",
              "  .colab-df-quickchart:hover {\n",
              "    background-color: #E2EBFA;\n",
              "    box-shadow: 0px 1px 2px rgba(60, 64, 67, 0.3), 0px 1px 3px 1px rgba(60, 64, 67, 0.15);\n",
              "    fill: #174EA6;\n",
              "  }\n",
              "\n",
              "  [theme=dark] .colab-df-quickchart {\n",
              "    background-color: #3B4455;\n",
              "    fill: #D2E3FC;\n",
              "  }\n",
              "\n",
              "  [theme=dark] .colab-df-quickchart:hover {\n",
              "    background-color: #434B5C;\n",
              "    box-shadow: 0px 1px 3px 1px rgba(0, 0, 0, 0.15);\n",
              "    filter: drop-shadow(0px 1px 2px rgba(0, 0, 0, 0.3));\n",
              "    fill: #FFFFFF;\n",
              "  }\n",
              "</style>\n",
              "\n",
              "    <script>\n",
              "      async function quickchart(key) {\n",
              "        const containerElement = document.querySelector('#' + key);\n",
              "        const charts = await google.colab.kernel.invokeFunction(\n",
              "            'suggestCharts', [key], {});\n",
              "      }\n",
              "    </script>\n",
              "\n",
              "      <script>\n",
              "\n",
              "function displayQuickchartButton(domScope) {\n",
              "  let quickchartButtonEl =\n",
              "    domScope.querySelector('#df-d7d8eb2e-3244-4d1d-8ddb-21aa73129aba button.colab-df-quickchart');\n",
              "  quickchartButtonEl.style.display =\n",
              "    google.colab.kernel.accessAllowed ? 'block' : 'none';\n",
              "}\n",
              "\n",
              "        displayQuickchartButton(document);\n",
              "      </script>\n",
              "      <style>\n",
              "    .colab-df-container {\n",
              "      display:flex;\n",
              "      flex-wrap:wrap;\n",
              "      gap: 12px;\n",
              "    }\n",
              "\n",
              "    .colab-df-convert {\n",
              "      background-color: #E8F0FE;\n",
              "      border: none;\n",
              "      border-radius: 50%;\n",
              "      cursor: pointer;\n",
              "      display: none;\n",
              "      fill: #1967D2;\n",
              "      height: 32px;\n",
              "      padding: 0 0 0 0;\n",
              "      width: 32px;\n",
              "    }\n",
              "\n",
              "    .colab-df-convert:hover {\n",
              "      background-color: #E2EBFA;\n",
              "      box-shadow: 0px 1px 2px rgba(60, 64, 67, 0.3), 0px 1px 3px 1px rgba(60, 64, 67, 0.15);\n",
              "      fill: #174EA6;\n",
              "    }\n",
              "\n",
              "    [theme=dark] .colab-df-convert {\n",
              "      background-color: #3B4455;\n",
              "      fill: #D2E3FC;\n",
              "    }\n",
              "\n",
              "    [theme=dark] .colab-df-convert:hover {\n",
              "      background-color: #434B5C;\n",
              "      box-shadow: 0px 1px 3px 1px rgba(0, 0, 0, 0.15);\n",
              "      filter: drop-shadow(0px 1px 2px rgba(0, 0, 0, 0.3));\n",
              "      fill: #FFFFFF;\n",
              "    }\n",
              "  </style>\n",
              "\n",
              "      <script>\n",
              "        const buttonEl =\n",
              "          document.querySelector('#df-4ce0db4a-8ad3-4069-8986-1eb5b0f809d5 button.colab-df-convert');\n",
              "        buttonEl.style.display =\n",
              "          google.colab.kernel.accessAllowed ? 'block' : 'none';\n",
              "\n",
              "        async function convertToInteractive(key) {\n",
              "          const element = document.querySelector('#df-4ce0db4a-8ad3-4069-8986-1eb5b0f809d5');\n",
              "          const dataTable =\n",
              "            await google.colab.kernel.invokeFunction('convertToInteractive',\n",
              "                                                     [key], {});\n",
              "          if (!dataTable) return;\n",
              "\n",
              "          const docLinkHtml = 'Like what you see? Visit the ' +\n",
              "            '<a target=\"_blank\" href=https://colab.research.google.com/notebooks/data_table.ipynb>data table notebook</a>'\n",
              "            + ' to learn more about interactive tables.';\n",
              "          element.innerHTML = '';\n",
              "          dataTable['output_type'] = 'display_data';\n",
              "          await google.colab.output.renderOutput(dataTable, element);\n",
              "          const docLink = document.createElement('div');\n",
              "          docLink.innerHTML = docLinkHtml;\n",
              "          element.appendChild(docLink);\n",
              "        }\n",
              "      </script>\n",
              "    </div>\n",
              "  </div>\n"
            ]
          },
          "metadata": {},
          "execution_count": 24
        }
      ]
    },
    {
      "cell_type": "markdown",
      "source": [
        "## **Tag information**"
      ],
      "metadata": {
        "id": "6yPs_O16p1tn"
      }
    },
    {
      "cell_type": "markdown",
      "source": [
        "- B-* Start token for a tag\n",
        "- I-* Continuation tokens for a tag"
      ],
      "metadata": {
        "id": "VSs_6XkNp4dC"
      }
    },
    {
      "cell_type": "code",
      "source": [
        "def tags_combine(text):\n",
        "  if text == 'O':\n",
        "    return text\n",
        "  else:\n",
        "    text = text.split('-', maxsplit=1)\n",
        "    word = ''\n",
        "    for ele in text:\n",
        "      if ele not in ['B', 'I']:\n",
        "        word += ele\n",
        "    return word"
      ],
      "metadata": {
        "id": "i9KBXs4iR_YH"
      },
      "execution_count": null,
      "outputs": []
    },
    {
      "cell_type": "code",
      "source": [
        "tweets_train_df['NER_Tag_'] = tweets_train_df['NER_Tag'].progress_apply(tags_combine)"
      ],
      "metadata": {
        "colab": {
          "base_uri": "https://localhost:8080/",
          "height": 49,
          "referenced_widgets": [
            "eef5b1715640413487937155ef855590",
            "7d50c0a59581481e8ad94a5d656e4720",
            "c695af58b25d44b0bba0d19eb3b4923c",
            "b5ba120a26004ed7bef9012d5e7a768e",
            "1a1ba9deac7f48ae8b27da698e748a11",
            "5d2ffe5474aa4338879d353a7207f7c5",
            "2af212f84f624a79a51278858d3511ea",
            "00cc5e3eb64f41119f18c4eb1b025ad4",
            "64f09362019144e6a3fe9ac209b25592",
            "121bcef1b1e74ab091aba18af8827e0b",
            "4846f959da67412d81889ac7ce23f764"
          ]
        },
        "id": "xSNQIb7GTi4W",
        "outputId": "402bfcb4-2ce9-43ae-ad12-b25815d9e0d2"
      },
      "execution_count": null,
      "outputs": [
        {
          "output_type": "display_data",
          "data": {
            "text/plain": [
              "  0%|          | 0/46468 [00:00<?, ?it/s]"
            ],
            "application/vnd.jupyter.widget-view+json": {
              "version_major": 2,
              "version_minor": 0,
              "model_id": "eef5b1715640413487937155ef855590"
            }
          },
          "metadata": {}
        }
      ]
    },
    {
      "cell_type": "code",
      "source": [
        "tweets_train_df"
      ],
      "metadata": {
        "colab": {
          "base_uri": "https://localhost:8080/",
          "height": 424
        },
        "id": "ddavCB7zTq9l",
        "outputId": "5f112e50-d12c-42b8-fa0a-374aa910e9b5"
      },
      "execution_count": null,
      "outputs": [
        {
          "output_type": "execute_result",
          "data": {
            "text/plain": [
              "           Tweet_#             Word NER_Tag NER_Tag_\n",
              "0         Tweet: 1  @SammieLynnsMom       O        O\n",
              "1         Tweet: 1         @tg10781       O        O\n",
              "2         Tweet: 1             they       O        O\n",
              "3         Tweet: 1             will       O        O\n",
              "4         Tweet: 1               be       O        O\n",
              "...            ...              ...     ...      ...\n",
              "46463  Tweet: 2394           friday       O        O\n",
              "46464  Tweet: 2394          whatchu       O        O\n",
              "46465  Tweet: 2394              got       O        O\n",
              "46466  Tweet: 2394              for       O        O\n",
              "46467  Tweet: 2394               me       O        O\n",
              "\n",
              "[46468 rows x 4 columns]"
            ],
            "text/html": [
              "\n",
              "\n",
              "  <div id=\"df-8b6b1938-74a0-46af-8e73-61bd32939550\">\n",
              "    <div class=\"colab-df-container\">\n",
              "      <div>\n",
              "<style scoped>\n",
              "    .dataframe tbody tr th:only-of-type {\n",
              "        vertical-align: middle;\n",
              "    }\n",
              "\n",
              "    .dataframe tbody tr th {\n",
              "        vertical-align: top;\n",
              "    }\n",
              "\n",
              "    .dataframe thead th {\n",
              "        text-align: right;\n",
              "    }\n",
              "</style>\n",
              "<table border=\"1\" class=\"dataframe\">\n",
              "  <thead>\n",
              "    <tr style=\"text-align: right;\">\n",
              "      <th></th>\n",
              "      <th>Tweet_#</th>\n",
              "      <th>Word</th>\n",
              "      <th>NER_Tag</th>\n",
              "      <th>NER_Tag_</th>\n",
              "    </tr>\n",
              "  </thead>\n",
              "  <tbody>\n",
              "    <tr>\n",
              "      <th>0</th>\n",
              "      <td>Tweet: 1</td>\n",
              "      <td>@SammieLynnsMom</td>\n",
              "      <td>O</td>\n",
              "      <td>O</td>\n",
              "    </tr>\n",
              "    <tr>\n",
              "      <th>1</th>\n",
              "      <td>Tweet: 1</td>\n",
              "      <td>@tg10781</td>\n",
              "      <td>O</td>\n",
              "      <td>O</td>\n",
              "    </tr>\n",
              "    <tr>\n",
              "      <th>2</th>\n",
              "      <td>Tweet: 1</td>\n",
              "      <td>they</td>\n",
              "      <td>O</td>\n",
              "      <td>O</td>\n",
              "    </tr>\n",
              "    <tr>\n",
              "      <th>3</th>\n",
              "      <td>Tweet: 1</td>\n",
              "      <td>will</td>\n",
              "      <td>O</td>\n",
              "      <td>O</td>\n",
              "    </tr>\n",
              "    <tr>\n",
              "      <th>4</th>\n",
              "      <td>Tweet: 1</td>\n",
              "      <td>be</td>\n",
              "      <td>O</td>\n",
              "      <td>O</td>\n",
              "    </tr>\n",
              "    <tr>\n",
              "      <th>...</th>\n",
              "      <td>...</td>\n",
              "      <td>...</td>\n",
              "      <td>...</td>\n",
              "      <td>...</td>\n",
              "    </tr>\n",
              "    <tr>\n",
              "      <th>46463</th>\n",
              "      <td>Tweet: 2394</td>\n",
              "      <td>friday</td>\n",
              "      <td>O</td>\n",
              "      <td>O</td>\n",
              "    </tr>\n",
              "    <tr>\n",
              "      <th>46464</th>\n",
              "      <td>Tweet: 2394</td>\n",
              "      <td>whatchu</td>\n",
              "      <td>O</td>\n",
              "      <td>O</td>\n",
              "    </tr>\n",
              "    <tr>\n",
              "      <th>46465</th>\n",
              "      <td>Tweet: 2394</td>\n",
              "      <td>got</td>\n",
              "      <td>O</td>\n",
              "      <td>O</td>\n",
              "    </tr>\n",
              "    <tr>\n",
              "      <th>46466</th>\n",
              "      <td>Tweet: 2394</td>\n",
              "      <td>for</td>\n",
              "      <td>O</td>\n",
              "      <td>O</td>\n",
              "    </tr>\n",
              "    <tr>\n",
              "      <th>46467</th>\n",
              "      <td>Tweet: 2394</td>\n",
              "      <td>me</td>\n",
              "      <td>O</td>\n",
              "      <td>O</td>\n",
              "    </tr>\n",
              "  </tbody>\n",
              "</table>\n",
              "<p>46468 rows × 4 columns</p>\n",
              "</div>\n",
              "      <button class=\"colab-df-convert\" onclick=\"convertToInteractive('df-8b6b1938-74a0-46af-8e73-61bd32939550')\"\n",
              "              title=\"Convert this dataframe to an interactive table.\"\n",
              "              style=\"display:none;\">\n",
              "\n",
              "  <svg xmlns=\"http://www.w3.org/2000/svg\" height=\"24px\"viewBox=\"0 0 24 24\"\n",
              "       width=\"24px\">\n",
              "    <path d=\"M0 0h24v24H0V0z\" fill=\"none\"/>\n",
              "    <path d=\"M18.56 5.44l.94 2.06.94-2.06 2.06-.94-2.06-.94-.94-2.06-.94 2.06-2.06.94zm-11 1L8.5 8.5l.94-2.06 2.06-.94-2.06-.94L8.5 2.5l-.94 2.06-2.06.94zm10 10l.94 2.06.94-2.06 2.06-.94-2.06-.94-.94-2.06-.94 2.06-2.06.94z\"/><path d=\"M17.41 7.96l-1.37-1.37c-.4-.4-.92-.59-1.43-.59-.52 0-1.04.2-1.43.59L10.3 9.45l-7.72 7.72c-.78.78-.78 2.05 0 2.83L4 21.41c.39.39.9.59 1.41.59.51 0 1.02-.2 1.41-.59l7.78-7.78 2.81-2.81c.8-.78.8-2.07 0-2.86zM5.41 20L4 18.59l7.72-7.72 1.47 1.35L5.41 20z\"/>\n",
              "  </svg>\n",
              "      </button>\n",
              "\n",
              "\n",
              "\n",
              "    <div id=\"df-c41efa06-fadd-49b7-8b61-928d29bfeeca\">\n",
              "      <button class=\"colab-df-quickchart\" onclick=\"quickchart('df-c41efa06-fadd-49b7-8b61-928d29bfeeca')\"\n",
              "              title=\"Suggest charts.\"\n",
              "              style=\"display:none;\">\n",
              "\n",
              "<svg xmlns=\"http://www.w3.org/2000/svg\" height=\"24px\"viewBox=\"0 0 24 24\"\n",
              "     width=\"24px\">\n",
              "    <g>\n",
              "        <path d=\"M19 3H5c-1.1 0-2 .9-2 2v14c0 1.1.9 2 2 2h14c1.1 0 2-.9 2-2V5c0-1.1-.9-2-2-2zM9 17H7v-7h2v7zm4 0h-2V7h2v10zm4 0h-2v-4h2v4z\"/>\n",
              "    </g>\n",
              "</svg>\n",
              "      </button>\n",
              "    </div>\n",
              "\n",
              "<style>\n",
              "  .colab-df-quickchart {\n",
              "    background-color: #E8F0FE;\n",
              "    border: none;\n",
              "    border-radius: 50%;\n",
              "    cursor: pointer;\n",
              "    display: none;\n",
              "    fill: #1967D2;\n",
              "    height: 32px;\n",
              "    padding: 0 0 0 0;\n",
              "    width: 32px;\n",
              "  }\n",
              "\n",
              "  .colab-df-quickchart:hover {\n",
              "    background-color: #E2EBFA;\n",
              "    box-shadow: 0px 1px 2px rgba(60, 64, 67, 0.3), 0px 1px 3px 1px rgba(60, 64, 67, 0.15);\n",
              "    fill: #174EA6;\n",
              "  }\n",
              "\n",
              "  [theme=dark] .colab-df-quickchart {\n",
              "    background-color: #3B4455;\n",
              "    fill: #D2E3FC;\n",
              "  }\n",
              "\n",
              "  [theme=dark] .colab-df-quickchart:hover {\n",
              "    background-color: #434B5C;\n",
              "    box-shadow: 0px 1px 3px 1px rgba(0, 0, 0, 0.15);\n",
              "    filter: drop-shadow(0px 1px 2px rgba(0, 0, 0, 0.3));\n",
              "    fill: #FFFFFF;\n",
              "  }\n",
              "</style>\n",
              "\n",
              "    <script>\n",
              "      async function quickchart(key) {\n",
              "        const containerElement = document.querySelector('#' + key);\n",
              "        const charts = await google.colab.kernel.invokeFunction(\n",
              "            'suggestCharts', [key], {});\n",
              "      }\n",
              "    </script>\n",
              "\n",
              "      <script>\n",
              "\n",
              "function displayQuickchartButton(domScope) {\n",
              "  let quickchartButtonEl =\n",
              "    domScope.querySelector('#df-c41efa06-fadd-49b7-8b61-928d29bfeeca button.colab-df-quickchart');\n",
              "  quickchartButtonEl.style.display =\n",
              "    google.colab.kernel.accessAllowed ? 'block' : 'none';\n",
              "}\n",
              "\n",
              "        displayQuickchartButton(document);\n",
              "      </script>\n",
              "      <style>\n",
              "    .colab-df-container {\n",
              "      display:flex;\n",
              "      flex-wrap:wrap;\n",
              "      gap: 12px;\n",
              "    }\n",
              "\n",
              "    .colab-df-convert {\n",
              "      background-color: #E8F0FE;\n",
              "      border: none;\n",
              "      border-radius: 50%;\n",
              "      cursor: pointer;\n",
              "      display: none;\n",
              "      fill: #1967D2;\n",
              "      height: 32px;\n",
              "      padding: 0 0 0 0;\n",
              "      width: 32px;\n",
              "    }\n",
              "\n",
              "    .colab-df-convert:hover {\n",
              "      background-color: #E2EBFA;\n",
              "      box-shadow: 0px 1px 2px rgba(60, 64, 67, 0.3), 0px 1px 3px 1px rgba(60, 64, 67, 0.15);\n",
              "      fill: #174EA6;\n",
              "    }\n",
              "\n",
              "    [theme=dark] .colab-df-convert {\n",
              "      background-color: #3B4455;\n",
              "      fill: #D2E3FC;\n",
              "    }\n",
              "\n",
              "    [theme=dark] .colab-df-convert:hover {\n",
              "      background-color: #434B5C;\n",
              "      box-shadow: 0px 1px 3px 1px rgba(0, 0, 0, 0.15);\n",
              "      filter: drop-shadow(0px 1px 2px rgba(0, 0, 0, 0.3));\n",
              "      fill: #FFFFFF;\n",
              "    }\n",
              "  </style>\n",
              "\n",
              "      <script>\n",
              "        const buttonEl =\n",
              "          document.querySelector('#df-8b6b1938-74a0-46af-8e73-61bd32939550 button.colab-df-convert');\n",
              "        buttonEl.style.display =\n",
              "          google.colab.kernel.accessAllowed ? 'block' : 'none';\n",
              "\n",
              "        async function convertToInteractive(key) {\n",
              "          const element = document.querySelector('#df-8b6b1938-74a0-46af-8e73-61bd32939550');\n",
              "          const dataTable =\n",
              "            await google.colab.kernel.invokeFunction('convertToInteractive',\n",
              "                                                     [key], {});\n",
              "          if (!dataTable) return;\n",
              "\n",
              "          const docLinkHtml = 'Like what you see? Visit the ' +\n",
              "            '<a target=\"_blank\" href=https://colab.research.google.com/notebooks/data_table.ipynb>data table notebook</a>'\n",
              "            + ' to learn more about interactive tables.';\n",
              "          element.innerHTML = '';\n",
              "          dataTable['output_type'] = 'display_data';\n",
              "          await google.colab.output.renderOutput(dataTable, element);\n",
              "          const docLink = document.createElement('div');\n",
              "          docLink.innerHTML = docLinkHtml;\n",
              "          element.appendChild(docLink);\n",
              "        }\n",
              "      </script>\n",
              "    </div>\n",
              "  </div>\n"
            ]
          },
          "metadata": {},
          "execution_count": 27
        }
      ]
    },
    {
      "cell_type": "markdown",
      "source": [
        "### **Checking the structure & characteristics of the train dataset**"
      ],
      "metadata": {
        "id": "j9XeQwk2q0wN"
      }
    },
    {
      "cell_type": "code",
      "source": [
        "print('Shape of the train data :', tweets_train_df.shape)"
      ],
      "metadata": {
        "colab": {
          "base_uri": "https://localhost:8080/"
        },
        "id": "x2ZY8Kcwq2yY",
        "outputId": "e181bfec-bf55-46ad-933f-c8d391de0520"
      },
      "execution_count": null,
      "outputs": [
        {
          "output_type": "stream",
          "name": "stdout",
          "text": [
            "Shape of the train data : (46468, 4)\n"
          ]
        }
      ]
    },
    {
      "cell_type": "code",
      "source": [
        "print(\"Number of tweets in train data: \", len(tweets_train_df.groupby(['Tweet_#'])))"
      ],
      "metadata": {
        "colab": {
          "base_uri": "https://localhost:8080/"
        },
        "id": "rh7FBMG0q_QC",
        "outputId": "fbfedcf9-370d-4d0b-cb20-433db3558027"
      },
      "execution_count": null,
      "outputs": [
        {
          "output_type": "stream",
          "name": "stdout",
          "text": [
            "Number of tweets in train data:  2394\n"
          ]
        }
      ]
    },
    {
      "cell_type": "code",
      "source": [
        "words = list(set(tweets_train_df[\"Word\"].values))\n",
        "n_words = len(words)\n",
        "print(\"Number of unique words in the train dataset: \", n_words)"
      ],
      "metadata": {
        "colab": {
          "base_uri": "https://localhost:8080/"
        },
        "id": "0bFhDXF_rGAL",
        "outputId": "04aa0a74-21b7-4c27-ddd2-cde827e7daed"
      },
      "execution_count": null,
      "outputs": [
        {
          "output_type": "stream",
          "name": "stdout",
          "text": [
            "Number of unique words in the train dataset:  10586\n"
          ]
        }
      ]
    },
    {
      "cell_type": "code",
      "source": [
        "n_tags = len(tweets_train_df.groupby(['NER_Tag']))\n",
        "print(\"Number of Labels in train data: \", n_tags)"
      ],
      "metadata": {
        "colab": {
          "base_uri": "https://localhost:8080/"
        },
        "id": "93cdfhP24mqz",
        "outputId": "7f5f8f67-b620-4055-9613-5f407779d6ec"
      },
      "execution_count": null,
      "outputs": [
        {
          "output_type": "stream",
          "name": "stdout",
          "text": [
            "Number of Labels in train data:  21\n"
          ]
        }
      ]
    },
    {
      "cell_type": "code",
      "source": [
        "tags = tweets_train_df[\"NER_Tag\"].unique()\n",
        "print(\"Tags in train data:\", tags)\n"
      ],
      "metadata": {
        "colab": {
          "base_uri": "https://localhost:8080/"
        },
        "id": "Q8W4nrRR4rmn",
        "outputId": "cb65d145-b6ca-4a87-fe65-a6994a9b0e98"
      },
      "execution_count": null,
      "outputs": [
        {
          "output_type": "stream",
          "name": "stdout",
          "text": [
            "Tags in train data: ['O' 'B-geo-loc' 'B-facility' 'I-facility' 'B-movie' 'I-movie' 'B-company'\n",
            " 'B-product' 'B-person' 'B-other' 'I-other' 'B-sportsteam' 'I-sportsteam'\n",
            " 'I-product' 'I-company' 'I-person' 'I-geo-loc' 'B-tvshow' 'B-musicartist'\n",
            " 'I-musicartist' 'I-tvshow']\n"
          ]
        }
      ]
    },
    {
      "cell_type": "code",
      "source": [
        "#let's check the frequency of each NER tag\n",
        "tweets_train_df['NER_Tag_'].value_counts()"
      ],
      "metadata": {
        "colab": {
          "base_uri": "https://localhost:8080/"
        },
        "id": "deVSjyUI5JPi",
        "outputId": "6b5ef4b9-edb8-4d18-a811-951a2a71871a"
      },
      "execution_count": null,
      "outputs": [
        {
          "output_type": "execute_result",
          "data": {
            "text/plain": [
              "O              44006\n",
              "person           664\n",
              "other            545\n",
              "geo-loc          325\n",
              "facility         209\n",
              "company          207\n",
              "product          177\n",
              "musicartist      116\n",
              "movie             80\n",
              "sportsteam        74\n",
              "tvshow            65\n",
              "Name: NER_Tag_, dtype: int64"
            ]
          },
          "metadata": {},
          "execution_count": 33
        }
      ]
    },
    {
      "cell_type": "code",
      "source": [
        "tweets_train_df[tweets_train_df['NER_Tag_']!='O']['NER_Tag_'].value_counts().plot(kind='bar')"
      ],
      "metadata": {
        "colab": {
          "base_uri": "https://localhost:8080/",
          "height": 512
        },
        "id": "3zcLlFo5WKDA",
        "outputId": "9087fbba-8cec-454f-fbe2-b3d8ddf2175c"
      },
      "execution_count": null,
      "outputs": [
        {
          "output_type": "execute_result",
          "data": {
            "text/plain": [
              "<Axes: >"
            ]
          },
          "metadata": {},
          "execution_count": 34
        },
        {
          "output_type": "display_data",
          "data": {
            "text/plain": [
              "<Figure size 640x480 with 1 Axes>"
            ],
            "image/png": "[encoded data removed]"
          },
          "metadata": {}
        }
      ]
    },
    {
      "cell_type": "code",
      "source": [
        "tweets_train_df[tweets_train_df['NER_Tag']!='O']['NER_Tag'].value_counts().plot(kind='bar')"
      ],
      "metadata": {
        "colab": {
          "base_uri": "https://localhost:8080/",
          "height": 526
        },
        "id": "3Ph-ZemvT-yA",
        "outputId": "16a01c0a-d95c-4357-8d6f-82a054cfb70a"
      },
      "execution_count": null,
      "outputs": [
        {
          "output_type": "execute_result",
          "data": {
            "text/plain": [
              "<Axes: >"
            ]
          },
          "metadata": {},
          "execution_count": 35
        },
        {
          "output_type": "display_data",
          "data": {
            "text/plain": [
              "<Figure size 640x480 with 1 Axes>"
            ],
            "image/png": "[encoded data removed]"
          },
          "metadata": {}
        }
      ]
    },
    {
      "cell_type": "code",
      "source": [
        "# Plot tweets by lenght\n",
        "plt.hist([len(tw) for tw in tweets_train], bins=19)\n",
        "plt.title('Tokens per tweet in train dataset')\n",
        "plt.xlabel('Len (number of tokens)')\n",
        "plt.ylabel('# samples')\n",
        "plt.show()"
      ],
      "metadata": {
        "colab": {
          "base_uri": "https://localhost:8080/",
          "height": 472
        },
        "id": "Nu0Ypl5C5L4s",
        "outputId": "82aeaecb-4c1a-4707-b6a6-85b15e9a632c"
      },
      "execution_count": null,
      "outputs": [
        {
          "output_type": "display_data",
          "data": {
            "text/plain": [
              "<Figure size 640x480 with 1 Axes>"
            ],
            "image/png": "[encoded data removed]"
          },
          "metadata": {}
        }
      ]
    },
    {
      "cell_type": "markdown",
      "source": [
        "## **Data preprocessing**"
      ],
      "metadata": {
        "id": "6eezmujLtfKx"
      }
    },
    {
      "cell_type": "code",
      "source": [
        "from collections import defaultdict\n",
        "all_samples = train_samples\n",
        "all_samples.extend(test_samples)\n",
        "\n",
        "word_counts = defaultdict(int) # Calculate vocab size\n",
        "max_len = 0 # Calculate max length of a sentence\n",
        "\n",
        "for sample in all_samples:\n",
        "  for word in sample:\n",
        "    word_counts[word[0]]+=1\n",
        "\n",
        "  max_len = max(max_len, len(sample))\n",
        "\n",
        "n_words = len(word_counts.items())\n",
        "\n",
        "\n",
        "print(\"*\"*30)\n",
        "print(\"Max Length: \", max_len)\n",
        "print(\"Vocab Size: \", n_words)"
      ],
      "metadata": {
        "colab": {
          "base_uri": "https://localhost:8080/"
        },
        "id": "ea6KQik-_RLs",
        "outputId": "c9c4c50e-ca1b-47b5-b256-4162f2cd25cc"
      },
      "execution_count": null,
      "outputs": [
        {
          "output_type": "stream",
          "name": "stdout",
          "text": [
            "******************************\n",
            "Max Length:  39\n",
            "Vocab Size:  25382\n"
          ]
        }
      ]
    },
    {
      "cell_type": "markdown",
      "source": [
        "### **Getting the correct word embedding model and tokenizer**"
      ],
      "metadata": {
        "id": "--_sOEeZhVDm"
      }
    },
    {
      "cell_type": "code",
      "source": [
        "glove_vectors = gensim.downloader.load(\"glove-twitter-200\")"
      ],
      "metadata": {
        "id": "RU5_p1w6hVT4"
      },
      "execution_count": null,
      "outputs": []
    },
    {
      "cell_type": "code",
      "source": [
        "embedding_dim = glove_vectors.vector_size"
      ],
      "metadata": {
        "id": "LgXkuhL-kiKk"
      },
      "execution_count": null,
      "outputs": []
    },
    {
      "cell_type": "code",
      "source": [
        "crf_tokenizer = Tokenizer(num_words=n_words, lower=True)"
      ],
      "metadata": {
        "id": "R0oW4lQLhYRm"
      },
      "execution_count": null,
      "outputs": []
    },
    {
      "cell_type": "markdown",
      "source": [
        "### **Data preprocessing and tokenization**"
      ],
      "metadata": {
        "id": "NgvL4OHcgYdz"
      }
    },
    {
      "cell_type": "code",
      "source": [
        "all_sentences = [] # Concating test, train sentences. To train a tokenizer\n",
        "\n",
        "for tweet in all_samples:\n",
        "  sentence = [tweet_content[0] for tweet_content in tweet]\n",
        "  all_sentences.append(sentence)\n",
        "\n",
        "crf_tokenizer.fit_on_texts(all_sentences)"
      ],
      "metadata": {
        "id": "ZW7P_XG-mr8d"
      },
      "execution_count": null,
      "outputs": []
    },
    {
      "cell_type": "code",
      "source": [
        "print(len(crf_tokenizer.word_index))"
      ],
      "metadata": {
        "colab": {
          "base_uri": "https://localhost:8080/"
        },
        "id": "cPPo4YtvnWoC",
        "outputId": "de2af231-cfc9-4ae7-c0da-6042bbc611e0"
      },
      "execution_count": null,
      "outputs": [
        {
          "output_type": "stream",
          "name": "stdout",
          "text": [
            "21933\n"
          ]
        }
      ]
    },
    {
      "cell_type": "code",
      "source": [
        "tag2id = {} # Label to indicies mapping\n",
        "id2tag = {} # Index to label mapping\n",
        "for i, tag in enumerate(schema):\n",
        "  tag2id[tag] = i\n",
        "  id2tag[i] = tag"
      ],
      "metadata": {
        "id": "5pxpUm93CEgn"
      },
      "execution_count": null,
      "outputs": []
    },
    {
      "cell_type": "code",
      "source": [
        "tag2id, id2tag"
      ],
      "metadata": {
        "colab": {
          "base_uri": "https://localhost:8080/"
        },
        "id": "sYVfyOpwlYY2",
        "outputId": "195ff384-baa1-453a-dc40-697a120320f5"
      },
      "execution_count": null,
      "outputs": [
        {
          "output_type": "execute_result",
          "data": {
            "text/plain": [
              "({'_': 0,\n",
              "  'B-company': 1,\n",
              "  'B-facility': 2,\n",
              "  'B-geo-loc': 3,\n",
              "  'B-movie': 4,\n",
              "  'B-musicartist': 5,\n",
              "  'B-other': 6,\n",
              "  'B-person': 7,\n",
              "  'B-product': 8,\n",
              "  'B-sportsteam': 9,\n",
              "  'B-tvshow': 10,\n",
              "  'I-company': 11,\n",
              "  'I-facility': 12,\n",
              "  'I-geo-loc': 13,\n",
              "  'I-movie': 14,\n",
              "  'I-musicartist': 15,\n",
              "  'I-other': 16,\n",
              "  'I-person': 17,\n",
              "  'I-product': 18,\n",
              "  'I-sportsteam': 19,\n",
              "  'I-tvshow': 20,\n",
              "  'O': 21},\n",
              " {0: '_',\n",
              "  1: 'B-company',\n",
              "  2: 'B-facility',\n",
              "  3: 'B-geo-loc',\n",
              "  4: 'B-movie',\n",
              "  5: 'B-musicartist',\n",
              "  6: 'B-other',\n",
              "  7: 'B-person',\n",
              "  8: 'B-product',\n",
              "  9: 'B-sportsteam',\n",
              "  10: 'B-tvshow',\n",
              "  11: 'I-company',\n",
              "  12: 'I-facility',\n",
              "  13: 'I-geo-loc',\n",
              "  14: 'I-movie',\n",
              "  15: 'I-musicartist',\n",
              "  16: 'I-other',\n",
              "  17: 'I-person',\n",
              "  18: 'I-product',\n",
              "  19: 'I-sportsteam',\n",
              "  20: 'I-tvshow',\n",
              "  21: 'O'})"
            ]
          },
          "metadata": {},
          "execution_count": 44
        }
      ]
    },
    {
      "cell_type": "code",
      "source": [
        "num_tokens = len(crf_tokenizer.word_index) + 1\n",
        "hits = 0\n",
        "misses = 0\n",
        "missed_words = []\n",
        "\n",
        "\n",
        "# Prepare embedding matrix\n",
        "embedding_matrix = np.zeros((num_tokens, embedding_dim))\n",
        "for word, i in crf_tokenizer.word_index.items():\n",
        "  embedding_vector = None\n",
        "  try:\n",
        "    embedding_vector = glove_vectors[word]\n",
        "  except Exception :\n",
        "    pass\n",
        "\n",
        "  if embedding_vector is not None:\n",
        "    # Words not found in embedding index will be all-zeros.\n",
        "    # This includes the representation for \"padding\" and \"OOV\"\n",
        "    embedding_matrix[i] = embedding_vector\n",
        "    hits += 1\n",
        "  else:\n",
        "    missed_words.append(word)\n",
        "    misses += 1\n",
        "print(\"Converted %d words (%d misses)\" % (hits, misses))"
      ],
      "metadata": {
        "id": "c8MGdQRbzO7E",
        "colab": {
          "base_uri": "https://localhost:8080/"
        },
        "outputId": "54019725-4349-4a68-a66d-7b121a7cd1f1"
      },
      "execution_count": null,
      "outputs": [
        {
          "output_type": "stream",
          "name": "stdout",
          "text": [
            "Converted 11495 words (10438 misses)\n"
          ]
        }
      ]
    },
    {
      "cell_type": "markdown",
      "source": [
        "## **Train test split the data**"
      ],
      "metadata": {
        "id": "Cr90pC6uhtS-"
      }
    },
    {
      "cell_type": "code",
      "source": [
        "def get_dataset(samples, max_len, tag2id, tokenizer):\n",
        "  '''Prepares the input dataset\n",
        "\n",
        "  Args:\n",
        "    `samples`: List[List[Tuple[word, tag]]], input data\n",
        "    `max_len`: Maximum input length\n",
        "    `tag2id`: Mapping[tag: integer]\n",
        "    `tokenizer`: Tensorflow tokenizer, for tokenizing input sequence\n",
        "\n",
        "  Returns:\n",
        "    Tuple[np.ndarray, np.ndarray]: sentences and it's labels\n",
        "  '''\n",
        "  dataset = {'samples':[], 'labels': []}\n",
        "\n",
        "  for sample in samples:\n",
        "    # Extracting inputs and labels\n",
        "    inputs = [x[0] for x in sample]\n",
        "    outputs = [x[1] for x in sample]\n",
        "\n",
        "    # Tokenizing inputs\n",
        "    inputs = tokenizer.texts_to_sequences([inputs])[0]\n",
        "\n",
        "    # padding labels\n",
        "    padded_inputs = [inputs[i] if i < len(inputs) else 0 for i in range(max_len)]\n",
        "\n",
        "    # Initializing labels as One Hot Encoded Vectors\n",
        "    padded_labels = [[0 for i in range(len(tag2id))] for j in range(max_len)]\n",
        "    for i in range(len(outputs)):\n",
        "      padded_labels[i][tag2id[outputs[i]]] = 1\n",
        "\n",
        "    # Adding padded inputs & labels to dataset\n",
        "    dataset['samples'].append(padded_inputs)\n",
        "    dataset['labels'].append(padded_labels)\n",
        "\n",
        "  return np.array(dataset['samples']), np.array(dataset['labels'])\n",
        "\n",
        "train_sentences, train_labels = get_dataset(train_samples, max_len, tag2id, crf_tokenizer)\n",
        "test_sentences, test_labels = get_dataset(test_samples, max_len, tag2id, crf_tokenizer)"
      ],
      "metadata": {
        "id": "nwALveT9CQuh"
      },
      "execution_count": null,
      "outputs": []
    },
    {
      "cell_type": "code",
      "source": [
        "train_sentences[0]"
      ],
      "metadata": {
        "colab": {
          "base_uri": "https://localhost:8080/"
        },
        "id": "Nsvx0IvENqOX",
        "outputId": "ad366633-8a4f-4605-d7ad-1b5c86941a34"
      },
      "execution_count": null,
      "outputs": [
        {
          "output_type": "execute_result",
          "data": {
            "text/plain": [
              "array([5791, 5792,  107,   51,   23,   52,  277,   61,   81,  834,   36,\n",
              "       5793,    0,    0,    0,    0,    0,    0,    0,    0,    0,    0,\n",
              "          0,    0,    0,    0,    0,    0,    0,    0,    0,    0,    0,\n",
              "          0,    0,    0,    0,    0,    0])"
            ]
          },
          "metadata": {},
          "execution_count": 47
        }
      ]
    },
    {
      "cell_type": "code",
      "source": [
        "train_labels[0]"
      ],
      "metadata": {
        "colab": {
          "base_uri": "https://localhost:8080/"
        },
        "id": "TdaTgrdNNs4N",
        "outputId": "402d50ae-5580-4cb5-ce48-b7900157fb59"
      },
      "execution_count": null,
      "outputs": [
        {
          "output_type": "execute_result",
          "data": {
            "text/plain": [
              "array([[0, 0, 0, 0, 0, 0, 0, 0, 0, 0, 0, 0, 0, 0, 0, 0, 0, 0, 0, 0, 0, 1],\n",
              "       [0, 0, 0, 0, 0, 0, 0, 0, 0, 0, 0, 0, 0, 0, 0, 0, 0, 0, 0, 0, 0, 1],\n",
              "       [0, 0, 0, 0, 0, 0, 0, 0, 0, 0, 0, 0, 0, 0, 0, 0, 0, 0, 0, 0, 0, 1],\n",
              "       [0, 0, 0, 0, 0, 0, 0, 0, 0, 0, 0, 0, 0, 0, 0, 0, 0, 0, 0, 0, 0, 1],\n",
              "       [0, 0, 0, 0, 0, 0, 0, 0, 0, 0, 0, 0, 0, 0, 0, 0, 0, 0, 0, 0, 0, 1],\n",
              "       [0, 0, 0, 0, 0, 0, 0, 0, 0, 0, 0, 0, 0, 0, 0, 0, 0, 0, 0, 0, 0, 1],\n",
              "       [0, 0, 0, 0, 0, 0, 0, 0, 0, 0, 0, 0, 0, 0, 0, 0, 0, 0, 0, 0, 0, 1],\n",
              "       [0, 0, 0, 0, 0, 0, 0, 0, 0, 0, 0, 0, 0, 0, 0, 0, 0, 0, 0, 0, 0, 1],\n",
              "       [0, 0, 0, 0, 0, 0, 0, 0, 0, 0, 0, 0, 0, 0, 0, 0, 0, 0, 0, 0, 0, 1],\n",
              "       [0, 0, 0, 0, 0, 0, 0, 0, 0, 0, 0, 0, 0, 0, 0, 0, 0, 0, 0, 0, 0, 1],\n",
              "       [0, 0, 0, 0, 0, 0, 0, 0, 0, 0, 0, 0, 0, 0, 0, 0, 0, 0, 0, 0, 0, 1],\n",
              "       [0, 0, 0, 0, 0, 0, 0, 0, 0, 0, 0, 0, 0, 0, 0, 0, 0, 0, 0, 0, 0, 1],\n",
              "       [0, 0, 0, 0, 0, 0, 0, 0, 0, 0, 0, 0, 0, 0, 0, 0, 0, 0, 0, 0, 0, 0],\n",
              "       [0, 0, 0, 0, 0, 0, 0, 0, 0, 0, 0, 0, 0, 0, 0, 0, 0, 0, 0, 0, 0, 0],\n",
              "       [0, 0, 0, 0, 0, 0, 0, 0, 0, 0, 0, 0, 0, 0, 0, 0, 0, 0, 0, 0, 0, 0],\n",
              "       [0, 0, 0, 0, 0, 0, 0, 0, 0, 0, 0, 0, 0, 0, 0, 0, 0, 0, 0, 0, 0, 0],\n",
              "       [0, 0, 0, 0, 0, 0, 0, 0, 0, 0, 0, 0, 0, 0, 0, 0, 0, 0, 0, 0, 0, 0],\n",
              "       [0, 0, 0, 0, 0, 0, 0, 0, 0, 0, 0, 0, 0, 0, 0, 0, 0, 0, 0, 0, 0, 0],\n",
              "       [0, 0, 0, 0, 0, 0, 0, 0, 0, 0, 0, 0, 0, 0, 0, 0, 0, 0, 0, 0, 0, 0],\n",
              "       [0, 0, 0, 0, 0, 0, 0, 0, 0, 0, 0, 0, 0, 0, 0, 0, 0, 0, 0, 0, 0, 0],\n",
              "       [0, 0, 0, 0, 0, 0, 0, 0, 0, 0, 0, 0, 0, 0, 0, 0, 0, 0, 0, 0, 0, 0],\n",
              "       [0, 0, 0, 0, 0, 0, 0, 0, 0, 0, 0, 0, 0, 0, 0, 0, 0, 0, 0, 0, 0, 0],\n",
              "       [0, 0, 0, 0, 0, 0, 0, 0, 0, 0, 0, 0, 0, 0, 0, 0, 0, 0, 0, 0, 0, 0],\n",
              "       [0, 0, 0, 0, 0, 0, 0, 0, 0, 0, 0, 0, 0, 0, 0, 0, 0, 0, 0, 0, 0, 0],\n",
              "       [0, 0, 0, 0, 0, 0, 0, 0, 0, 0, 0, 0, 0, 0, 0, 0, 0, 0, 0, 0, 0, 0],\n",
              "       [0, 0, 0, 0, 0, 0, 0, 0, 0, 0, 0, 0, 0, 0, 0, 0, 0, 0, 0, 0, 0, 0],\n",
              "       [0, 0, 0, 0, 0, 0, 0, 0, 0, 0, 0, 0, 0, 0, 0, 0, 0, 0, 0, 0, 0, 0],\n",
              "       [0, 0, 0, 0, 0, 0, 0, 0, 0, 0, 0, 0, 0, 0, 0, 0, 0, 0, 0, 0, 0, 0],\n",
              "       [0, 0, 0, 0, 0, 0, 0, 0, 0, 0, 0, 0, 0, 0, 0, 0, 0, 0, 0, 0, 0, 0],\n",
              "       [0, 0, 0, 0, 0, 0, 0, 0, 0, 0, 0, 0, 0, 0, 0, 0, 0, 0, 0, 0, 0, 0],\n",
              "       [0, 0, 0, 0, 0, 0, 0, 0, 0, 0, 0, 0, 0, 0, 0, 0, 0, 0, 0, 0, 0, 0],\n",
              "       [0, 0, 0, 0, 0, 0, 0, 0, 0, 0, 0, 0, 0, 0, 0, 0, 0, 0, 0, 0, 0, 0],\n",
              "       [0, 0, 0, 0, 0, 0, 0, 0, 0, 0, 0, 0, 0, 0, 0, 0, 0, 0, 0, 0, 0, 0],\n",
              "       [0, 0, 0, 0, 0, 0, 0, 0, 0, 0, 0, 0, 0, 0, 0, 0, 0, 0, 0, 0, 0, 0],\n",
              "       [0, 0, 0, 0, 0, 0, 0, 0, 0, 0, 0, 0, 0, 0, 0, 0, 0, 0, 0, 0, 0, 0],\n",
              "       [0, 0, 0, 0, 0, 0, 0, 0, 0, 0, 0, 0, 0, 0, 0, 0, 0, 0, 0, 0, 0, 0],\n",
              "       [0, 0, 0, 0, 0, 0, 0, 0, 0, 0, 0, 0, 0, 0, 0, 0, 0, 0, 0, 0, 0, 0],\n",
              "       [0, 0, 0, 0, 0, 0, 0, 0, 0, 0, 0, 0, 0, 0, 0, 0, 0, 0, 0, 0, 0, 0],\n",
              "       [0, 0, 0, 0, 0, 0, 0, 0, 0, 0, 0, 0, 0, 0, 0, 0, 0, 0, 0, 0, 0, 0]])"
            ]
          },
          "metadata": {},
          "execution_count": 48
        }
      ]
    },
    {
      "cell_type": "markdown",
      "source": [
        "## **Training a Bi-LSTM + CRF Model**"
      ],
      "metadata": {
        "id": "K9PLnsRYh2M2"
      }
    },
    {
      "cell_type": "code",
      "source": [
        "def build_model():\n",
        "  # Model definition\n",
        "  input = Input(shape=(max_len,))\n",
        "\n",
        "  # Get embeddings\n",
        "  embeddings = Embedding(input_dim=embedding_matrix.shape[0],\n",
        "                      output_dim=embedding_dim,\n",
        "                      input_length=max_len, mask_zero=True,\n",
        "                      embeddings_initializer=tf.keras.initializers.Constant(embedding_matrix)\n",
        "                    )(input)\n",
        "\n",
        "  # variational biLSTM\n",
        "  output_sequences = Bidirectional(LSTM(units=50, return_sequences=True))(embeddings)\n",
        "\n",
        "  # Stacking\n",
        "  output_sequences = Bidirectional(LSTM(units=50, return_sequences=True))(output_sequences)\n",
        "\n",
        "  # Adding more non-linearity\n",
        "  dense_out = TimeDistributed(Dense(25, activation=\"relu\"))(output_sequences)\n",
        "\n",
        "  # CRF layer\n",
        "  crf = CRF(len(schema), name='crf')\n",
        "  predicted_sequence, potentials, sequence_length, crf_kernel = crf(dense_out)\n",
        "\n",
        "  model = Model(input, potentials)\n",
        "  model.compile(\n",
        "      optimizer=AdamW(weight_decay=0.001),\n",
        "      loss= SigmoidFocalCrossEntropy()) # Sigmoid focal cross entropy loss\n",
        "\n",
        "  return model"
      ],
      "metadata": {
        "id": "6TY9VLtMCtBB"
      },
      "execution_count": null,
      "outputs": []
    },
    {
      "cell_type": "code",
      "source": [
        "model = build_model()\n",
        "\n",
        "# Model Checkpointing\n",
        "save_model = ModelCheckpoint(filepath='/content/drive/MyDrive/Colab Notebooks/logs/checkpoint/twitter_ner_crf.h5',\n",
        "                             monitor='val_loss',\n",
        "                             save_weights_only=True,\n",
        "                             save_best_only=True,\n",
        "                             verbose=1)\n",
        "\n",
        "# Early stopping\n",
        "es = EarlyStopping(monitor='val_loss', verbose=1, patience=10)\n",
        "\n",
        "callbacks = [save_model, es]\n",
        "\n",
        "model.summary()"
      ],
      "metadata": {
        "colab": {
          "base_uri": "https://localhost:8080/"
        },
        "id": "lHmly3Wn1GDk",
        "outputId": "df7a74fb-6553-4733-c46e-791dd49d4ae8"
      },
      "execution_count": null,
      "outputs": [
        {
          "output_type": "stream",
          "name": "stdout",
          "text": [
            "Model: \"model\"\n",
            "_________________________________________________________________\n",
            " Layer (type)                Output Shape              Param #   \n",
            "=================================================================\n",
            " input_1 (InputLayer)        [(None, 39)]              0         \n",
            "                                                                 \n",
            " embedding (Embedding)       (None, 39, 200)           4386800   \n",
            "                                                                 \n",
            " bidirectional (Bidirectiona  (None, 39, 100)          100400    \n",
            " l)                                                              \n",
            "                                                                 \n",
            " bidirectional_1 (Bidirectio  (None, 39, 100)          60400     \n",
            " nal)                                                            \n",
            "                                                                 \n",
            " time_distributed (TimeDistr  (None, 39, 25)           2525      \n",
            " ibuted)                                                         \n",
            "                                                                 \n",
            " crf (CRF)                   [(None, 39),              1100      \n",
            "                              (None, 39, 22),                    \n",
            "                              (None,),                           \n",
            "                              (22, 22)]                          \n",
            "                                                                 \n",
            "=================================================================\n",
            "Total params: 4,551,225\n",
            "Trainable params: 4,551,225\n",
            "Non-trainable params: 0\n",
            "_________________________________________________________________\n"
          ]
        }
      ]
    },
    {
      "cell_type": "markdown",
      "source": [
        "## **Training our model**"
      ],
      "metadata": {
        "id": "0wPdcDapPBxe"
      }
    },
    {
      "cell_type": "code",
      "source": [
        "history = model.fit(train_sentences, train_labels,\n",
        "                    validation_data = (test_sentences, test_labels),\n",
        "                    epochs = 300,\n",
        "                    callbacks  = callbacks,\n",
        "                    shuffle=True)"
      ],
      "metadata": {
        "id": "TMakq-du9S_a",
        "colab": {
          "base_uri": "https://localhost:8080/"
        },
        "outputId": "95f27321-85eb-44ec-b4ff-f0ef5250b642"
      },
      "execution_count": null,
      "outputs": [
        {
          "output_type": "stream",
          "name": "stdout",
          "text": [
            "Epoch 1/300\n"
          ]
        },
        {
          "output_type": "stream",
          "name": "stderr",
          "text": [
            "WARNING:tensorflow:Gradients do not exist for variables ['chain_kernel:0'] when minimizing the loss. If you're using `model.compile()`, did you forget to provide a `loss` argument?\n",
            "WARNING:tensorflow:Gradients do not exist for variables ['chain_kernel:0'] when minimizing the loss. If you're using `model.compile()`, did you forget to provide a `loss` argument?\n"
          ]
        },
        {
          "output_type": "stream",
          "name": "stdout",
          "text": [
            "195/196 [============================>.] - ETA: 0s - loss: 0.0788\n",
            "Epoch 1: val_loss improved from inf to 0.04469, saving model to /content/drive/MyDrive/Colab Notebooks/logs/checkpoint/twitter_ner_crf.h5\n",
            "196/196 [==============================] - 35s 74ms/step - loss: 0.0788 - val_loss: 0.0447\n",
            "Epoch 2/300\n",
            "195/196 [============================>.] - ETA: 0s - loss: 0.0383\n",
            "Epoch 2: val_loss improved from 0.04469 to 0.03791, saving model to /content/drive/MyDrive/Colab Notebooks/logs/checkpoint/twitter_ner_crf.h5\n",
            "196/196 [==============================] - 8s 42ms/step - loss: 0.0383 - val_loss: 0.0379\n",
            "Epoch 3/300\n",
            "196/196 [==============================] - ETA: 0s - loss: 0.0322\n",
            "Epoch 3: val_loss improved from 0.03791 to 0.03103, saving model to /content/drive/MyDrive/Colab Notebooks/logs/checkpoint/twitter_ner_crf.h5\n",
            "196/196 [==============================] - 11s 55ms/step - loss: 0.0322 - val_loss: 0.0310\n",
            "Epoch 4/300\n",
            "196/196 [==============================] - ETA: 0s - loss: 0.0262\n",
            "Epoch 4: val_loss improved from 0.03103 to 0.02560, saving model to /content/drive/MyDrive/Colab Notebooks/logs/checkpoint/twitter_ner_crf.h5\n",
            "196/196 [==============================] - 8s 39ms/step - loss: 0.0262 - val_loss: 0.0256\n",
            "Epoch 5/300\n",
            "196/196 [==============================] - ETA: 0s - loss: 0.0217\n",
            "Epoch 5: val_loss improved from 0.02560 to 0.02138, saving model to /content/drive/MyDrive/Colab Notebooks/logs/checkpoint/twitter_ner_crf.h5\n",
            "196/196 [==============================] - 10s 49ms/step - loss: 0.0217 - val_loss: 0.0214\n",
            "Epoch 6/300\n",
            "195/196 [============================>.] - ETA: 0s - loss: 0.0185\n",
            "Epoch 6: val_loss improved from 0.02138 to 0.01895, saving model to /content/drive/MyDrive/Colab Notebooks/logs/checkpoint/twitter_ner_crf.h5\n",
            "196/196 [==============================] - 9s 48ms/step - loss: 0.0185 - val_loss: 0.0189\n",
            "Epoch 7/300\n",
            "196/196 [==============================] - ETA: 0s - loss: 0.0165\n",
            "Epoch 7: val_loss improved from 0.01895 to 0.01747, saving model to /content/drive/MyDrive/Colab Notebooks/logs/checkpoint/twitter_ner_crf.h5\n",
            "196/196 [==============================] - 8s 41ms/step - loss: 0.0165 - val_loss: 0.0175\n",
            "Epoch 8/300\n",
            "195/196 [============================>.] - ETA: 0s - loss: 0.0152\n",
            "Epoch 8: val_loss improved from 0.01747 to 0.01612, saving model to /content/drive/MyDrive/Colab Notebooks/logs/checkpoint/twitter_ner_crf.h5\n",
            "196/196 [==============================] - 11s 57ms/step - loss: 0.0152 - val_loss: 0.0161\n",
            "Epoch 9/300\n",
            "195/196 [============================>.] - ETA: 0s - loss: 0.0141\n",
            "Epoch 9: val_loss improved from 0.01612 to 0.01508, saving model to /content/drive/MyDrive/Colab Notebooks/logs/checkpoint/twitter_ner_crf.h5\n",
            "196/196 [==============================] - 7s 38ms/step - loss: 0.0141 - val_loss: 0.0151\n",
            "Epoch 10/300\n",
            "196/196 [==============================] - ETA: 0s - loss: 0.0134\n",
            "Epoch 10: val_loss improved from 0.01508 to 0.01420, saving model to /content/drive/MyDrive/Colab Notebooks/logs/checkpoint/twitter_ner_crf.h5\n",
            "196/196 [==============================] - 10s 53ms/step - loss: 0.0134 - val_loss: 0.0142\n",
            "Epoch 11/300\n",
            "195/196 [============================>.] - ETA: 0s - loss: 0.0126\n",
            "Epoch 11: val_loss improved from 0.01420 to 0.01348, saving model to /content/drive/MyDrive/Colab Notebooks/logs/checkpoint/twitter_ner_crf.h5\n",
            "196/196 [==============================] - 8s 41ms/step - loss: 0.0126 - val_loss: 0.0135\n",
            "Epoch 12/300\n",
            "195/196 [============================>.] - ETA: 0s - loss: 0.0120\n",
            "Epoch 12: val_loss improved from 0.01348 to 0.01283, saving model to /content/drive/MyDrive/Colab Notebooks/logs/checkpoint/twitter_ner_crf.h5\n",
            "196/196 [==============================] - 9s 48ms/step - loss: 0.0120 - val_loss: 0.0128\n",
            "Epoch 13/300\n",
            "195/196 [============================>.] - ETA: 0s - loss: 0.0113\n",
            "Epoch 13: val_loss improved from 0.01283 to 0.01221, saving model to /content/drive/MyDrive/Colab Notebooks/logs/checkpoint/twitter_ner_crf.h5\n",
            "196/196 [==============================] - 7s 38ms/step - loss: 0.0113 - val_loss: 0.0122\n",
            "Epoch 14/300\n",
            "195/196 [============================>.] - ETA: 0s - loss: 0.0106\n",
            "Epoch 14: val_loss improved from 0.01221 to 0.01174, saving model to /content/drive/MyDrive/Colab Notebooks/logs/checkpoint/twitter_ner_crf.h5\n",
            "196/196 [==============================] - 9s 48ms/step - loss: 0.0106 - val_loss: 0.0117\n",
            "Epoch 15/300\n",
            "195/196 [============================>.] - ETA: 0s - loss: 0.0102\n",
            "Epoch 15: val_loss improved from 0.01174 to 0.01101, saving model to /content/drive/MyDrive/Colab Notebooks/logs/checkpoint/twitter_ner_crf.h5\n",
            "196/196 [==============================] - 8s 43ms/step - loss: 0.0102 - val_loss: 0.0110\n",
            "Epoch 16/300\n",
            "194/196 [============================>.] - ETA: 0s - loss: 0.0096\n",
            "Epoch 16: val_loss improved from 0.01101 to 0.01034, saving model to /content/drive/MyDrive/Colab Notebooks/logs/checkpoint/twitter_ner_crf.h5\n",
            "196/196 [==============================] - 8s 42ms/step - loss: 0.0096 - val_loss: 0.0103\n",
            "Epoch 17/300\n",
            "196/196 [==============================] - ETA: 0s - loss: 0.0098\n",
            "Epoch 17: val_loss did not improve from 0.01034\n",
            "196/196 [==============================] - 8s 41ms/step - loss: 0.0098 - val_loss: 0.0104\n",
            "Epoch 18/300\n",
            "195/196 [============================>.] - ETA: 0s - loss: 0.0090\n",
            "Epoch 18: val_loss improved from 0.01034 to 0.00957, saving model to /content/drive/MyDrive/Colab Notebooks/logs/checkpoint/twitter_ner_crf.h5\n",
            "196/196 [==============================] - 8s 41ms/step - loss: 0.0090 - val_loss: 0.0096\n",
            "Epoch 19/300\n",
            "196/196 [==============================] - ETA: 0s - loss: 0.0087\n",
            "Epoch 19: val_loss did not improve from 0.00957\n",
            "196/196 [==============================] - 10s 50ms/step - loss: 0.0087 - val_loss: 0.0098\n",
            "Epoch 20/300\n",
            "196/196 [==============================] - ETA: 0s - loss: 0.0083\n",
            "Epoch 20: val_loss improved from 0.00957 to 0.00916, saving model to /content/drive/MyDrive/Colab Notebooks/logs/checkpoint/twitter_ner_crf.h5\n",
            "196/196 [==============================] - 7s 38ms/step - loss: 0.0083 - val_loss: 0.0092\n",
            "Epoch 21/300\n",
            "195/196 [============================>.] - ETA: 0s - loss: 0.0080\n",
            "Epoch 21: val_loss improved from 0.00916 to 0.00880, saving model to /content/drive/MyDrive/Colab Notebooks/logs/checkpoint/twitter_ner_crf.h5\n",
            "196/196 [==============================] - 10s 52ms/step - loss: 0.0079 - val_loss: 0.0088\n",
            "Epoch 22/300\n",
            "196/196 [==============================] - ETA: 0s - loss: 0.0076\n",
            "Epoch 22: val_loss improved from 0.00880 to 0.00812, saving model to /content/drive/MyDrive/Colab Notebooks/logs/checkpoint/twitter_ner_crf.h5\n",
            "196/196 [==============================] - 8s 41ms/step - loss: 0.0076 - val_loss: 0.0081\n",
            "Epoch 23/300\n",
            "196/196 [==============================] - ETA: 0s - loss: 0.0070\n",
            "Epoch 23: val_loss improved from 0.00812 to 0.00753, saving model to /content/drive/MyDrive/Colab Notebooks/logs/checkpoint/twitter_ner_crf.h5\n",
            "196/196 [==============================] - 11s 54ms/step - loss: 0.0070 - val_loss: 0.0075\n",
            "Epoch 24/300\n",
            "195/196 [============================>.] - ETA: 0s - loss: 0.0067\n",
            "Epoch 24: val_loss improved from 0.00753 to 0.00719, saving model to /content/drive/MyDrive/Colab Notebooks/logs/checkpoint/twitter_ner_crf.h5\n",
            "196/196 [==============================] - 7s 38ms/step - loss: 0.0067 - val_loss: 0.0072\n",
            "Epoch 25/300\n",
            "195/196 [============================>.] - ETA: 0s - loss: 0.0063\n",
            "Epoch 25: val_loss did not improve from 0.00719\n",
            "196/196 [==============================] - 10s 49ms/step - loss: 0.0063 - val_loss: 0.0091\n",
            "Epoch 26/300\n",
            "195/196 [============================>.] - ETA: 0s - loss: 0.0068\n",
            "Epoch 26: val_loss improved from 0.00719 to 0.00663, saving model to /content/drive/MyDrive/Colab Notebooks/logs/checkpoint/twitter_ner_crf.h5\n",
            "196/196 [==============================] - 7s 37ms/step - loss: 0.0068 - val_loss: 0.0066\n",
            "Epoch 27/300\n",
            "195/196 [============================>.] - ETA: 0s - loss: 0.0057\n",
            "Epoch 27: val_loss improved from 0.00663 to 0.00572, saving model to /content/drive/MyDrive/Colab Notebooks/logs/checkpoint/twitter_ner_crf.h5\n",
            "196/196 [==============================] - 10s 50ms/step - loss: 0.0057 - val_loss: 0.0057\n",
            "Epoch 28/300\n",
            "195/196 [============================>.] - ETA: 0s - loss: 0.0057\n",
            "Epoch 28: val_loss did not improve from 0.00572\n",
            "196/196 [==============================] - 7s 34ms/step - loss: 0.0057 - val_loss: 0.0170\n",
            "Epoch 29/300\n",
            "195/196 [============================>.] - ETA: 0s - loss: 0.0066\n",
            "Epoch 29: val_loss improved from 0.00572 to 0.00563, saving model to /content/drive/MyDrive/Colab Notebooks/logs/checkpoint/twitter_ner_crf.h5\n",
            "196/196 [==============================] - 10s 50ms/step - loss: 0.0066 - val_loss: 0.0056\n",
            "Epoch 30/300\n",
            "195/196 [============================>.] - ETA: 0s - loss: 0.0051\n",
            "Epoch 30: val_loss did not improve from 0.00563\n",
            "196/196 [==============================] - 7s 34ms/step - loss: 0.0051 - val_loss: 0.0062\n",
            "Epoch 31/300\n",
            "195/196 [============================>.] - ETA: 0s - loss: 0.0050\n",
            "Epoch 31: val_loss improved from 0.00563 to 0.00503, saving model to /content/drive/MyDrive/Colab Notebooks/logs/checkpoint/twitter_ner_crf.h5\n",
            "196/196 [==============================] - 10s 51ms/step - loss: 0.0050 - val_loss: 0.0050\n",
            "Epoch 32/300\n",
            "195/196 [============================>.] - ETA: 0s - loss: 0.0044\n",
            "Epoch 32: val_loss did not improve from 0.00503\n",
            "196/196 [==============================] - 7s 34ms/step - loss: 0.0044 - val_loss: 0.0058\n",
            "Epoch 33/300\n",
            "195/196 [============================>.] - ETA: 0s - loss: 0.0040\n",
            "Epoch 33: val_loss improved from 0.00503 to 0.00418, saving model to /content/drive/MyDrive/Colab Notebooks/logs/checkpoint/twitter_ner_crf.h5\n",
            "196/196 [==============================] - 10s 52ms/step - loss: 0.0040 - val_loss: 0.0042\n",
            "Epoch 34/300\n",
            "196/196 [==============================] - ETA: 0s - loss: 0.0037\n",
            "Epoch 34: val_loss improved from 0.00418 to 0.00377, saving model to /content/drive/MyDrive/Colab Notebooks/logs/checkpoint/twitter_ner_crf.h5\n",
            "196/196 [==============================] - 7s 38ms/step - loss: 0.0037 - val_loss: 0.0038\n",
            "Epoch 35/300\n",
            "196/196 [==============================] - ETA: 0s - loss: 0.0045\n",
            "Epoch 35: val_loss did not improve from 0.00377\n",
            "196/196 [==============================] - 10s 49ms/step - loss: 0.0045 - val_loss: 0.0048\n",
            "Epoch 36/300\n",
            "196/196 [==============================] - ETA: 0s - loss: 0.0036\n",
            "Epoch 36: val_loss improved from 0.00377 to 0.00340, saving model to /content/drive/MyDrive/Colab Notebooks/logs/checkpoint/twitter_ner_crf.h5\n",
            "196/196 [==============================] - 8s 38ms/step - loss: 0.0036 - val_loss: 0.0034\n",
            "Epoch 37/300\n",
            "195/196 [============================>.] - ETA: 0s - loss: 0.0045\n",
            "Epoch 37: val_loss did not improve from 0.00340\n",
            "196/196 [==============================] - 9s 46ms/step - loss: 0.0045 - val_loss: 0.0037\n",
            "Epoch 38/300\n",
            "196/196 [==============================] - ETA: 0s - loss: 0.0039\n",
            "Epoch 38: val_loss improved from 0.00340 to 0.00339, saving model to /content/drive/MyDrive/Colab Notebooks/logs/checkpoint/twitter_ner_crf.h5\n",
            "196/196 [==============================] - 7s 38ms/step - loss: 0.0039 - val_loss: 0.0034\n",
            "Epoch 39/300\n",
            "196/196 [==============================] - ETA: 0s - loss: 0.0027\n",
            "Epoch 39: val_loss improved from 0.00339 to 0.00270, saving model to /content/drive/MyDrive/Colab Notebooks/logs/checkpoint/twitter_ner_crf.h5\n",
            "196/196 [==============================] - 10s 50ms/step - loss: 0.0027 - val_loss: 0.0027\n",
            "Epoch 40/300\n",
            "195/196 [============================>.] - ETA: 0s - loss: 0.0027\n",
            "Epoch 40: val_loss improved from 0.00270 to 0.00241, saving model to /content/drive/MyDrive/Colab Notebooks/logs/checkpoint/twitter_ner_crf.h5\n",
            "196/196 [==============================] - 8s 40ms/step - loss: 0.0027 - val_loss: 0.0024\n",
            "Epoch 41/300\n",
            "195/196 [============================>.] - ETA: 0s - loss: 0.0030\n",
            "Epoch 41: val_loss did not improve from 0.00241\n",
            "196/196 [==============================] - 8s 42ms/step - loss: 0.0030 - val_loss: 0.0035\n",
            "Epoch 42/300\n",
            "196/196 [==============================] - ETA: 0s - loss: 0.0062\n",
            "Epoch 42: val_loss did not improve from 0.00241\n",
            "196/196 [==============================] - 8s 41ms/step - loss: 0.0062 - val_loss: 0.0036\n",
            "Epoch 43/300\n",
            "196/196 [==============================] - ETA: 0s - loss: 0.0031\n",
            "Epoch 43: val_loss did not improve from 0.00241\n",
            "196/196 [==============================] - 8s 42ms/step - loss: 0.0031 - val_loss: 0.0027\n",
            "Epoch 44/300\n",
            "195/196 [============================>.] - ETA: 0s - loss: 0.0025\n",
            "Epoch 44: val_loss did not improve from 0.00241\n",
            "196/196 [==============================] - 7s 38ms/step - loss: 0.0025 - val_loss: 0.0024\n",
            "Epoch 45/300\n",
            "195/196 [============================>.] - ETA: 0s - loss: 0.0022\n",
            "Epoch 45: val_loss did not improve from 0.00241\n",
            "196/196 [==============================] - 9s 45ms/step - loss: 0.0022 - val_loss: 0.0027\n",
            "Epoch 46/300\n",
            "195/196 [============================>.] - ETA: 0s - loss: 0.0021\n",
            "Epoch 46: val_loss improved from 0.00241 to 0.00231, saving model to /content/drive/MyDrive/Colab Notebooks/logs/checkpoint/twitter_ner_crf.h5\n",
            "196/196 [==============================] - 9s 48ms/step - loss: 0.0021 - val_loss: 0.0023\n",
            "Epoch 47/300\n",
            "196/196 [==============================] - ETA: 0s - loss: 0.0024\n",
            "Epoch 47: val_loss improved from 0.00231 to 0.00211, saving model to /content/drive/MyDrive/Colab Notebooks/logs/checkpoint/twitter_ner_crf.h5\n",
            "196/196 [==============================] - 9s 46ms/step - loss: 0.0024 - val_loss: 0.0021\n",
            "Epoch 48/300\n",
            "195/196 [============================>.] - ETA: 0s - loss: 0.0022\n",
            "Epoch 48: val_loss improved from 0.00211 to 0.00188, saving model to /content/drive/MyDrive/Colab Notebooks/logs/checkpoint/twitter_ner_crf.h5\n",
            "196/196 [==============================] - 10s 53ms/step - loss: 0.0022 - val_loss: 0.0019\n",
            "Epoch 49/300\n",
            "196/196 [==============================] - ETA: 0s - loss: 0.0018\n",
            "Epoch 49: val_loss improved from 0.00188 to 0.00162, saving model to /content/drive/MyDrive/Colab Notebooks/logs/checkpoint/twitter_ner_crf.h5\n",
            "196/196 [==============================] - 7s 38ms/step - loss: 0.0018 - val_loss: 0.0016\n",
            "Epoch 50/300\n",
            "195/196 [============================>.] - ETA: 0s - loss: 0.0044\n",
            "Epoch 50: val_loss did not improve from 0.00162\n",
            "196/196 [==============================] - 9s 48ms/step - loss: 0.0044 - val_loss: 0.0038\n",
            "Epoch 51/300\n",
            "196/196 [==============================] - ETA: 0s - loss: 0.0028\n",
            "Epoch 51: val_loss did not improve from 0.00162\n",
            "196/196 [==============================] - 6s 33ms/step - loss: 0.0028 - val_loss: 0.0021\n",
            "Epoch 52/300\n",
            "196/196 [==============================] - ETA: 0s - loss: 0.0020\n",
            "Epoch 52: val_loss did not improve from 0.00162\n",
            "196/196 [==============================] - 9s 47ms/step - loss: 0.0020 - val_loss: 0.0021\n",
            "Epoch 53/300\n",
            "194/196 [============================>.] - ETA: 0s - loss: 0.0020\n",
            "Epoch 53: val_loss did not improve from 0.00162\n",
            "196/196 [==============================] - 6s 33ms/step - loss: 0.0020 - val_loss: 0.0021\n",
            "Epoch 54/300\n",
            "195/196 [============================>.] - ETA: 0s - loss: 0.0020\n",
            "Epoch 54: val_loss improved from 0.00162 to 0.00162, saving model to /content/drive/MyDrive/Colab Notebooks/logs/checkpoint/twitter_ner_crf.h5\n",
            "196/196 [==============================] - 9s 48ms/step - loss: 0.0020 - val_loss: 0.0016\n",
            "Epoch 55/300\n",
            "196/196 [==============================] - ETA: 0s - loss: 0.0015\n",
            "Epoch 55: val_loss improved from 0.00162 to 0.00138, saving model to /content/drive/MyDrive/Colab Notebooks/logs/checkpoint/twitter_ner_crf.h5\n",
            "196/196 [==============================] - 8s 39ms/step - loss: 0.0015 - val_loss: 0.0014\n",
            "Epoch 56/300\n",
            "196/196 [==============================] - ETA: 0s - loss: 0.0013\n",
            "Epoch 56: val_loss improved from 0.00138 to 0.00120, saving model to /content/drive/MyDrive/Colab Notebooks/logs/checkpoint/twitter_ner_crf.h5\n",
            "196/196 [==============================] - 10s 50ms/step - loss: 0.0013 - val_loss: 0.0012\n",
            "Epoch 57/300\n",
            "196/196 [==============================] - ETA: 0s - loss: 0.0016\n",
            "Epoch 57: val_loss did not improve from 0.00120\n",
            "196/196 [==============================] - 7s 34ms/step - loss: 0.0016 - val_loss: 0.0069\n",
            "Epoch 58/300\n",
            "195/196 [============================>.] - ETA: 0s - loss: 0.0026\n",
            "Epoch 58: val_loss did not improve from 0.00120\n",
            "196/196 [==============================] - 9s 46ms/step - loss: 0.0026 - val_loss: 0.0021\n",
            "Epoch 59/300\n",
            "195/196 [============================>.] - ETA: 0s - loss: 0.0014\n",
            "Epoch 59: val_loss did not improve from 0.00120\n",
            "196/196 [==============================] - 6s 33ms/step - loss: 0.0014 - val_loss: 0.0013\n",
            "Epoch 60/300\n",
            "195/196 [============================>.] - ETA: 0s - loss: 0.0023\n",
            "Epoch 60: val_loss did not improve from 0.00120\n",
            "196/196 [==============================] - 9s 45ms/step - loss: 0.0023 - val_loss: 0.0037\n",
            "Epoch 61/300\n",
            "196/196 [==============================] - ETA: 0s - loss: 0.0019\n",
            "Epoch 61: val_loss did not improve from 0.00120\n",
            "196/196 [==============================] - 7s 35ms/step - loss: 0.0019 - val_loss: 0.0012\n",
            "Epoch 62/300\n",
            "196/196 [==============================] - ETA: 0s - loss: 0.0012\n",
            "Epoch 62: val_loss improved from 0.00120 to 0.00101, saving model to /content/drive/MyDrive/Colab Notebooks/logs/checkpoint/twitter_ner_crf.h5\n",
            "196/196 [==============================] - 9s 46ms/step - loss: 0.0012 - val_loss: 0.0010\n",
            "Epoch 63/300\n",
            "195/196 [============================>.] - ETA: 0s - loss: 0.0013\n",
            "Epoch 63: val_loss did not improve from 0.00101\n",
            "196/196 [==============================] - 7s 35ms/step - loss: 0.0013 - val_loss: 0.0040\n",
            "Epoch 64/300\n",
            "195/196 [============================>.] - ETA: 0s - loss: 0.0016\n",
            "Epoch 64: val_loss did not improve from 0.00101\n",
            "196/196 [==============================] - 8s 43ms/step - loss: 0.0016 - val_loss: 0.0010\n",
            "Epoch 65/300\n",
            "196/196 [==============================] - ETA: 0s - loss: 0.0011\n",
            "Epoch 65: val_loss did not improve from 0.00101\n",
            "196/196 [==============================] - 7s 38ms/step - loss: 0.0011 - val_loss: 0.0011\n",
            "Epoch 66/300\n",
            "195/196 [============================>.] - ETA: 0s - loss: 0.0029\n",
            "Epoch 66: val_loss did not improve from 0.00101\n",
            "196/196 [==============================] - 7s 38ms/step - loss: 0.0029 - val_loss: 0.0012\n",
            "Epoch 67/300\n",
            "195/196 [============================>.] - ETA: 0s - loss: 0.0013\n",
            "Epoch 67: val_loss did not improve from 0.00101\n",
            "196/196 [==============================] - 8s 41ms/step - loss: 0.0013 - val_loss: 0.0010\n",
            "Epoch 68/300\n",
            "196/196 [==============================] - ETA: 0s - loss: 0.0013\n",
            "Epoch 68: val_loss did not improve from 0.00101\n",
            "196/196 [==============================] - 7s 36ms/step - loss: 0.0013 - val_loss: 0.0011\n",
            "Epoch 69/300\n",
            "196/196 [==============================] - ETA: 0s - loss: 9.1289e-04\n",
            "Epoch 69: val_loss improved from 0.00101 to 0.00077, saving model to /content/drive/MyDrive/Colab Notebooks/logs/checkpoint/twitter_ner_crf.h5\n",
            "196/196 [==============================] - 9s 48ms/step - loss: 9.1289e-04 - val_loss: 7.6886e-04\n",
            "Epoch 70/300\n",
            "195/196 [============================>.] - ETA: 0s - loss: 8.5486e-04\n",
            "Epoch 70: val_loss did not improve from 0.00077\n",
            "196/196 [==============================] - 7s 35ms/step - loss: 8.5515e-04 - val_loss: 8.3319e-04\n",
            "Epoch 71/300\n",
            "195/196 [============================>.] - ETA: 0s - loss: 0.0011\n",
            "Epoch 71: val_loss did not improve from 0.00077\n",
            "196/196 [==============================] - 9s 45ms/step - loss: 0.0011 - val_loss: 8.2118e-04\n",
            "Epoch 72/300\n",
            "195/196 [============================>.] - ETA: 0s - loss: 8.9355e-04\n",
            "Epoch 72: val_loss did not improve from 0.00077\n",
            "196/196 [==============================] - 7s 34ms/step - loss: 8.9352e-04 - val_loss: 8.0394e-04\n",
            "Epoch 73/300\n",
            "195/196 [============================>.] - ETA: 0s - loss: 0.0010\n",
            "Epoch 73: val_loss did not improve from 0.00077\n",
            "196/196 [==============================] - 10s 50ms/step - loss: 0.0010 - val_loss: 8.7666e-04\n",
            "Epoch 74/300\n",
            "196/196 [==============================] - ETA: 0s - loss: 0.0011\n",
            "Epoch 74: val_loss did not improve from 0.00077\n",
            "196/196 [==============================] - 7s 34ms/step - loss: 0.0011 - val_loss: 0.0016\n",
            "Epoch 75/300\n",
            "196/196 [==============================] - ETA: 0s - loss: 0.0014\n",
            "Epoch 75: val_loss did not improve from 0.00077\n",
            "196/196 [==============================] - 10s 50ms/step - loss: 0.0014 - val_loss: 0.0011\n",
            "Epoch 76/300\n",
            "195/196 [============================>.] - ETA: 0s - loss: 0.0019\n",
            "Epoch 76: val_loss did not improve from 0.00077\n",
            "196/196 [==============================] - 7s 34ms/step - loss: 0.0019 - val_loss: 0.0013\n",
            "Epoch 77/300\n",
            "196/196 [==============================] - ETA: 0s - loss: 0.0010\n",
            "Epoch 77: val_loss improved from 0.00077 to 0.00065, saving model to /content/drive/MyDrive/Colab Notebooks/logs/checkpoint/twitter_ner_crf.h5\n",
            "196/196 [==============================] - 10s 51ms/step - loss: 0.0010 - val_loss: 6.4524e-04\n",
            "Epoch 78/300\n",
            "195/196 [============================>.] - ETA: 0s - loss: 0.0010\n",
            "Epoch 78: val_loss improved from 0.00065 to 0.00060, saving model to /content/drive/MyDrive/Colab Notebooks/logs/checkpoint/twitter_ner_crf.h5\n",
            "196/196 [==============================] - 7s 38ms/step - loss: 0.0010 - val_loss: 6.0020e-04\n",
            "Epoch 79/300\n",
            "195/196 [============================>.] - ETA: 0s - loss: 5.9299e-04\n",
            "Epoch 79: val_loss improved from 0.00060 to 0.00057, saving model to /content/drive/MyDrive/Colab Notebooks/logs/checkpoint/twitter_ner_crf.h5\n",
            "196/196 [==============================] - 10s 52ms/step - loss: 5.9313e-04 - val_loss: 5.6761e-04\n",
            "Epoch 80/300\n",
            "195/196 [============================>.] - ETA: 0s - loss: 8.8606e-04\n",
            "Epoch 80: val_loss did not improve from 0.00057\n",
            "196/196 [==============================] - 7s 33ms/step - loss: 8.8600e-04 - val_loss: 6.7645e-04\n",
            "Epoch 81/300\n",
            "196/196 [==============================] - ETA: 0s - loss: 6.8613e-04\n",
            "Epoch 81: val_loss did not improve from 0.00057\n",
            "196/196 [==============================] - 9s 48ms/step - loss: 6.8613e-04 - val_loss: 6.0851e-04\n",
            "Epoch 82/300\n",
            "195/196 [============================>.] - ETA: 0s - loss: 6.7270e-04\n",
            "Epoch 82: val_loss did not improve from 0.00057\n",
            "196/196 [==============================] - 7s 36ms/step - loss: 6.7274e-04 - val_loss: 0.0015\n",
            "Epoch 83/300\n",
            "195/196 [============================>.] - ETA: 0s - loss: 0.0021\n",
            "Epoch 83: val_loss did not improve from 0.00057\n",
            "196/196 [==============================] - 10s 49ms/step - loss: 0.0021 - val_loss: 0.0020\n",
            "Epoch 84/300\n",
            "196/196 [==============================] - ETA: 0s - loss: 0.0015\n",
            "Epoch 84: val_loss did not improve from 0.00057\n",
            "196/196 [==============================] - 7s 33ms/step - loss: 0.0015 - val_loss: 9.2690e-04\n",
            "Epoch 85/300\n",
            "195/196 [============================>.] - ETA: 0s - loss: 8.3920e-04\n",
            "Epoch 85: val_loss did not improve from 0.00057\n",
            "196/196 [==============================] - 9s 48ms/step - loss: 8.3917e-04 - val_loss: 8.2027e-04\n",
            "Epoch 86/300\n",
            "195/196 [============================>.] - ETA: 0s - loss: 0.0012\n",
            "Epoch 86: val_loss did not improve from 0.00057\n",
            "196/196 [==============================] - 6s 33ms/step - loss: 0.0012 - val_loss: 8.1065e-04\n",
            "Epoch 87/300\n",
            "195/196 [============================>.] - ETA: 0s - loss: 0.0026\n",
            "Epoch 87: val_loss did not improve from 0.00057\n",
            "196/196 [==============================] - 9s 48ms/step - loss: 0.0026 - val_loss: 0.0012\n",
            "Epoch 88/300\n",
            "196/196 [==============================] - ETA: 0s - loss: 8.7412e-04\n",
            "Epoch 88: val_loss did not improve from 0.00057\n",
            "196/196 [==============================] - 7s 34ms/step - loss: 8.7412e-04 - val_loss: 6.6395e-04\n",
            "Epoch 89/300\n",
            "195/196 [============================>.] - ETA: 0s - loss: 6.5248e-04\n",
            "Epoch 89: val_loss improved from 0.00057 to 0.00055, saving model to /content/drive/MyDrive/Colab Notebooks/logs/checkpoint/twitter_ner_crf.h5\n",
            "196/196 [==============================] - 10s 51ms/step - loss: 6.5245e-04 - val_loss: 5.5272e-04\n",
            "Epoch 90/300\n",
            "195/196 [============================>.] - ETA: 0s - loss: 6.7274e-04\n",
            "Epoch 90: val_loss did not improve from 0.00055\n",
            "196/196 [==============================] - 7s 35ms/step - loss: 6.7269e-04 - val_loss: 7.8324e-04\n",
            "Epoch 91/300\n",
            "196/196 [==============================] - ETA: 0s - loss: 5.7414e-04\n",
            "Epoch 91: val_loss did not improve from 0.00055\n",
            "196/196 [==============================] - 10s 50ms/step - loss: 5.7414e-04 - val_loss: 7.2897e-04\n",
            "Epoch 92/300\n",
            "195/196 [============================>.] - ETA: 0s - loss: 6.5542e-04\n",
            "Epoch 92: val_loss did not improve from 0.00055\n",
            "196/196 [==============================] - 7s 35ms/step - loss: 6.5543e-04 - val_loss: 5.8558e-04\n",
            "Epoch 93/300\n",
            "196/196 [==============================] - ETA: 0s - loss: 7.4875e-04\n",
            "Epoch 93: val_loss did not improve from 0.00055\n",
            "196/196 [==============================] - 10s 49ms/step - loss: 7.4875e-04 - val_loss: 7.0708e-04\n",
            "Epoch 94/300\n",
            "195/196 [============================>.] - ETA: 0s - loss: 0.0010\n",
            "Epoch 94: val_loss did not improve from 0.00055\n",
            "196/196 [==============================] - 7s 35ms/step - loss: 0.0010 - val_loss: 6.5205e-04\n",
            "Epoch 95/300\n",
            "195/196 [============================>.] - ETA: 0s - loss: 7.3232e-04\n",
            "Epoch 95: val_loss improved from 0.00055 to 0.00049, saving model to /content/drive/MyDrive/Colab Notebooks/logs/checkpoint/twitter_ner_crf.h5\n",
            "196/196 [==============================] - 10s 52ms/step - loss: 7.3227e-04 - val_loss: 4.8925e-04\n",
            "Epoch 96/300\n",
            "196/196 [==============================] - ETA: 0s - loss: 0.0016\n",
            "Epoch 96: val_loss did not improve from 0.00049\n",
            "196/196 [==============================] - 7s 35ms/step - loss: 0.0016 - val_loss: 5.8467e-04\n",
            "Epoch 97/300\n",
            "196/196 [==============================] - ETA: 0s - loss: 5.4678e-04\n",
            "Epoch 97: val_loss did not improve from 0.00049\n",
            "196/196 [==============================] - 9s 48ms/step - loss: 5.4678e-04 - val_loss: 5.6748e-04\n",
            "Epoch 98/300\n",
            "196/196 [==============================] - ETA: 0s - loss: 5.3403e-04\n",
            "Epoch 98: val_loss did not improve from 0.00049\n",
            "196/196 [==============================] - 7s 35ms/step - loss: 5.3403e-04 - val_loss: 7.5840e-04\n",
            "Epoch 99/300\n",
            "195/196 [============================>.] - ETA: 0s - loss: 0.0011\n",
            "Epoch 99: val_loss did not improve from 0.00049\n",
            "196/196 [==============================] - 9s 47ms/step - loss: 0.0011 - val_loss: 5.0888e-04\n",
            "Epoch 100/300\n",
            "195/196 [============================>.] - ETA: 0s - loss: 6.1522e-04\n",
            "Epoch 100: val_loss improved from 0.00049 to 0.00042, saving model to /content/drive/MyDrive/Colab Notebooks/logs/checkpoint/twitter_ner_crf.h5\n",
            "196/196 [==============================] - 7s 37ms/step - loss: 6.1517e-04 - val_loss: 4.1742e-04\n",
            "Epoch 101/300\n",
            "196/196 [==============================] - ETA: 0s - loss: 0.0026\n",
            "Epoch 101: val_loss did not improve from 0.00042\n",
            "196/196 [==============================] - 9s 47ms/step - loss: 0.0026 - val_loss: 0.0046\n",
            "Epoch 102/300\n",
            "196/196 [==============================] - ETA: 0s - loss: 0.0021\n",
            "Epoch 102: val_loss did not improve from 0.00042\n",
            "196/196 [==============================] - 7s 34ms/step - loss: 0.0021 - val_loss: 0.0013\n",
            "Epoch 103/300\n",
            "196/196 [==============================] - ETA: 0s - loss: 0.0011\n",
            "Epoch 103: val_loss did not improve from 0.00042\n",
            "196/196 [==============================] - 9s 45ms/step - loss: 0.0011 - val_loss: 7.2312e-04\n",
            "Epoch 104/300\n",
            "196/196 [==============================] - ETA: 0s - loss: 7.4550e-04\n",
            "Epoch 104: val_loss did not improve from 0.00042\n",
            "196/196 [==============================] - 7s 35ms/step - loss: 7.4550e-04 - val_loss: 6.3060e-04\n",
            "Epoch 105/300\n",
            "195/196 [============================>.] - ETA: 0s - loss: 6.9763e-04\n",
            "Epoch 105: val_loss did not improve from 0.00042\n",
            "196/196 [==============================] - 8s 41ms/step - loss: 6.9759e-04 - val_loss: 6.4288e-04\n",
            "Epoch 106/300\n",
            "195/196 [============================>.] - ETA: 0s - loss: 6.1537e-04\n",
            "Epoch 106: val_loss did not improve from 0.00042\n",
            "196/196 [==============================] - 8s 38ms/step - loss: 6.1535e-04 - val_loss: 5.9863e-04\n",
            "Epoch 107/300\n",
            "195/196 [============================>.] - ETA: 0s - loss: 6.0487e-04\n",
            "Epoch 107: val_loss did not improve from 0.00042\n",
            "196/196 [==============================] - 8s 40ms/step - loss: 6.0482e-04 - val_loss: 5.7360e-04\n",
            "Epoch 108/300\n",
            "196/196 [==============================] - ETA: 0s - loss: 6.8071e-04\n",
            "Epoch 108: val_loss did not improve from 0.00042\n",
            "196/196 [==============================] - 8s 42ms/step - loss: 6.8071e-04 - val_loss: 6.1705e-04\n",
            "Epoch 109/300\n",
            "196/196 [==============================] - ETA: 0s - loss: 0.0019\n",
            "Epoch 109: val_loss did not improve from 0.00042\n",
            "196/196 [==============================] - 8s 39ms/step - loss: 0.0019 - val_loss: 9.3269e-04\n",
            "Epoch 110/300\n",
            "195/196 [============================>.] - ETA: 0s - loss: 8.3619e-04\n",
            "Epoch 110: val_loss did not improve from 0.00042\n",
            "196/196 [==============================] - 8s 41ms/step - loss: 8.3616e-04 - val_loss: 5.9695e-04\n",
            "Epoch 110: early stopping\n"
          ]
        }
      ]
    },
    {
      "cell_type": "code",
      "source": [
        "plot_history(history.history)"
      ],
      "metadata": {
        "colab": {
          "base_uri": "https://localhost:8080/",
          "height": 563
        },
        "id": "UYBgLzoHzOyP",
        "outputId": "77752359-2663-47c8-f82e-fa691117036b"
      },
      "execution_count": null,
      "outputs": [
        {
          "output_type": "execute_result",
          "data": {
            "text/plain": [
              "(<Figure size 500x500 with 1 Axes>,\n",
              " <Axes: title={'center': 'Loss'}, xlabel='Epochs', ylabel='Loss'>)"
            ]
          },
          "metadata": {},
          "execution_count": 52
        },
        {
          "output_type": "display_data",
          "data": {
            "text/plain": [
              "<Figure size 500x500 with 1 Axes>"
            ],
            "image/png": "[encoded data removed]"
          },
          "metadata": {}
        }
      ]
    },
    {
      "cell_type": "markdown",
      "source": [
        "## **Let's load the best model**"
      ],
      "metadata": {
        "id": "c2Dfd2aMYo2w"
      }
    },
    {
      "cell_type": "code",
      "source": [
        "model.load_weights('/content/drive/MyDrive/Colab Notebooks/logs/checkpoint/twitter_ner_crf.h5')"
      ],
      "metadata": {
        "id": "EJKg6jLhYnQu"
      },
      "execution_count": null,
      "outputs": []
    },
    {
      "cell_type": "code",
      "source": [
        "crf_model = tf.keras.Model(inputs=model.input, outputs=[model.output, model.get_layer('crf').output, model.input])"
      ],
      "metadata": {
        "id": "e651xObpY6Ct"
      },
      "execution_count": null,
      "outputs": []
    },
    {
      "cell_type": "markdown",
      "source": [
        "## **Align labels to input**"
      ],
      "metadata": {
        "id": "cR6korZQz721"
      }
    },
    {
      "cell_type": "code",
      "source": [
        "y_pred, _, _ = crf_model.predict(test_sentences)\n",
        "pred_labels = np.argmax(y_pred, axis=-1)\n",
        "true_labels = np.argmax(test_labels, axis=-1)"
      ],
      "metadata": {
        "colab": {
          "base_uri": "https://localhost:8080/"
        },
        "id": "Zhsomb31z9Je",
        "outputId": "2a68c727-aadb-4217-9c3a-7d8b3050d4a8"
      },
      "execution_count": null,
      "outputs": [
        {
          "output_type": "stream",
          "name": "stdout",
          "text": [
            "121/121 [==============================] - 7s 55ms/step\n"
          ]
        }
      ]
    },
    {
      "cell_type": "code",
      "source": [
        "idx = 123\n",
        "test_sentences[idx]"
      ],
      "metadata": {
        "colab": {
          "base_uri": "https://localhost:8080/"
        },
        "id": "sXNJgDNIGZIj",
        "outputId": "b6aa9df3-43b8-462e-9e51-ab8eea01fe42"
      },
      "execution_count": null,
      "outputs": [
        {
          "output_type": "execute_result",
          "data": {
            "text/plain": [
              "array([ 965,  739,  371,   61,  415,  116,   40,  966,  879,   11, 1501,\n",
              "          2,  965,  739,  109,  601,    9,    4,  546,   16, 2096,    0,\n",
              "          0,    0,    0,    0,    0,    0,    0,    0,    0,    0,    0,\n",
              "          0,    0,    0,    0,    0,    0])"
            ]
          },
          "metadata": {},
          "execution_count": 61
        }
      ]
    },
    {
      "cell_type": "code",
      "source": [
        "true_labels[idx]"
      ],
      "metadata": {
        "colab": {
          "base_uri": "https://localhost:8080/"
        },
        "id": "WHimUtry3XgY",
        "outputId": "9949d751-fe6f-4db8-bad5-fb74c03adf67"
      },
      "execution_count": null,
      "outputs": [
        {
          "output_type": "execute_result",
          "data": {
            "text/plain": [
              "array([ 1, 11, 21, 21, 21, 21, 21, 21, 21, 21, 21, 21,  1, 11, 21, 21, 21,\n",
              "       21, 21, 21, 21,  0,  0,  0,  0,  0,  0,  0,  0,  0,  0,  0,  0,  0,\n",
              "        0,  0,  0,  0,  0])"
            ]
          },
          "metadata": {},
          "execution_count": 62
        }
      ]
    },
    {
      "cell_type": "code",
      "source": [
        "pred_labels[idx]"
      ],
      "metadata": {
        "colab": {
          "base_uri": "https://localhost:8080/"
        },
        "id": "M8wbeC0z3eAk",
        "outputId": "7a755792-4aec-4914-f58e-2e5c789e54ee"
      },
      "execution_count": null,
      "outputs": [
        {
          "output_type": "execute_result",
          "data": {
            "text/plain": [
              "array([ 1, 11, 21, 21, 21, 21, 21, 21, 21, 21, 21, 21,  1, 11, 21, 21, 21,\n",
              "       21, 21, 21, 21, 21, 21, 21, 21, 21, 21, 21, 21, 21, 21, 21, 21, 21,\n",
              "       21, 21, 21, 21, 21])"
            ]
          },
          "metadata": {},
          "execution_count": 63
        }
      ]
    },
    {
      "cell_type": "code",
      "source": [
        "true_labels_map = []\n",
        "for tags in true_labels:\n",
        "  tags_map = []\n",
        "  for idx in tags:\n",
        "    tags_map.append(id2tag[idx])\n",
        "  true_labels_map.append(tags_map)"
      ],
      "metadata": {
        "id": "w9SWH6St38b2"
      },
      "execution_count": null,
      "outputs": []
    },
    {
      "cell_type": "code",
      "source": [
        "pred_labels_map = []\n",
        "for tags in pred_labels:\n",
        "  tags_map = []\n",
        "  for idx in tags:\n",
        "    tags_map.append(id2tag[idx])\n",
        "  pred_labels_map.append(tags_map)"
      ],
      "metadata": {
        "id": "UvMt5dEm77uN"
      },
      "execution_count": null,
      "outputs": []
    },
    {
      "cell_type": "markdown",
      "source": [
        "### **Compute metrics to show effectiveness of trained model**"
      ],
      "metadata": {
        "id": "gPT61SLs-N7h"
      }
    },
    {
      "cell_type": "code",
      "source": [
        "def calculate_accuracy(y_true, y_pred):\n",
        "  '''Convert categorical one hot encodings to indices and compute accuracy\n",
        "\n",
        "  Args:\n",
        "    `y_true`: true values\n",
        "    `y_pred`: model predictions\n",
        "\n",
        "  Returns:\n",
        "    Integer, accuracy of prediction\n",
        "  '''\n",
        "  acc_metric = tf.keras.metrics.Accuracy()\n",
        "  y_true = tf.argmax(y_true, axis=-1)\n",
        "  return acc_metric(y_true, y_pred).numpy().item()\n",
        "\n",
        "def calculate_model_accuracy(crf_model, test_sentences, test_labels):\n",
        "  '''Calculates average validation accuracy of model'''\n",
        "\n",
        "  # Batch the dataset\n",
        "  batched_validation_set = tf.data.Dataset.from_tensor_slices((test_sentences, test_labels)).batch(32)\n",
        "\n",
        "  average_acc = 0\n",
        "  # Iterate through batches\n",
        "  for batch_test_sentences, batch_test_labels in batched_validation_set:\n",
        "    predicted_labels, _, _, _ = crf_model(batch_test_sentences)[1]\n",
        "    average_acc += calculate_accuracy(batch_test_labels, predicted_labels)\n",
        "\n",
        "  average_acc/=len(batched_validation_set)\n",
        "  return average_acc\n",
        "\n",
        "average_acc = calculate_model_accuracy(crf_model, test_sentences, test_labels)\n",
        "\n",
        "print(\"*\"*32)\n",
        "print(f\"Average accuracy of model on test set: {average_acc:.3f}\")"
      ],
      "metadata": {
        "colab": {
          "base_uri": "https://localhost:8080/"
        },
        "id": "XvRAVKkFaCnr",
        "outputId": "94f39b3b-3c4d-4e8a-854a-8437219b5eca"
      },
      "execution_count": null,
      "outputs": [
        {
          "output_type": "stream",
          "name": "stdout",
          "text": [
            "********************************\n",
            "Average accuracy of model on test set: 0.996\n"
          ]
        }
      ]
    },
    {
      "cell_type": "code",
      "source": [
        "print(\"F1 score:\", f1_score(true_labels_map, pred_labels_map))\n",
        "print(classification_report(true_labels_map, pred_labels_map))"
      ],
      "metadata": {
        "colab": {
          "base_uri": "https://localhost:8080/"
        },
        "id": "-HTM6Qr58V6l",
        "outputId": "98628233-15af-4442-af4c-a9050e66869f"
      },
      "execution_count": null,
      "outputs": [
        {
          "output_type": "stream",
          "name": "stdout",
          "text": [
            "accuracy score: 0.4120945720945721\n",
            "F1 score: 0.994241289951051\n",
            "              precision    recall  f1-score   support\n",
            "\n",
            "     company       1.00      1.00      1.00       621\n",
            "    facility       1.00      1.00      1.00       253\n",
            "     geo-loc       0.99      1.00      0.99       882\n",
            "       movie       0.97      0.97      0.97        34\n",
            " musicartist       0.99      0.98      0.99       191\n",
            "       other       0.99      0.99      0.99       584\n",
            "      person       0.99      1.00      1.00       482\n",
            "     product       0.99      0.99      0.99       246\n",
            "  sportsteam       1.00      1.00      1.00       147\n",
            "      tvshow       1.00      1.00      1.00        33\n",
            "\n",
            "   micro avg       0.99      0.99      0.99      3473\n",
            "   macro avg       0.99      0.99      0.99      3473\n",
            "weighted avg       0.99      0.99      0.99      3473\n",
            "\n"
          ]
        }
      ]
    },
    {
      "cell_type": "markdown",
      "source": [
        "## **BERT Model**"
      ],
      "metadata": {
        "id": "MpkNvwHPaYc8"
      }
    },
    {
      "cell_type": "markdown",
      "source": [
        "### **Getting the bert model**"
      ],
      "metadata": {
        "id": "ZrPXb2NFaczL"
      }
    },
    {
      "cell_type": "code",
      "source": [
        "from transformers import AutoConfig, TFAutoModelForTokenClassification\n",
        "\n",
        "MODEL_NAME = 'bert-base-uncased'"
      ],
      "metadata": {
        "id": "WVlUBiyWaWpK"
      },
      "execution_count": null,
      "outputs": []
    },
    {
      "cell_type": "markdown",
      "source": [
        "### **Loading the tokenizer**"
      ],
      "metadata": {
        "id": "31CIjfYsakqq"
      }
    },
    {
      "cell_type": "code",
      "source": [
        "from transformers import AutoTokenizer\n",
        "tokenizer = AutoTokenizer.from_pretrained(MODEL_NAME) # Load bert-base-uncased tokenizer"
      ],
      "metadata": {
        "colab": {
          "base_uri": "https://localhost:8080/",
          "height": 145,
          "referenced_widgets": [
            "c02554d41d1c4c0591aece2ff58b904f",
            "6bd2aae0d6274709bd1152edd9574c02",
            "89c28c0ec8f7460886df1a5f677f7b60",
            "b851477e63c447ba8e97f48aaba14f4b",
            "dc6607b8293245a99186ddff4f02abe7",
            "8eb3ae0e1bb0480c9ef8d8c10032887c",
            "2132303fec884163a0b42728711c9dd9",
            "b85feb02533645e6919d6f87052eeb6c",
            "d3909c7c0a6a483dbd2292b9d5554c2a",
            "7307e8b25231409b9b3c256eb1bf4fcc",
            "0e4ac7c6fa2f46d49a7849f64b0274e1",
            "39d1175f617a43c78f8f28d1e22711ee",
            "e264797e574b4b61bed2815c21ac7565",
            "6222eb5fd96549d18b74196e8b8daf96",
            "4a294e3fbad740d387edbab90135fbcc",
            "482edaa019924cc6959e4785d12acab7",
            "376c6ee3d1b54eebaff8e78677272246",
            "60b9ccf5f82c480d851b9652a800df36",
            "d4db6a8de84243c7b66bd4fb6971925e",
            "2ac05d6772fe4732b58002ced1275b32",
            "c7d7a2ff387642a8805dcc067d2def86",
            "9f63af9886fc4dd5871283d419389466",
            "a8c0bcabf6394a008546842859663349",
            "f9119a85fede4152b20ab627eea6a46e",
            "d0ae94c244ca429f8353344a9f917b10",
            "a9caef911ed44737802a622b80eeefd2",
            "2c9f1a7b360e41c68b70ceef263d3067",
            "395957ae57fe41649e9afecabfae65a4",
            "446f103898494b82aeeaec290a2ab003",
            "0be7358e920d4d979241238c619f279c",
            "d6e3719f47dc4b2c9d12d7ba67203086",
            "43a3ae357a1f45ed97ccf4c090ee39cc",
            "16becb6967ba4017a1447fd6a3d70749",
            "138d379210074fc583a24ef929537ea4",
            "060b1725364540f0acda09a4a2c1072d",
            "222c8eec42154d8e87473c40972a3c96",
            "4250ce0484214c459b94e18cf2688467",
            "96fd2e82cfea45fa8e97c553de375d61",
            "87f954d81a304910908f7624e59f5285",
            "dd01d13c1a0e4cc39e6a0995971fc6ac",
            "0d2d06a623ba4b60861b62d14d61252c",
            "b8a3474c789545c580d4db7b388adc33",
            "08b79b3ce7364a9c9958cb5c11cde637",
            "050bdf258c264e16b6b0db89662ff48f"
          ]
        },
        "id": "E8rPNaGaaaAb",
        "outputId": "61ee2ee4-58b9-410d-96b5-b74a91aab37d"
      },
      "execution_count": null,
      "outputs": [
        {
          "output_type": "display_data",
          "data": {
            "text/plain": [
              "Downloading (…)okenizer_config.json:   0%|          | 0.00/28.0 [00:00<?, ?B/s]"
            ],
            "application/vnd.jupyter.widget-view+json": {
              "version_major": 2,
              "version_minor": 0,
              "model_id": "c02554d41d1c4c0591aece2ff58b904f"
            }
          },
          "metadata": {}
        },
        {
          "output_type": "display_data",
          "data": {
            "text/plain": [
              "Downloading (…)lve/main/config.json:   0%|          | 0.00/570 [00:00<?, ?B/s]"
            ],
            "application/vnd.jupyter.widget-view+json": {
              "version_major": 2,
              "version_minor": 0,
              "model_id": "39d1175f617a43c78f8f28d1e22711ee"
            }
          },
          "metadata": {}
        },
        {
          "output_type": "display_data",
          "data": {
            "text/plain": [
              "Downloading (…)solve/main/vocab.txt:   0%|          | 0.00/232k [00:00<?, ?B/s]"
            ],
            "application/vnd.jupyter.widget-view+json": {
              "version_major": 2,
              "version_minor": 0,
              "model_id": "a8c0bcabf6394a008546842859663349"
            }
          },
          "metadata": {}
        },
        {
          "output_type": "display_data",
          "data": {
            "text/plain": [
              "Downloading (…)/main/tokenizer.json:   0%|          | 0.00/466k [00:00<?, ?B/s]"
            ],
            "application/vnd.jupyter.widget-view+json": {
              "version_major": 2,
              "version_minor": 0,
              "model_id": "138d379210074fc583a24ef929537ea4"
            }
          },
          "metadata": {}
        }
      ]
    },
    {
      "cell_type": "code",
      "source": [
        "## tokenizer adds 101 and 102 token id at the start and end of the tokens\n",
        "## using[1:-1] to eliminate the extra 101, 102 that tokenizer adds\n",
        "\n",
        "sample=train_samples[23] # Random tokenized sample\n",
        "for token, tag in sample:\n",
        "  for subtoken in tokenizer(token)['input_ids'][1:-1]:\n",
        "    print(token,subtoken)"
      ],
      "metadata": {
        "colab": {
          "base_uri": "https://localhost:8080/"
        },
        "id": "vWYTs86vavJZ",
        "outputId": "58c75190-9a36-4137-ee22-d2e5a7259ff7"
      },
      "execution_count": null,
      "outputs": [
        {
          "output_type": "stream",
          "name": "stdout",
          "text": [
            "RT 19387\n",
            "@OMBieberJokes 1030\n",
            "@OMBieberJokes 18168\n",
            "@OMBieberJokes 11283\n",
            "@OMBieberJokes 5677\n",
            "@OMBieberJokes 5558\n",
            "@OMBieberJokes 9681\n",
            ": 1024\n",
            "Little 2210\n",
            "Girl 2611\n",
            ": 1024\n",
            "Santa 4203\n",
            "Is 2003\n",
            "So 2061\n",
            "Awesome 12476\n",
            "! 999\n",
            "Me 2033\n",
            ": 1024\n",
            "No 2053\n",
            "Little 2210\n",
            "Girl 2611\n",
            "... 1012\n",
            "... 1012\n",
            "... 1012\n",
            "You 2017\n",
            "Only 2069\n",
            "Use 2224\n",
            "The 1996\n",
            "Word 2773\n",
            "\" 1000\n",
            "Awesome 12476\n",
            "\" 1000\n",
            "When 2043\n",
            "You 2017\n",
            "Are 2024\n",
            "Referring 7727\n",
            "To 2000\n",
            "Just 2074\n",
            "... 1012\n",
            "... 1012\n",
            "... 1012\n"
          ]
        }
      ]
    },
    {
      "cell_type": "markdown",
      "source": [
        "### **Get Datasets**"
      ],
      "metadata": {
        "id": "7YXDtrVXbAbU"
      }
    },
    {
      "cell_type": "code",
      "source": [
        "def tokenize_sample(sample):\n",
        "  # Expand label to all subtokens and add 'O' label to start and end tokens\n",
        "  seq = [\n",
        "    (subtoken, tag)\n",
        "    for token, tag in sample\n",
        "    for subtoken in tokenizer(token.lower())['input_ids'][1:-1]\n",
        "  ]\n",
        "  return [(3, 'O')] + seq + [(4, 'O')]\n",
        "\n",
        "def preprocess(samples, tag2id):\n",
        "  tokenized_samples = list((map(tokenize_sample, samples)))\n",
        "  max_len = max(map(len, tokenized_samples))\n",
        "\n",
        "  # Subtokens\n",
        "  X_input_ids = np.zeros((len(samples), max_len), dtype=np.int32)\n",
        "\n",
        "  # Masks\n",
        "  X_input_masks = np.zeros((len(samples), max_len), dtype=np.int32)\n",
        "\n",
        "  # labels\n",
        "  y = np.zeros((len(samples), max_len), dtype=np.int32)\n",
        "\n",
        "  for i, sentence in enumerate(tokenized_samples):\n",
        "    for j in range(len(sentence)):\n",
        "      X_input_masks[i, j] = 1\n",
        "    for j, (subtoken_id, tag) in enumerate(sentence):\n",
        "      X_input_ids[i, j] = subtoken_id\n",
        "      y[i, j] = tag2id[tag]\n",
        "  return (X_input_ids, X_input_masks), y\n",
        "\n",
        "X_train, y_train = preprocess(train_samples, tag2id)\n",
        "X_test, y_test = preprocess(test_samples, tag2id)"
      ],
      "metadata": {
        "id": "fJyD_ryma-Js"
      },
      "execution_count": null,
      "outputs": []
    },
    {
      "cell_type": "markdown",
      "source": [
        "### **Loading model**"
      ],
      "metadata": {
        "id": "GFa6XAiWbHOA"
      }
    },
    {
      "cell_type": "code",
      "source": [
        "config = AutoConfig.from_pretrained(MODEL_NAME, num_labels=len(schema),\n",
        "                                    id2tag=id2tag, tag2id=tag2id) # Bert config\n",
        "\n",
        "model = TFAutoModelForTokenClassification.from_pretrained(MODEL_NAME,\n",
        "                                                          config=config) # Loading Bert model\n",
        "model.summary()"
      ],
      "metadata": {
        "colab": {
          "base_uri": "https://localhost:8080/",
          "height": 399,
          "referenced_widgets": [
            "cae9d2882bdd4c1eb985c7e85cdf4dd2",
            "a8c2afc5c318449e8ac8d0fb2e415924",
            "7764af084e39462ab8872437c17a1fe3",
            "1ca22cfe52b4435db7df41db092c230f",
            "8b38b898f7264aae8a9773f1a122ed49",
            "cafa9e71f66046759726a9e2b13efe8e",
            "40c9c391b800448684a03cfc22ce63ff",
            "2d4dbba591fb41f486946144c949f57f",
            "4dd1c9d0ff8040798b317f9ce5ffad28",
            "cf2701cd019b4689aa108b9e752010c5",
            "a351150eb2d94f058e775345c7eb8c9f"
          ]
        },
        "id": "Z-D9cuWFbIok",
        "outputId": "ffe5cb91-d199-4ef4-8f7b-623e0830ef4f"
      },
      "execution_count": null,
      "outputs": [
        {
          "output_type": "display_data",
          "data": {
            "text/plain": [
              "Downloading model.safetensors:   0%|          | 0.00/440M [00:00<?, ?B/s]"
            ],
            "application/vnd.jupyter.widget-view+json": {
              "version_major": 2,
              "version_minor": 0,
              "model_id": "cae9d2882bdd4c1eb985c7e85cdf4dd2"
            }
          },
          "metadata": {}
        },
        {
          "output_type": "stream",
          "name": "stderr",
          "text": [
            "All PyTorch model weights were used when initializing TFBertForTokenClassification.\n",
            "\n",
            "Some weights or buffers of the TF 2.0 model TFBertForTokenClassification were not initialized from the PyTorch model and are newly initialized: ['classifier.weight', 'classifier.bias']\n",
            "You should probably TRAIN this model on a down-stream task to be able to use it for predictions and inference.\n"
          ]
        },
        {
          "output_type": "stream",
          "name": "stdout",
          "text": [
            "Model: \"tf_bert_for_token_classification\"\n",
            "_________________________________________________________________\n",
            " Layer (type)                Output Shape              Param #   \n",
            "=================================================================\n",
            " bert (TFBertMainLayer)      multiple                  108891648 \n",
            "                                                                 \n",
            " dropout_37 (Dropout)        multiple                  0         \n",
            "                                                                 \n",
            " classifier (Dense)          multiple                  16918     \n",
            "                                                                 \n",
            "=================================================================\n",
            "Total params: 108,908,566\n",
            "Trainable params: 108,908,566\n",
            "Non-trainable params: 0\n",
            "_________________________________________________________________\n"
          ]
        }
      ]
    },
    {
      "cell_type": "markdown",
      "source": [
        "### **Fit model on training data**"
      ],
      "metadata": {
        "id": "ysXlSLk7bNaT"
      }
    },
    {
      "cell_type": "code",
      "source": [
        "BATCH_SIZE=32\n",
        "\n",
        "optimizer = tf.keras.optimizers.Adam(learning_rate=0.0001) # Creating optimizer\n",
        "\n",
        "loss = tf.keras.losses.SparseCategoricalCrossentropy(from_logits=True)\n",
        "metric = tf.keras.metrics.SparseCategoricalAccuracy('accuracy')\n",
        "\n",
        "model.compile(optimizer=optimizer, loss=loss, metrics=metric)\n",
        "\n",
        "history = model.fit(X_train, y_train,\n",
        "                  validation_split=0.2, epochs=10,\n",
        "                  batch_size=BATCH_SIZE)"
      ],
      "metadata": {
        "colab": {
          "base_uri": "https://localhost:8080/"
        },
        "id": "2_S96fFwbOob",
        "outputId": "c57ca945-d1a4-42c6-d6a5-0407c43c6b14"
      },
      "execution_count": null,
      "outputs": [
        {
          "output_type": "stream",
          "name": "stdout",
          "text": [
            "Epoch 1/10\n",
            "157/157 [==============================] - 283s 1s/step - loss: 0.1689 - accuracy: 0.9644 - val_loss: 0.0791 - val_accuracy: 0.9845\n",
            "Epoch 2/10\n",
            "157/157 [==============================] - 165s 1s/step - loss: 0.0496 - accuracy: 0.9889 - val_loss: 0.0471 - val_accuracy: 0.9880\n",
            "Epoch 3/10\n",
            "157/157 [==============================] - 165s 1s/step - loss: 0.0314 - accuracy: 0.9920 - val_loss: 0.0452 - val_accuracy: 0.9899\n",
            "Epoch 4/10\n",
            "157/157 [==============================] - 173s 1s/step - loss: 0.0201 - accuracy: 0.9947 - val_loss: 0.0389 - val_accuracy: 0.9913\n",
            "Epoch 5/10\n",
            "157/157 [==============================] - 173s 1s/step - loss: 0.0129 - accuracy: 0.9967 - val_loss: 0.0410 - val_accuracy: 0.9904\n",
            "Epoch 6/10\n",
            "157/157 [==============================] - 173s 1s/step - loss: 0.0099 - accuracy: 0.9975 - val_loss: 0.0417 - val_accuracy: 0.9907\n",
            "Epoch 7/10\n",
            "157/157 [==============================] - 175s 1s/step - loss: 0.0072 - accuracy: 0.9981 - val_loss: 0.0417 - val_accuracy: 0.9914\n",
            "Epoch 8/10\n",
            "157/157 [==============================] - 174s 1s/step - loss: 0.0062 - accuracy: 0.9984 - val_loss: 0.0455 - val_accuracy: 0.9913\n",
            "Epoch 9/10\n",
            "157/157 [==============================] - 165s 1s/step - loss: 0.0045 - accuracy: 0.9988 - val_loss: 0.0492 - val_accuracy: 0.9918\n",
            "Epoch 10/10\n",
            "157/157 [==============================] - 165s 1s/step - loss: 0.0040 - accuracy: 0.9990 - val_loss: 0.0488 - val_accuracy: 0.9913\n"
          ]
        }
      ]
    },
    {
      "cell_type": "code",
      "source": [
        "## Lets have a side by side view of true labels and model predictions\n",
        "## Arranged as an array of Tuple(token, true label, model prediction)\n",
        "\n",
        "def aggregate(sample, predictions):\n",
        "  results = []\n",
        "  i = 1\n",
        "  for token, y_true in sample:\n",
        "      nr_subtoken = len(tokenizer(token.lower())['input_ids']) - 2 # Extracting word tokens\n",
        "      pred = predictions[i:i+nr_subtoken] # Extracting predictions\n",
        "      i += nr_subtoken\n",
        "      y_pred = schema[np.argmax(np.sum(pred, axis=0))] # Get label of prediction\n",
        "      results.append((token, y_true, y_pred))\n",
        "  return results\n",
        "\n",
        "y_probs = model.predict(X_test)[0]\n",
        "predictions = [aggregate(sample, predictions)\n",
        "               for sample, predictions in zip(test_samples, y_probs)]"
      ],
      "metadata": {
        "colab": {
          "base_uri": "https://localhost:8080/"
        },
        "id": "RSOFQ3yWbVnR",
        "outputId": "20ca22e2-8bf2-4a79-f4a7-772d6e7e248b"
      },
      "execution_count": null,
      "outputs": [
        {
          "output_type": "stream",
          "name": "stdout",
          "text": [
            "121/121 [==============================] - 45s 333ms/step\n"
          ]
        }
      ]
    },
    {
      "cell_type": "code",
      "source": [
        "for i in range(10,15):\n",
        "  print(predictions[i])"
      ],
      "metadata": {
        "colab": {
          "base_uri": "https://localhost:8080/"
        },
        "id": "Lh2TcuEabcAJ",
        "outputId": "42caf3a3-3e7c-4d76-a483-0f77f541a6cc"
      },
      "execution_count": null,
      "outputs": [
        {
          "output_type": "stream",
          "name": "stdout",
          "text": [
            "[('I', 'O', 'O'), ('drive', 'O', 'O'), ('by', 'O', 'O'), ('that', 'O', 'O'), ('motel', 'O', 'O'), ('almost', 'O', 'O'), ('every', 'O', 'O'), ('night', 'O', 'O'), ('.', 'O', 'O'), ('#MesaShooting', 'O', 'O')]\n",
            "[('Apple', 'B-product', 'B-product'), ('MacBook', 'I-product', 'I-product'), ('Pro', 'I-product', 'I-product'), ('A1278', 'I-product', 'I-product'), ('13.3', 'I-product', 'I-product'), ('\"', 'I-product', 'I-product'), ('Laptop', 'I-product', 'I-product'), ('-', 'I-product', 'I-product'), ('MD101LL/A', 'I-product', 'I-product'), ('(', 'O', 'O'), ('June', 'O', 'O'), (',', 'O', 'O'), ('2012', 'O', 'O'), (')', 'O', 'O'), ('-', 'O', 'O'), ('Full', 'O', 'O'), ('read', 'O', 'O'), ('by', 'O', 'O'), ('eBay', 'B-company', 'B-company'), ('http://t.co/2zgQ99nmuf', 'O', 'O'), ('http://t.co/eQmogqqABK', 'O', 'O')]\n",
            "[('Tuff', 'B-musicartist', 'B-musicartist'), ('Culture', 'I-musicartist', 'I-musicartist'), ('-', 'O', 'O'), ('Destiny', 'B-product', 'B-product'), ('EP', 'O', 'O'), ('(', 'O', 'O'), ('PAR', 'O', 'O'), ('042', 'O', 'O'), ('FORTHCOMING', 'O', 'O'), ('27th', 'O', 'O'), ('JULY', 'O', 'O'), ('VIA', 'O', 'O'), ('JUNO', 'B-product', 'B-product'), (')', 'O', 'O'), ('Tracklist', 'O', 'O'), (':', 'O', 'O'), ('Destiny', 'B-product', 'B-product'), ('Questions', 'B-product', 'B-product'), ('Theres', 'B-product', 'B-product'), ('No', 'I-product', 'B-product'), ('...', 'O', 'O'), ('http://t.co/X7nL8DiREK', 'O', 'O')]\n",
            "[('December', 'O', 'O'), ('23', 'O', 'O'), (',', 'O', 'O'), ('2015', 'O', 'O'), ('at', 'O', 'O'), ('03:44', 'O', 'O'), ('PM', 'O', 'O'), ('#if24', 'O', 'O'), ('#s8', 'O', 'O')]\n",
            "[('RT', 'O', 'O'), ('@YahooDrSaturday', 'O', 'O'), (':', 'O', 'O'), ('This', 'O', 'O'), ('is', 'O', 'O'), ('how', 'O', 'O'), ('Arkansas', 'B-sportsteam', 'B-sportsteam'), ('crazily', 'O', 'O'), ('converted', 'O', 'O'), ('4th', 'O', 'O'), ('and', 'O', 'O'), ('25', 'O', 'O'), ('in', 'O', 'O'), ('OT', 'O', 'O'), ('.', 'O', 'O'), ('What', 'O', 'O'), ('a', 'O', 'O'), ('lateral', 'O', 'O'), ('!', 'O', 'O'), ('https://t.co/ylALEACWe8', 'O', 'O')]\n"
          ]
        }
      ]
    },
    {
      "cell_type": "code",
      "source": [
        "model.save_pretrained(\"/content/drive/MyDrive/Colab Notebooks/logs/checkpoint/NER_pretrained\")"
      ],
      "metadata": {
        "id": "NQQ78brRbeKY"
      },
      "execution_count": null,
      "outputs": []
    },
    {
      "cell_type": "markdown",
      "source": [
        "## **Comparision**"
      ],
      "metadata": {
        "id": "UZSQUt7ebouw"
      }
    },
    {
      "cell_type": "code",
      "source": [
        "def tokenize_bert(sentence):\n",
        "  sentence_tokens = tokenizer(sentence.split(' '))['input_ids'] # Splitting sentence into word tokens\n",
        "  ner_tokens = [3] # Start token\n",
        "  for word_token in sentence_tokens:\n",
        "    ner_tokens.extend(word_token[1:-1]) # Adding tokenized word token indicies\n",
        "  ner_tokens += [4] # End token\n",
        "  return ner_tokens"
      ],
      "metadata": {
        "id": "3iqaxTudbqo8"
      },
      "execution_count": null,
      "outputs": []
    },
    {
      "cell_type": "code",
      "source": [
        "sentence = \"virat kohli is goat but sachine tendulkar is god of cricket for indian cricket fans !!\"\n",
        "\n",
        "# Bert tokenization\n",
        "bert_tokens = tokenize_bert(sentence)\n",
        "\n",
        "# CRF tokenization\n",
        "crf_tokens = crf_tokenizer.texts_to_sequences([sentence])"
      ],
      "metadata": {
        "id": "G5nqqxozbt7n"
      },
      "execution_count": null,
      "outputs": []
    },
    {
      "cell_type": "code",
      "source": [
        "bert_tokens"
      ],
      "metadata": {
        "colab": {
          "base_uri": "https://localhost:8080/"
        },
        "id": "EvRUxR53jVKb",
        "outputId": "8bf00bd2-9ef0-4bb6-c00b-5353cbbff353"
      },
      "execution_count": null,
      "outputs": [
        {
          "output_type": "execute_result",
          "data": {
            "text/plain": [
              "[3,\n",
              " 6819,\n",
              " 8609,\n",
              " 12849,\n",
              " 27766,\n",
              " 2003,\n",
              " 13555,\n",
              " 2021,\n",
              " 17266,\n",
              " 14014,\n",
              " 7166,\n",
              " 5313,\n",
              " 6673,\n",
              " 2003,\n",
              " 2643,\n",
              " 1997,\n",
              " 4533,\n",
              " 2005,\n",
              " 2796,\n",
              " 4533,\n",
              " 4599,\n",
              " 999,\n",
              " 999,\n",
              " 4]"
            ]
          },
          "metadata": {},
          "execution_count": 88
        }
      ]
    },
    {
      "cell_type": "code",
      "source": [
        "crf_tokens"
      ],
      "metadata": {
        "colab": {
          "base_uri": "https://localhost:8080/"
        },
        "id": "Ty0tlF3rjPmz",
        "outputId": "098d2edc-8f5c-4d5f-d9d2-097d8f1ea522"
      },
      "execution_count": null,
      "outputs": [
        {
          "output_type": "execute_result",
          "data": {
            "text/plain": [
              "[[19, 44, 15094, 19, 250, 15, 3827, 14, 3240, 3827, 814]]"
            ]
          },
          "metadata": {},
          "execution_count": 87
        }
      ]
    },
    {
      "cell_type": "markdown",
      "source": [
        "### **Bert Output**"
      ],
      "metadata": {
        "id": "PX2fpVaUbv4I"
      }
    },
    {
      "cell_type": "code",
      "source": [
        "def align_labels_to_input(sentence, predictions):\n",
        "  sentence_tokens = sentence.lower().split(\" \")\n",
        "  results = []\n",
        "\n",
        "  i = 1\n",
        "  # Extracting labels corresponding to tokens\n",
        "  for token in sentence_tokens:\n",
        "      nr_subtoken = len(tokenizer(token)['input_ids']) - 2\n",
        "      pred = predictions[i:i+nr_subtoken]\n",
        "      i += nr_subtoken\n",
        "      y_pred = id2tag[np.argmax(np.sum(pred, axis=0))]\n",
        "      results.append((token, y_pred))\n",
        "  return results\n",
        "\n",
        "\n",
        "bert_logits = model.predict([bert_tokens], verbose=0).logits\n",
        "\n",
        "align_labels_to_input(sentence, bert_logits[0])"
      ],
      "metadata": {
        "colab": {
          "base_uri": "https://localhost:8080/"
        },
        "id": "HbzBMs9vbw69",
        "outputId": "cb35aa38-43f7-42bd-a57d-3f92b5bf0af6"
      },
      "execution_count": null,
      "outputs": [
        {
          "output_type": "execute_result",
          "data": {
            "text/plain": [
              "[('virat', 'B-person'),\n",
              " ('kohli', 'I-person'),\n",
              " ('is', 'O'),\n",
              " ('goat', 'O'),\n",
              " ('but', 'O'),\n",
              " ('sachine', 'O'),\n",
              " ('tendulkar', 'O'),\n",
              " ('is', 'O'),\n",
              " ('god', 'O'),\n",
              " ('of', 'O'),\n",
              " ('cricket', 'O'),\n",
              " ('for', 'O'),\n",
              " ('indian', 'B-other'),\n",
              " ('cricket', 'I-other'),\n",
              " ('fans', 'O'),\n",
              " ('!!', 'O')]"
            ]
          },
          "metadata": {},
          "execution_count": 84
        }
      ]
    },
    {
      "cell_type": "markdown",
      "source": [
        "### **CRF Output**"
      ],
      "metadata": {
        "id": "r1I5sRs1b1Q0"
      }
    },
    {
      "cell_type": "code",
      "source": [
        "from pprint import pprint # Pretty print package\n",
        "\n",
        "crf_padded_tokens = [[crf_tokens[0][x] if x < len(crf_tokens[0]) else 0 for x in range(39)]]\n",
        "crf_preds, _, _, _ = crf_model.predict(crf_padded_tokens, verbose=0)[1]\n",
        "\n",
        "crf_preds = [id2tag[x] for x in crf_preds[0]] # Convert indicies into predictions\n",
        "\n",
        "\n",
        "# Get aligned inputs with labels\n",
        "input_word_tokens = [crf_tokenizer.sequences_to_texts([[x]])[0] for x in crf_padded_tokens[0]]\n",
        "\n",
        "# Only printing non-padded tokens with their labels\n",
        "pprint(list(zip(input_word_tokens[:len(crf_tokens[0])], crf_preds[:len(crf_tokens[0])])))"
      ],
      "metadata": {
        "colab": {
          "base_uri": "https://localhost:8080/"
        },
        "id": "9SOJwLqEb3pf",
        "outputId": "7a2eb506-3ad2-4caf-8615-cf8d3e2c931f"
      },
      "execution_count": null,
      "outputs": [
        {
          "output_type": "stream",
          "name": "stdout",
          "text": [
            "[('is', 'O'),\n",
            " ('but', 'O'),\n",
            " ('tendulkar', 'O'),\n",
            " ('is', 'O'),\n",
            " ('god', 'B-person'),\n",
            " ('of', 'O'),\n",
            " ('cricket', 'O'),\n",
            " ('for', 'O'),\n",
            " ('indian', 'B-person'),\n",
            " ('cricket', 'O'),\n",
            " ('fans', 'O')]\n"
          ]
        }
      ]
    },
    {
      "cell_type": "code",
      "source": [
        "crf_padded_tokens"
      ],
      "metadata": {
        "colab": {
          "base_uri": "https://localhost:8080/"
        },
        "id": "AnuQx3JJi0YM",
        "outputId": "ed8eba9d-eee9-4270-dd10-55cf454e8c4e"
      },
      "execution_count": null,
      "outputs": [
        {
          "output_type": "execute_result",
          "data": {
            "text/plain": [
              "[[19,\n",
              "  44,\n",
              "  15094,\n",
              "  19,\n",
              "  250,\n",
              "  15,\n",
              "  3827,\n",
              "  14,\n",
              "  3240,\n",
              "  3827,\n",
              "  814,\n",
              "  0,\n",
              "  0,\n",
              "  0,\n",
              "  0,\n",
              "  0,\n",
              "  0,\n",
              "  0,\n",
              "  0,\n",
              "  0,\n",
              "  0,\n",
              "  0,\n",
              "  0,\n",
              "  0,\n",
              "  0,\n",
              "  0,\n",
              "  0,\n",
              "  0,\n",
              "  0,\n",
              "  0,\n",
              "  0,\n",
              "  0,\n",
              "  0,\n",
              "  0,\n",
              "  0,\n",
              "  0,\n",
              "  0,\n",
              "  0,\n",
              "  0]]"
            ]
          },
          "metadata": {},
          "execution_count": 86
        }
      ]
    }
  ]
}