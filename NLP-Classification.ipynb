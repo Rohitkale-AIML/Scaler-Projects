{
 "cells": [
  {
   "cell_type": "markdown",
   "id": "26e7a783",
   "metadata": {},
   "source": [
    "## Problem Statement"
   ]
  },
  {
   "cell_type": "markdown",
   "id": "9ebad10f",
   "metadata": {},
   "source": [
    "The goal of this project is to use a bunch of news articles extracted from the companies’ internal database and categorize them into several categories like politics, technology, sports, business and entertainment based on their content. Use natural language processing and create & compare at least three different models."
   ]
  },
  {
   "cell_type": "markdown",
   "id": "4ce8f6f4",
   "metadata": {},
   "source": [
    "## Importing the libraries & Reading the data file"
   ]
  },
  {
   "cell_type": "markdown",
   "id": "867fe45c",
   "metadata": {},
   "source": [
    "### Importing all the required libraries"
   ]
  },
  {
   "cell_type": "code",
   "execution_count": 1,
   "id": "2efe096f",
   "metadata": {},
   "outputs": [],
   "source": [
    "import os\n",
    "import re\n",
    "import random\n",
    "import string"
   ]
  },
  {
   "cell_type": "code",
   "execution_count": 2,
   "id": "7f632cc0",
   "metadata": {},
   "outputs": [],
   "source": [
    "import numpy as np\n",
    "import pandas as pd\n",
    "import matplotlib.pyplot as plt\n",
    "import seaborn as sns"
   ]
  },
  {
   "cell_type": "code",
   "execution_count": 3,
   "id": "1789aff7",
   "metadata": {},
   "outputs": [
    {
     "name": "stderr",
     "output_type": "stream",
     "text": [
      "[nltk_data] Downloading package stopwords to\n",
      "[nltk_data]     C:\\Users\\Admin\\AppData\\Roaming\\nltk_data...\n",
      "[nltk_data]   Package stopwords is already up-to-date!\n"
     ]
    },
    {
     "data": {
      "text/plain": [
       "True"
      ]
     },
     "execution_count": 3,
     "metadata": {},
     "output_type": "execute_result"
    }
   ],
   "source": [
    "import nltk\n",
    "from nltk.tokenize import word_tokenize, sent_tokenize\n",
    "from nltk.corpus import stopwords, wordnet          \n",
    "from nltk.stem import WordNetLemmatizer\n",
    "# nltk.download('punkt')\n",
    "nltk.download('stopwords')\n",
    "# nltk.download('wordnet')"
   ]
  },
  {
   "cell_type": "code",
   "execution_count": 4,
   "id": "96061f12",
   "metadata": {},
   "outputs": [],
   "source": [
    "import spacy"
   ]
  },
  {
   "cell_type": "code",
   "execution_count": 5,
   "id": "48cc2c4a",
   "metadata": {},
   "outputs": [],
   "source": [
    "from pprint import pprint\n",
    "import contractions"
   ]
  },
  {
   "cell_type": "code",
   "execution_count": 50,
   "id": "6262dc2b",
   "metadata": {},
   "outputs": [],
   "source": [
    "from sklearn.preprocessing import LabelEncoder\n",
    "from sklearn.model_selection import train_test_split\n",
    "from sklearn.feature_extraction.text import CountVectorizer, TfidfVectorizer\n",
    "from sklearn.utils import class_weight\n",
    "from sklearn.naive_bayes import MultinomialNB\n",
    "from sklearn.tree import DecisionTreeClassifier\n",
    "from sklearn.neighbors import KNeighborsClassifier\n",
    "from sklearn.ensemble import RandomForestClassifier\n",
    "from sklearn.metrics import accuracy_score, classification_report, confusion_matrix, ConfusionMatrixDisplay"
   ]
  },
  {
   "cell_type": "code",
   "execution_count": 7,
   "id": "b9c8ad4f",
   "metadata": {},
   "outputs": [],
   "source": [
    "from tqdm.notebook import tqdm"
   ]
  },
  {
   "cell_type": "markdown",
   "id": "597ad184",
   "metadata": {},
   "source": [
    "### Loading the dataset"
   ]
  },
  {
   "cell_type": "code",
   "execution_count": 8,
   "id": "16dda33a",
   "metadata": {},
   "outputs": [
    {
     "data": {
      "text/html": [
       "<div>\n",
       "<style scoped>\n",
       "    .dataframe tbody tr th:only-of-type {\n",
       "        vertical-align: middle;\n",
       "    }\n",
       "\n",
       "    .dataframe tbody tr th {\n",
       "        vertical-align: top;\n",
       "    }\n",
       "\n",
       "    .dataframe thead th {\n",
       "        text-align: right;\n",
       "    }\n",
       "</style>\n",
       "<table border=\"1\" class=\"dataframe\">\n",
       "  <thead>\n",
       "    <tr style=\"text-align: right;\">\n",
       "      <th></th>\n",
       "      <th>Category</th>\n",
       "      <th>Article</th>\n",
       "    </tr>\n",
       "  </thead>\n",
       "  <tbody>\n",
       "    <tr>\n",
       "      <th>0</th>\n",
       "      <td>Technology</td>\n",
       "      <td>tv future in the hands of viewers with home th...</td>\n",
       "    </tr>\n",
       "    <tr>\n",
       "      <th>1</th>\n",
       "      <td>Business</td>\n",
       "      <td>worldcom boss  left books alone  former worldc...</td>\n",
       "    </tr>\n",
       "    <tr>\n",
       "      <th>2</th>\n",
       "      <td>Sports</td>\n",
       "      <td>tigers wary of farrell  gamble  leicester say ...</td>\n",
       "    </tr>\n",
       "    <tr>\n",
       "      <th>3</th>\n",
       "      <td>Sports</td>\n",
       "      <td>yeading face newcastle in fa cup premiership s...</td>\n",
       "    </tr>\n",
       "    <tr>\n",
       "      <th>4</th>\n",
       "      <td>Entertainment</td>\n",
       "      <td>ocean s twelve raids box office ocean s twelve...</td>\n",
       "    </tr>\n",
       "    <tr>\n",
       "      <th>...</th>\n",
       "      <td>...</td>\n",
       "      <td>...</td>\n",
       "    </tr>\n",
       "    <tr>\n",
       "      <th>2220</th>\n",
       "      <td>Business</td>\n",
       "      <td>cars pull down us retail figures us retail sal...</td>\n",
       "    </tr>\n",
       "    <tr>\n",
       "      <th>2221</th>\n",
       "      <td>Politics</td>\n",
       "      <td>kilroy unveils immigration policy ex-chatshow ...</td>\n",
       "    </tr>\n",
       "    <tr>\n",
       "      <th>2222</th>\n",
       "      <td>Entertainment</td>\n",
       "      <td>rem announce new glasgow concert us band rem h...</td>\n",
       "    </tr>\n",
       "    <tr>\n",
       "      <th>2223</th>\n",
       "      <td>Politics</td>\n",
       "      <td>how political squabbles snowball it s become c...</td>\n",
       "    </tr>\n",
       "    <tr>\n",
       "      <th>2224</th>\n",
       "      <td>Sports</td>\n",
       "      <td>souness delight at euro progress boss graeme s...</td>\n",
       "    </tr>\n",
       "  </tbody>\n",
       "</table>\n",
       "<p>2225 rows × 2 columns</p>\n",
       "</div>"
      ],
      "text/plain": [
       "           Category                                            Article\n",
       "0        Technology  tv future in the hands of viewers with home th...\n",
       "1          Business  worldcom boss  left books alone  former worldc...\n",
       "2            Sports  tigers wary of farrell  gamble  leicester say ...\n",
       "3            Sports  yeading face newcastle in fa cup premiership s...\n",
       "4     Entertainment  ocean s twelve raids box office ocean s twelve...\n",
       "...             ...                                                ...\n",
       "2220       Business  cars pull down us retail figures us retail sal...\n",
       "2221       Politics  kilroy unveils immigration policy ex-chatshow ...\n",
       "2222  Entertainment  rem announce new glasgow concert us band rem h...\n",
       "2223       Politics  how political squabbles snowball it s become c...\n",
       "2224         Sports  souness delight at euro progress boss graeme s...\n",
       "\n",
       "[2225 rows x 2 columns]"
      ]
     },
     "execution_count": 8,
     "metadata": {},
     "output_type": "execute_result"
    }
   ],
   "source": [
    "news_articles = pd.read_csv('flipitnews-data.csv')\n",
    "news_articles"
   ]
  },
  {
   "cell_type": "markdown",
   "id": "2ea8f968",
   "metadata": {},
   "source": [
    "## Exploring the dataset"
   ]
  },
  {
   "cell_type": "code",
   "execution_count": 9,
   "id": "2b7b19d8",
   "metadata": {},
   "outputs": [
    {
     "name": "stdout",
     "output_type": "stream",
     "text": [
      "<class 'pandas.core.frame.DataFrame'>\n",
      "RangeIndex: 2225 entries, 0 to 2224\n",
      "Data columns (total 2 columns):\n",
      " #   Column    Non-Null Count  Dtype \n",
      "---  ------    --------------  ----- \n",
      " 0   Category  2225 non-null   object\n",
      " 1   Article   2225 non-null   object\n",
      "dtypes: object(2)\n",
      "memory usage: 34.9+ KB\n"
     ]
    }
   ],
   "source": [
    "news_articles.info()"
   ]
  },
  {
   "cell_type": "code",
   "execution_count": 10,
   "id": "1a94bee0",
   "metadata": {},
   "outputs": [
    {
     "name": "stdout",
     "output_type": "stream",
     "text": [
      "Shape of dataset : (2225, 2)\n"
     ]
    }
   ],
   "source": [
    "print(\"Shape of dataset : {}\".format(news_articles.shape))"
   ]
  },
  {
   "cell_type": "code",
   "execution_count": 11,
   "id": "95a9bb8b",
   "metadata": {},
   "outputs": [
    {
     "data": {
      "text/plain": [
       "array([False,  True])"
      ]
     },
     "execution_count": 11,
     "metadata": {},
     "output_type": "execute_result"
    }
   ],
   "source": [
    "np.unique(news_articles.duplicated())"
   ]
  },
  {
   "cell_type": "code",
   "execution_count": 12,
   "id": "ddcb4748",
   "metadata": {},
   "outputs": [
    {
     "data": {
      "text/html": [
       "<div>\n",
       "<style scoped>\n",
       "    .dataframe tbody tr th:only-of-type {\n",
       "        vertical-align: middle;\n",
       "    }\n",
       "\n",
       "    .dataframe tbody tr th {\n",
       "        vertical-align: top;\n",
       "    }\n",
       "\n",
       "    .dataframe thead th {\n",
       "        text-align: right;\n",
       "    }\n",
       "</style>\n",
       "<table border=\"1\" class=\"dataframe\">\n",
       "  <thead>\n",
       "    <tr style=\"text-align: right;\">\n",
       "      <th></th>\n",
       "      <th>Category</th>\n",
       "      <th>Article</th>\n",
       "    </tr>\n",
       "  </thead>\n",
       "  <tbody>\n",
       "    <tr>\n",
       "      <th>85</th>\n",
       "      <td>Politics</td>\n",
       "      <td>hague  given up  his pm ambition former conser...</td>\n",
       "    </tr>\n",
       "    <tr>\n",
       "      <th>301</th>\n",
       "      <td>Politics</td>\n",
       "      <td>fox attacks blair s tory  lies  tony blair lie...</td>\n",
       "    </tr>\n",
       "    <tr>\n",
       "      <th>496</th>\n",
       "      <td>Technology</td>\n",
       "      <td>microsoft gets the blogging bug software giant...</td>\n",
       "    </tr>\n",
       "    <tr>\n",
       "      <th>543</th>\n",
       "      <td>Business</td>\n",
       "      <td>economy  strong  in election year uk businesse...</td>\n",
       "    </tr>\n",
       "    <tr>\n",
       "      <th>582</th>\n",
       "      <td>Entertainment</td>\n",
       "      <td>ray dvd beats box office takings oscar-nominat...</td>\n",
       "    </tr>\n",
       "    <tr>\n",
       "      <th>...</th>\n",
       "      <td>...</td>\n",
       "      <td>...</td>\n",
       "    </tr>\n",
       "    <tr>\n",
       "      <th>2206</th>\n",
       "      <td>Politics</td>\n",
       "      <td>kennedy questions trust of blair lib dem leade...</td>\n",
       "    </tr>\n",
       "    <tr>\n",
       "      <th>2207</th>\n",
       "      <td>Technology</td>\n",
       "      <td>california sets fines for spyware the makers o...</td>\n",
       "    </tr>\n",
       "    <tr>\n",
       "      <th>2213</th>\n",
       "      <td>Technology</td>\n",
       "      <td>progress on new internet domains by early 2005...</td>\n",
       "    </tr>\n",
       "    <tr>\n",
       "      <th>2215</th>\n",
       "      <td>Technology</td>\n",
       "      <td>junk e-mails on relentless rise spam traffic i...</td>\n",
       "    </tr>\n",
       "    <tr>\n",
       "      <th>2217</th>\n",
       "      <td>Technology</td>\n",
       "      <td>rings of steel combat net attacks gambling is ...</td>\n",
       "    </tr>\n",
       "  </tbody>\n",
       "</table>\n",
       "<p>99 rows × 2 columns</p>\n",
       "</div>"
      ],
      "text/plain": [
       "           Category                                            Article\n",
       "85         Politics  hague  given up  his pm ambition former conser...\n",
       "301        Politics  fox attacks blair s tory  lies  tony blair lie...\n",
       "496      Technology  microsoft gets the blogging bug software giant...\n",
       "543        Business  economy  strong  in election year uk businesse...\n",
       "582   Entertainment  ray dvd beats box office takings oscar-nominat...\n",
       "...             ...                                                ...\n",
       "2206       Politics  kennedy questions trust of blair lib dem leade...\n",
       "2207     Technology  california sets fines for spyware the makers o...\n",
       "2213     Technology  progress on new internet domains by early 2005...\n",
       "2215     Technology  junk e-mails on relentless rise spam traffic i...\n",
       "2217     Technology  rings of steel combat net attacks gambling is ...\n",
       "\n",
       "[99 rows x 2 columns]"
      ]
     },
     "execution_count": 12,
     "metadata": {},
     "output_type": "execute_result"
    }
   ],
   "source": [
    "# duplicate rows in dataset\n",
    "news_articles[news_articles.duplicated()]"
   ]
  },
  {
   "cell_type": "code",
   "execution_count": 13,
   "id": "6e9cc8a8",
   "metadata": {},
   "outputs": [
    {
     "data": {
      "text/plain": [
       "'hague  given up  his pm ambition former conservative leader william hague says he will not stand for the leadership again  having given up his ambition to be prime minister.  mr hague  43  told the daily telegraph he would now find a life dominated by politics too  boring  and unfulfilling. mr hague  who stepped down after his party s 2001 election defeat  does not rule out a return to the front bench. he also told the paper he hopes to remain mp for richmond  north yorks  and start a family with wife ffion. mr hague  who recently had published the biography of william pitt the younger  also said he wanted to continue writing books and speech-writing.  he told the newspaper:  i don t know whether i will ever go back on to the front  but don t rush me.  asked if he would stand for the leadership again  mr hague replied:  no. definitely not.  his determination to stay away from a central role will disappoint some senior conservative members  who say the party needs him. tim collins  the shadow education secretary  said last week it would be a  huge boost  to the party if mr hague returned to the front bench. mr hague became an mp at 27 and leader of the opposition at 36. he said:  i feel fortunate that  by the age of 40  i had crammed in an entire political career.  i had been in the cabinet and been leader of the party  so now i can branch out into other things...it is a very liberating feeling.  mr hague added that he may have misjudged his own ambition to be prime minister.  maybe i wasn t as driven by politics as i thought i was   he said.'"
      ]
     },
     "execution_count": 13,
     "metadata": {},
     "output_type": "execute_result"
    }
   ],
   "source": [
    "# printing one article from duplicates\n",
    "news_articles['Article'].iloc[85]"
   ]
  },
  {
   "cell_type": "code",
   "execution_count": 14,
   "id": "727f3885",
   "metadata": {},
   "outputs": [
    {
     "data": {
      "text/html": [
       "<div>\n",
       "<style scoped>\n",
       "    .dataframe tbody tr th:only-of-type {\n",
       "        vertical-align: middle;\n",
       "    }\n",
       "\n",
       "    .dataframe tbody tr th {\n",
       "        vertical-align: top;\n",
       "    }\n",
       "\n",
       "    .dataframe thead th {\n",
       "        text-align: right;\n",
       "    }\n",
       "</style>\n",
       "<table border=\"1\" class=\"dataframe\">\n",
       "  <thead>\n",
       "    <tr style=\"text-align: right;\">\n",
       "      <th></th>\n",
       "      <th>Category</th>\n",
       "      <th>Article</th>\n",
       "    </tr>\n",
       "  </thead>\n",
       "  <tbody>\n",
       "    <tr>\n",
       "      <th>13</th>\n",
       "      <td>Politics</td>\n",
       "      <td>hague  given up  his pm ambition former conser...</td>\n",
       "    </tr>\n",
       "    <tr>\n",
       "      <th>85</th>\n",
       "      <td>Politics</td>\n",
       "      <td>hague  given up  his pm ambition former conser...</td>\n",
       "    </tr>\n",
       "  </tbody>\n",
       "</table>\n",
       "</div>"
      ],
      "text/plain": [
       "    Category                                            Article\n",
       "13  Politics  hague  given up  his pm ambition former conser...\n",
       "85  Politics  hague  given up  his pm ambition former conser..."
      ]
     },
     "execution_count": 14,
     "metadata": {},
     "output_type": "execute_result"
    }
   ],
   "source": [
    "# checking one example of duplicate\n",
    "news_articles.loc[news_articles['Article'] == news_articles['Article'].iloc[85]]"
   ]
  },
  {
   "cell_type": "code",
   "execution_count": 15,
   "id": "6b1c3f6c",
   "metadata": {},
   "outputs": [],
   "source": [
    "news_articles = news_articles.drop_duplicates(ignore_index=True)"
   ]
  },
  {
   "cell_type": "code",
   "execution_count": 16,
   "id": "8efbd7e9",
   "metadata": {},
   "outputs": [
    {
     "data": {
      "text/html": [
       "<div>\n",
       "<style scoped>\n",
       "    .dataframe tbody tr th:only-of-type {\n",
       "        vertical-align: middle;\n",
       "    }\n",
       "\n",
       "    .dataframe tbody tr th {\n",
       "        vertical-align: top;\n",
       "    }\n",
       "\n",
       "    .dataframe thead th {\n",
       "        text-align: right;\n",
       "    }\n",
       "</style>\n",
       "<table border=\"1\" class=\"dataframe\">\n",
       "  <thead>\n",
       "    <tr style=\"text-align: right;\">\n",
       "      <th></th>\n",
       "      <th>Category</th>\n",
       "      <th>Article</th>\n",
       "    </tr>\n",
       "  </thead>\n",
       "  <tbody>\n",
       "    <tr>\n",
       "      <th>0</th>\n",
       "      <td>Technology</td>\n",
       "      <td>tv future in the hands of viewers with home th...</td>\n",
       "    </tr>\n",
       "    <tr>\n",
       "      <th>1</th>\n",
       "      <td>Business</td>\n",
       "      <td>worldcom boss  left books alone  former worldc...</td>\n",
       "    </tr>\n",
       "    <tr>\n",
       "      <th>2</th>\n",
       "      <td>Sports</td>\n",
       "      <td>tigers wary of farrell  gamble  leicester say ...</td>\n",
       "    </tr>\n",
       "    <tr>\n",
       "      <th>3</th>\n",
       "      <td>Sports</td>\n",
       "      <td>yeading face newcastle in fa cup premiership s...</td>\n",
       "    </tr>\n",
       "    <tr>\n",
       "      <th>4</th>\n",
       "      <td>Entertainment</td>\n",
       "      <td>ocean s twelve raids box office ocean s twelve...</td>\n",
       "    </tr>\n",
       "    <tr>\n",
       "      <th>...</th>\n",
       "      <td>...</td>\n",
       "      <td>...</td>\n",
       "    </tr>\n",
       "    <tr>\n",
       "      <th>2121</th>\n",
       "      <td>Business</td>\n",
       "      <td>cars pull down us retail figures us retail sal...</td>\n",
       "    </tr>\n",
       "    <tr>\n",
       "      <th>2122</th>\n",
       "      <td>Politics</td>\n",
       "      <td>kilroy unveils immigration policy ex-chatshow ...</td>\n",
       "    </tr>\n",
       "    <tr>\n",
       "      <th>2123</th>\n",
       "      <td>Entertainment</td>\n",
       "      <td>rem announce new glasgow concert us band rem h...</td>\n",
       "    </tr>\n",
       "    <tr>\n",
       "      <th>2124</th>\n",
       "      <td>Politics</td>\n",
       "      <td>how political squabbles snowball it s become c...</td>\n",
       "    </tr>\n",
       "    <tr>\n",
       "      <th>2125</th>\n",
       "      <td>Sports</td>\n",
       "      <td>souness delight at euro progress boss graeme s...</td>\n",
       "    </tr>\n",
       "  </tbody>\n",
       "</table>\n",
       "<p>2126 rows × 2 columns</p>\n",
       "</div>"
      ],
      "text/plain": [
       "           Category                                            Article\n",
       "0        Technology  tv future in the hands of viewers with home th...\n",
       "1          Business  worldcom boss  left books alone  former worldc...\n",
       "2            Sports  tigers wary of farrell  gamble  leicester say ...\n",
       "3            Sports  yeading face newcastle in fa cup premiership s...\n",
       "4     Entertainment  ocean s twelve raids box office ocean s twelve...\n",
       "...             ...                                                ...\n",
       "2121       Business  cars pull down us retail figures us retail sal...\n",
       "2122       Politics  kilroy unveils immigration policy ex-chatshow ...\n",
       "2123  Entertainment  rem announce new glasgow concert us band rem h...\n",
       "2124       Politics  how political squabbles snowball it s become c...\n",
       "2125         Sports  souness delight at euro progress boss graeme s...\n",
       "\n",
       "[2126 rows x 2 columns]"
      ]
     },
     "execution_count": 16,
     "metadata": {},
     "output_type": "execute_result"
    }
   ],
   "source": [
    "news_articles"
   ]
  },
  {
   "cell_type": "markdown",
   "id": "c336c970",
   "metadata": {},
   "source": [
    "### Shape of the dataset"
   ]
  },
  {
   "cell_type": "code",
   "execution_count": 17,
   "id": "ffa4db9f",
   "metadata": {},
   "outputs": [
    {
     "name": "stdout",
     "output_type": "stream",
     "text": [
      "Shape of dataset : (2126, 2)\n"
     ]
    }
   ],
   "source": [
    "print(\"Shape of dataset : {}\".format(news_articles.shape))"
   ]
  },
  {
   "cell_type": "code",
   "execution_count": 18,
   "id": "5a3a9abd",
   "metadata": {},
   "outputs": [
    {
     "name": "stdout",
     "output_type": "stream",
     "text": [
      "class_names : ['Business' 'Entertainment' 'Politics' 'Sports' 'Technology']\n"
     ]
    }
   ],
   "source": [
    "class_names = np.sort(news_articles['Category'].unique())\n",
    "print('class_names :', class_names)"
   ]
  },
  {
   "cell_type": "code",
   "execution_count": 19,
   "id": "1ad913c6",
   "metadata": {},
   "outputs": [
    {
     "data": {
      "text/plain": [
       "Category\n",
       "Sports           504\n",
       "Business         503\n",
       "Politics         403\n",
       "Entertainment    369\n",
       "Technology       347\n",
       "Name: count, dtype: int64"
      ]
     },
     "execution_count": 19,
     "metadata": {},
     "output_type": "execute_result"
    }
   ],
   "source": [
    "news_articles['Category'].value_counts()"
   ]
  },
  {
   "cell_type": "markdown",
   "id": "5c7e2986",
   "metadata": {},
   "source": [
    "### News articles per category"
   ]
  },
  {
   "cell_type": "code",
   "execution_count": 20,
   "id": "63818056",
   "metadata": {},
   "outputs": [
    {
     "data": {
      "image/png": "[encoded data removed]",
      "text/plain": [
       "<Figure size 640x480 with 1 Axes>"
      ]
     },
     "metadata": {},
     "output_type": "display_data"
    }
   ],
   "source": [
    "sns.countplot(data=news_articles, x='Category', order=news_articles['Category'].value_counts().index)\n",
    "plt.ylabel('Count of news articles')\n",
    "plt.title('Distribution of news articles in each category')\n",
    "plt.show()"
   ]
  },
  {
   "cell_type": "markdown",
   "id": "e7fa1bda",
   "metadata": {},
   "source": [
    "## Processing the Textual Data (the news articles)"
   ]
  },
  {
   "cell_type": "code",
   "execution_count": 21,
   "id": "e38e7669",
   "metadata": {},
   "outputs": [
    {
     "name": "stdout",
     "output_type": "stream",
     "text": [
      "['i', 'me', 'my', 'myself', 'we', 'our', 'ours', 'ourselves', 'you', \"you're\", \"you've\", \"you'll\", \"you'd\", 'your', 'yours', 'yourself', 'yourselves', 'he', 'him', 'his', 'himself', 'she', \"she's\", 'her', 'hers', 'herself', 'it', \"it's\", 'its', 'itself', 'they', 'them', 'their', 'theirs', 'themselves', 'what', 'which', 'who', 'whom', 'this', 'that', \"that'll\", 'these', 'those', 'am', 'is', 'are', 'was', 'were', 'be', 'been', 'being', 'have', 'has', 'had', 'having', 'do', 'does', 'did', 'doing', 'a', 'an', 'the', 'and', 'but', 'if', 'or', 'because', 'as', 'until', 'while', 'of', 'at', 'by', 'for', 'with', 'about', 'against', 'between', 'into', 'through', 'during', 'before', 'after', 'above', 'below', 'to', 'from', 'up', 'down', 'in', 'out', 'on', 'off', 'over', 'under', 'again', 'further', 'then', 'once', 'here', 'there', 'when', 'where', 'why', 'how', 'all', 'any', 'both', 'each', 'few', 'more', 'most', 'other', 'some', 'such', 'no', 'nor', 'not', 'only', 'own', 'same', 'so', 'than', 'too', 'very', 's', 't', 'can', 'will', 'just', 'don', \"don't\", 'should', \"should've\", 'now', 'd', 'll', 'm', 'o', 're', 've', 'y', 'ain', 'aren', \"aren't\", 'couldn', \"couldn't\", 'didn', \"didn't\", 'doesn', \"doesn't\", 'hadn', \"hadn't\", 'hasn', \"hasn't\", 'haven', \"haven't\", 'isn', \"isn't\", 'ma', 'mightn', \"mightn't\", 'mustn', \"mustn't\", 'needn', \"needn't\", 'shan', \"shan't\", 'shouldn', \"shouldn't\", 'wasn', \"wasn't\", 'weren', \"weren't\", 'won', \"won't\", 'wouldn', \"wouldn't\"]\n"
     ]
    }
   ],
   "source": [
    "# Get the stopwords for English\n",
    "stopwords_english = stopwords.words('english')\n",
    "\n",
    "# Print the stopwords\n",
    "print(stopwords_english)"
   ]
  },
  {
   "cell_type": "code",
   "execution_count": 22,
   "id": "85231ad3",
   "metadata": {},
   "outputs": [],
   "source": [
    "def process_article_NLTK(article_text):       \n",
    "    # Step 1: Remove non-letters\n",
    "    article_text = re.sub(r'[^a-zA-Z]', ' ', article_text)\n",
    "    \n",
    "    # Step 2: Tokenize the text\n",
    "    tokens = word_tokenize(article_text)\n",
    "    \n",
    "    # Step 3: Remove stopwords\n",
    "    stopwords_english = set(stopwords.words('english'))\n",
    "    filtered_tokens = [token for token in tokens if token not in stopwords_english and len(token)>2]\n",
    "    \n",
    "    # Step 4: Lemmatization\n",
    "    # lemmatizer = WordNetLemmatizer()\n",
    "    # lemmatized_tokens = [lemmatizer.lemmatize(token) for token in filtered_tokens]\n",
    "    \n",
    "    return ' '.join(filtered_tokens)"
   ]
  },
  {
   "cell_type": "code",
   "execution_count": 23,
   "id": "08e7af47",
   "metadata": {},
   "outputs": [],
   "source": [
    "def process_article_spaCy(article_text):\n",
    "    # NLP processing pipeline\n",
    "    nlp = spacy.load(\"en_core_web_sm\")\n",
    "    \n",
    "    # applying NLP object on text data\n",
    "    tokens = nlp(article_text)\n",
    "    \n",
    "    # Step 4: Lemmatization\n",
    "    lemmatized_tokens = [token.lemma_ if token.pos_ in ['VERB', 'NOUN', 'ADJ'] else token.text for token in tokens \\\n",
    "                         if token.is_alpha and not token.is_digit and not token.is_punct and not token.is_stop]\n",
    "    \n",
    "    return ' '.join(lemmatized_tokens)"
   ]
  },
  {
   "cell_type": "code",
   "execution_count": 24,
   "id": "83dbaba6",
   "metadata": {},
   "outputs": [
    {
     "name": "stdout",
     "output_type": "stream",
     "text": [
      "Alphabet sb child company Apple look buy startup billion\n"
     ]
    }
   ],
   "source": [
    "print(process_article_spaCy(\"Alphabet sb child companies Apple is looking at buying U.K. startups for $1 billion\"))"
   ]
  },
  {
   "cell_type": "code",
   "execution_count": 25,
   "id": "3e001317",
   "metadata": {},
   "outputs": [
    {
     "name": "stdout",
     "output_type": "stream",
     "text": [
      "Alphabet child company Apple look buy startup billion\n"
     ]
    }
   ],
   "source": [
    "print(process_article_NLTK(process_article_spaCy(\"Alphabet sb child companies Apple is looking at buying U.K. startups for $1 billion\")))"
   ]
  },
  {
   "cell_type": "code",
   "execution_count": 26,
   "id": "1d2a7aed",
   "metadata": {},
   "outputs": [
    {
     "name": "stdout",
     "output_type": "stream",
     "text": [
      "ocean s twelve raids box office ocean s twelve  the crime caper sequel starring george clooney  brad pitt and julia roberts  has gone straight to number one in the us box office chart.  it took $40.8m (£21m) in weekend ticket sales  according to studio estimates. the sequel follows the master criminals as they try to pull off three major heists across europe. it knocked last week s number one  national treasure  into third place. wesley snipes  blade: trinity was in second  taking $16.1m (£8.4m). rounding out the top five was animated fable the polar express  starring tom hanks  and festive comedy christmas with the kranks.  ocean s twelve box office triumph marks the fourth-biggest opening for a december release in the us  after the three films in the lord of the rings trilogy. the sequel narrowly beat its 2001 predecessor  ocean s eleven which took $38.1m (£19.8m) on its opening weekend and $184m (£95.8m) in total. a remake of the 1960s film  starring frank sinatra and the rat pack  ocean s eleven was directed by oscar-winning director steven soderbergh. soderbergh returns to direct the hit sequel which reunites clooney  pitt and roberts with matt damon  andy garcia and elliott gould. catherine zeta-jones joins the all-star cast.  it s just a fun  good holiday movie   said dan fellman  president of distribution at warner bros. however  us critics were less complimentary about the $110m (£57.2m) project  with the los angeles times labelling it a  dispiriting vanity project . a milder review in the new york times dubbed the sequel  unabashedly trivial .\n"
     ]
    }
   ],
   "source": [
    "text = news_articles['Article'][4]\n",
    "print(text)"
   ]
  },
  {
   "cell_type": "code",
   "execution_count": 27,
   "id": "23275990",
   "metadata": {},
   "outputs": [
    {
     "name": "stdout",
     "output_type": "stream",
     "text": [
      "ocean s raid box office ocean s crime caper sequel star george clooney brad pitt julia roberts go straight number box office chart take m m weekend ticket sale accord studio estimate sequel follow master criminal try pull major heist europe knock week s number national treasure place wesley snipe blade trinity second take m m round animate fable polar express star tom hank festive comedy christmas krank ocean s box office triumph mark fourth big opening december release film lord ring trilogy sequel narrowly beat predecessor ocean s take m m opening weekend m m total remake film star frank sinatra rat pack ocean s direct oscar win director steven soderbergh soderbergh return direct hit sequel reunite clooney pitt roberts matt damon andy garcia elliott gould catherine zeta jones join star cast s fun good holiday movie say dan fellman president distribution warner bros critic complimentary m m project los angeles time label dispirit vanity project milder review new york times dub sequel unabashedly trivial\n"
     ]
    }
   ],
   "source": [
    "print(process_article_spaCy(text))"
   ]
  },
  {
   "cell_type": "code",
   "execution_count": 28,
   "id": "27a80c57",
   "metadata": {},
   "outputs": [
    {
     "name": "stdout",
     "output_type": "stream",
     "text": [
      "ocean raid box office ocean crime caper sequel star george clooney brad pitt julia roberts straight number box office chart take weekend ticket sale accord studio estimate sequel follow master criminal try pull major heist europe knock week number national treasure place wesley snipe blade trinity second take round animate fable polar express star tom hank festive comedy christmas krank ocean box office triumph mark fourth big opening december release film lord ring trilogy sequel narrowly beat predecessor ocean take opening weekend total remake film star frank sinatra rat pack ocean direct oscar win director steven soderbergh soderbergh return direct hit sequel reunite clooney pitt roberts matt damon andy garcia elliott gould catherine zeta jones join star cast fun good holiday movie say dan fellman president distribution warner bros critic complimentary project los angeles time label dispirit vanity project milder review new york times dub sequel unabashedly trivial\n"
     ]
    }
   ],
   "source": [
    "print(process_article_NLTK(process_article_spaCy(text)))"
   ]
  },
  {
   "cell_type": "code",
   "execution_count": 29,
   "id": "a996a75b",
   "metadata": {},
   "outputs": [],
   "source": [
    "processed_news_articles = news_articles.copy()"
   ]
  },
  {
   "cell_type": "code",
   "execution_count": 30,
   "id": "657d188b",
   "metadata": {},
   "outputs": [
    {
     "data": {
      "application/vnd.jupyter.widget-view+json": {
       "model_id": "a7ce095e0ad84c8b9c492a4cd35a76c8",
       "version_major": 2,
       "version_minor": 0
      },
      "text/plain": [
       "Processing news articles using spaCy:   0%|          | 0/2126 [00:00<?, ?it/s]"
      ]
     },
     "metadata": {},
     "output_type": "display_data"
    },
    {
     "data": {
      "application/vnd.jupyter.widget-view+json": {
       "model_id": "d88e1ddaff68409ab1227cceb0266785",
       "version_major": 2,
       "version_minor": 0
      },
      "text/plain": [
       "Processing news articles using NLTK:   0%|          | 0/2126 [00:00<?, ?it/s]"
      ]
     },
     "metadata": {},
     "output_type": "display_data"
    }
   ],
   "source": [
    "tqdm.pandas(desc=\"Processing news articles using spaCy\") \n",
    "processed_news_articles['Article'] = processed_news_articles['Article'].progress_apply(process_article_spaCy)\n",
    "tqdm.pandas(desc=\"Processing news articles using NLTK\") \n",
    "processed_news_articles['Article'] = processed_news_articles['Article'].progress_apply(process_article_NLTK)"
   ]
  },
  {
   "cell_type": "code",
   "execution_count": 31,
   "id": "ee7d05f9",
   "metadata": {},
   "outputs": [
    {
     "data": {
      "text/html": [
       "<div>\n",
       "<style scoped>\n",
       "    .dataframe tbody tr th:only-of-type {\n",
       "        vertical-align: middle;\n",
       "    }\n",
       "\n",
       "    .dataframe tbody tr th {\n",
       "        vertical-align: top;\n",
       "    }\n",
       "\n",
       "    .dataframe thead th {\n",
       "        text-align: right;\n",
       "    }\n",
       "</style>\n",
       "<table border=\"1\" class=\"dataframe\">\n",
       "  <thead>\n",
       "    <tr style=\"text-align: right;\">\n",
       "      <th></th>\n",
       "      <th>Category</th>\n",
       "      <th>Article</th>\n",
       "    </tr>\n",
       "  </thead>\n",
       "  <tbody>\n",
       "    <tr>\n",
       "      <th>0</th>\n",
       "      <td>Technology</td>\n",
       "      <td>future hand viewer home theatre system plasma ...</td>\n",
       "    </tr>\n",
       "    <tr>\n",
       "      <th>1</th>\n",
       "      <td>Business</td>\n",
       "      <td>worldcom boss leave book worldcom boss bernie ...</td>\n",
       "    </tr>\n",
       "    <tr>\n",
       "      <th>2</th>\n",
       "      <td>Sports</td>\n",
       "      <td>tiger wary farrell gamble leicester rush make ...</td>\n",
       "    </tr>\n",
       "    <tr>\n",
       "      <th>3</th>\n",
       "      <td>Sports</td>\n",
       "      <td>yeade face newcastle cup premiership newcastle...</td>\n",
       "    </tr>\n",
       "    <tr>\n",
       "      <th>4</th>\n",
       "      <td>Entertainment</td>\n",
       "      <td>ocean raid box office ocean crime caper sequel...</td>\n",
       "    </tr>\n",
       "    <tr>\n",
       "      <th>...</th>\n",
       "      <td>...</td>\n",
       "      <td>...</td>\n",
       "    </tr>\n",
       "    <tr>\n",
       "      <th>2121</th>\n",
       "      <td>Business</td>\n",
       "      <td>car pull retail figure retail sale fall januar...</td>\n",
       "    </tr>\n",
       "    <tr>\n",
       "      <th>2122</th>\n",
       "      <td>Politics</td>\n",
       "      <td>kilroy unveils immigration policy chatshow hos...</td>\n",
       "    </tr>\n",
       "    <tr>\n",
       "      <th>2123</th>\n",
       "      <td>Entertainment</td>\n",
       "      <td>rem announce new glasgow concert band rem anno...</td>\n",
       "    </tr>\n",
       "    <tr>\n",
       "      <th>2124</th>\n",
       "      <td>Politics</td>\n",
       "      <td>political squabble snowball commonplace argue ...</td>\n",
       "    </tr>\n",
       "    <tr>\n",
       "      <th>2125</th>\n",
       "      <td>Sports</td>\n",
       "      <td>souness delight euro progress boss graeme soun...</td>\n",
       "    </tr>\n",
       "  </tbody>\n",
       "</table>\n",
       "<p>2126 rows × 2 columns</p>\n",
       "</div>"
      ],
      "text/plain": [
       "           Category                                            Article\n",
       "0        Technology  future hand viewer home theatre system plasma ...\n",
       "1          Business  worldcom boss leave book worldcom boss bernie ...\n",
       "2            Sports  tiger wary farrell gamble leicester rush make ...\n",
       "3            Sports  yeade face newcastle cup premiership newcastle...\n",
       "4     Entertainment  ocean raid box office ocean crime caper sequel...\n",
       "...             ...                                                ...\n",
       "2121       Business  car pull retail figure retail sale fall januar...\n",
       "2122       Politics  kilroy unveils immigration policy chatshow hos...\n",
       "2123  Entertainment  rem announce new glasgow concert band rem anno...\n",
       "2124       Politics  political squabble snowball commonplace argue ...\n",
       "2125         Sports  souness delight euro progress boss graeme soun...\n",
       "\n",
       "[2126 rows x 2 columns]"
      ]
     },
     "execution_count": 31,
     "metadata": {},
     "output_type": "execute_result"
    }
   ],
   "source": [
    "processed_news_articles"
   ]
  },
  {
   "cell_type": "markdown",
   "id": "d58dd121",
   "metadata": {},
   "source": [
    "## Encoding and Transforming the data"
   ]
  },
  {
   "cell_type": "markdown",
   "id": "c99c24e1",
   "metadata": {},
   "source": [
    "### Encoding the target variable"
   ]
  },
  {
   "cell_type": "code",
   "execution_count": 32,
   "id": "bd77c57e",
   "metadata": {},
   "outputs": [],
   "source": [
    "# Initialize LabelEncoder\n",
    "label_encoder = LabelEncoder()"
   ]
  },
  {
   "cell_type": "code",
   "execution_count": 33,
   "id": "73711c0b",
   "metadata": {},
   "outputs": [],
   "source": [
    "# Fit and transform the target column\n",
    "processed_news_articles['Category_encoded'] = label_encoder.fit_transform(processed_news_articles['Category'])"
   ]
  },
  {
   "cell_type": "code",
   "execution_count": 34,
   "id": "7fdbd029",
   "metadata": {},
   "outputs": [
    {
     "name": "stdout",
     "output_type": "stream",
     "text": [
      "{'Business': 0, 'Entertainment': 1, 'Politics': 2, 'Sports': 3, 'Technology': 4}\n"
     ]
    }
   ],
   "source": [
    "# Get the mapping of category names to their corresponding encoded values\n",
    "category_mapping = dict(zip(label_encoder.classes_, label_encoder.transform(label_encoder.classes_)))\n",
    "print(category_mapping)"
   ]
  },
  {
   "cell_type": "code",
   "execution_count": 35,
   "id": "da4af657",
   "metadata": {},
   "outputs": [
    {
     "data": {
      "text/html": [
       "<div>\n",
       "<style scoped>\n",
       "    .dataframe tbody tr th:only-of-type {\n",
       "        vertical-align: middle;\n",
       "    }\n",
       "\n",
       "    .dataframe tbody tr th {\n",
       "        vertical-align: top;\n",
       "    }\n",
       "\n",
       "    .dataframe thead th {\n",
       "        text-align: right;\n",
       "    }\n",
       "</style>\n",
       "<table border=\"1\" class=\"dataframe\">\n",
       "  <thead>\n",
       "    <tr style=\"text-align: right;\">\n",
       "      <th></th>\n",
       "      <th>Category</th>\n",
       "      <th>Article</th>\n",
       "      <th>Category_encoded</th>\n",
       "    </tr>\n",
       "  </thead>\n",
       "  <tbody>\n",
       "    <tr>\n",
       "      <th>0</th>\n",
       "      <td>Technology</td>\n",
       "      <td>future hand viewer home theatre system plasma ...</td>\n",
       "      <td>4</td>\n",
       "    </tr>\n",
       "    <tr>\n",
       "      <th>1</th>\n",
       "      <td>Business</td>\n",
       "      <td>worldcom boss leave book worldcom boss bernie ...</td>\n",
       "      <td>0</td>\n",
       "    </tr>\n",
       "    <tr>\n",
       "      <th>2</th>\n",
       "      <td>Sports</td>\n",
       "      <td>tiger wary farrell gamble leicester rush make ...</td>\n",
       "      <td>3</td>\n",
       "    </tr>\n",
       "    <tr>\n",
       "      <th>3</th>\n",
       "      <td>Sports</td>\n",
       "      <td>yeade face newcastle cup premiership newcastle...</td>\n",
       "      <td>3</td>\n",
       "    </tr>\n",
       "    <tr>\n",
       "      <th>4</th>\n",
       "      <td>Entertainment</td>\n",
       "      <td>ocean raid box office ocean crime caper sequel...</td>\n",
       "      <td>1</td>\n",
       "    </tr>\n",
       "    <tr>\n",
       "      <th>...</th>\n",
       "      <td>...</td>\n",
       "      <td>...</td>\n",
       "      <td>...</td>\n",
       "    </tr>\n",
       "    <tr>\n",
       "      <th>2121</th>\n",
       "      <td>Business</td>\n",
       "      <td>car pull retail figure retail sale fall januar...</td>\n",
       "      <td>0</td>\n",
       "    </tr>\n",
       "    <tr>\n",
       "      <th>2122</th>\n",
       "      <td>Politics</td>\n",
       "      <td>kilroy unveils immigration policy chatshow hos...</td>\n",
       "      <td>2</td>\n",
       "    </tr>\n",
       "    <tr>\n",
       "      <th>2123</th>\n",
       "      <td>Entertainment</td>\n",
       "      <td>rem announce new glasgow concert band rem anno...</td>\n",
       "      <td>1</td>\n",
       "    </tr>\n",
       "    <tr>\n",
       "      <th>2124</th>\n",
       "      <td>Politics</td>\n",
       "      <td>political squabble snowball commonplace argue ...</td>\n",
       "      <td>2</td>\n",
       "    </tr>\n",
       "    <tr>\n",
       "      <th>2125</th>\n",
       "      <td>Sports</td>\n",
       "      <td>souness delight euro progress boss graeme soun...</td>\n",
       "      <td>3</td>\n",
       "    </tr>\n",
       "  </tbody>\n",
       "</table>\n",
       "<p>2126 rows × 3 columns</p>\n",
       "</div>"
      ],
      "text/plain": [
       "           Category                                            Article   \n",
       "0        Technology  future hand viewer home theatre system plasma ...  \\\n",
       "1          Business  worldcom boss leave book worldcom boss bernie ...   \n",
       "2            Sports  tiger wary farrell gamble leicester rush make ...   \n",
       "3            Sports  yeade face newcastle cup premiership newcastle...   \n",
       "4     Entertainment  ocean raid box office ocean crime caper sequel...   \n",
       "...             ...                                                ...   \n",
       "2121       Business  car pull retail figure retail sale fall januar...   \n",
       "2122       Politics  kilroy unveils immigration policy chatshow hos...   \n",
       "2123  Entertainment  rem announce new glasgow concert band rem anno...   \n",
       "2124       Politics  political squabble snowball commonplace argue ...   \n",
       "2125         Sports  souness delight euro progress boss graeme soun...   \n",
       "\n",
       "      Category_encoded  \n",
       "0                    4  \n",
       "1                    0  \n",
       "2                    3  \n",
       "3                    3  \n",
       "4                    1  \n",
       "...                ...  \n",
       "2121                 0  \n",
       "2122                 2  \n",
       "2123                 1  \n",
       "2124                 2  \n",
       "2125                 3  \n",
       "\n",
       "[2126 rows x 3 columns]"
      ]
     },
     "execution_count": 35,
     "metadata": {},
     "output_type": "execute_result"
    }
   ],
   "source": [
    "processed_news_articles"
   ]
  },
  {
   "cell_type": "markdown",
   "id": "44b4b991",
   "metadata": {},
   "source": [
    "###  Vectorizing the data using Bag of Words or TF-IDF technique"
   ]
  },
  {
   "cell_type": "code",
   "execution_count": 36,
   "id": "60429724",
   "metadata": {},
   "outputs": [],
   "source": [
    "def vectorize_data(train_data, test_data, method='tf_idf', n_grams=(1,1)):\n",
    "    condition = method\n",
    "    if condition == 'freq':\n",
    "        vectorizer = CountVectorizer(ngram_range=n_grams)\n",
    "    else:\n",
    "        vectorizer = TfidfVectorizer(ngram_range=n_grams)\n",
    "    \n",
    "    # Fit and transform the training set\n",
    "    vectorized_train_data = vectorizer.fit_transform(train_data).todense()\n",
    "    train_df = pd.DataFrame(vectorized_train_data)\n",
    "    train_df.columns = vectorizer.get_feature_names_out()\n",
    "    \n",
    "    # Transform the testing set\n",
    "    vectorized_test_data = vectorizer.transform(test_data).todense()\n",
    "    test_df = pd.DataFrame(vectorized_test_data)\n",
    "    test_df.columns = vectorizer.get_feature_names_out()\n",
    "    \n",
    "    return train_df, test_df"
   ]
  },
  {
   "cell_type": "code",
   "execution_count": 37,
   "id": "b3bcfb86",
   "metadata": {},
   "outputs": [],
   "source": [
    "train_data = processed_news_articles['Article'][:150]\n",
    "test_data = processed_news_articles['Article'][200:230]\n",
    "transformed_data = vectorize_data(train_data, test_data, method='freq')\n",
    "transformed_train_df, transformed_test_df = transformed_data"
   ]
  },
  {
   "cell_type": "code",
   "execution_count": 38,
   "id": "89a1d0f6",
   "metadata": {},
   "outputs": [
    {
     "data": {
      "text/plain": [
       "Index(['aaltra', 'abandonment', 'abdication', 'abdullah', 'aberavon',\n",
       "       'abhorrent', 'abide', 'ability', 'able', 'abn', 'abolish',\n",
       "       'aboutroughly', 'abramovich', 'abroad', 'absence', 'absent', 'absolute',\n",
       "       'absolutely', 'absorb', 'absurd', 'aburizal', 'abuse', 'academia',\n",
       "       'academically', 'academy', 'accelerator', 'accept', 'acceptable',\n",
       "       'access', 'accessible', 'accession', 'accessory', 'accident',\n",
       "       'accidently', 'acclaim', 'accommodate', 'accompany', 'accord',\n",
       "       'accordance', 'account', 'accounting', 'accumulate', 'accumulator',\n",
       "       'accuracy', 'accurate', 'accuse', 'aceh', 'achieve', 'achievement',\n",
       "       'achille', 'acknowledge', 'acquisition', 'acre', 'act', 'action',\n",
       "       'activate', 'activist', 'activity', 'actor', 'actress', 'actually',\n",
       "       'adam', 'adapt', 'adaptation', 'add', 'addict', 'addiction',\n",
       "       'addictive', 'addition', 'additional', 'address', 'adelaide',\n",
       "       'adequate', 'adequately', 'adherence', 'adjust', 'adjustment',\n",
       "       'administer', 'administration', 'administrator', 'admission', 'admit',\n",
       "       'adolf', 'adopt', 'adrian', 'adsl', 'advance', 'advanced',\n",
       "       'advancement', 'advantage', 'adventure', 'advert', 'advertiser',\n",
       "       'advertising', 'advice', 'advise', 'adviser', 'advisory', 'advocate',\n",
       "       'afan'],\n",
       "      dtype='object')"
      ]
     },
     "execution_count": 38,
     "metadata": {},
     "output_type": "execute_result"
    }
   ],
   "source": [
    "transformed_train_df.columns[:100]"
   ]
  },
  {
   "cell_type": "code",
   "execution_count": 39,
   "id": "aa11bb26",
   "metadata": {},
   "outputs": [
    {
     "data": {
      "text/html": [
       "<div>\n",
       "<style scoped>\n",
       "    .dataframe tbody tr th:only-of-type {\n",
       "        vertical-align: middle;\n",
       "    }\n",
       "\n",
       "    .dataframe tbody tr th {\n",
       "        vertical-align: top;\n",
       "    }\n",
       "\n",
       "    .dataframe thead th {\n",
       "        text-align: right;\n",
       "    }\n",
       "</style>\n",
       "<table border=\"1\" class=\"dataframe\">\n",
       "  <thead>\n",
       "    <tr style=\"text-align: right;\">\n",
       "      <th></th>\n",
       "      <th>aaltra</th>\n",
       "      <th>abandonment</th>\n",
       "      <th>abdication</th>\n",
       "      <th>abdullah</th>\n",
       "      <th>aberavon</th>\n",
       "      <th>abhorrent</th>\n",
       "      <th>abide</th>\n",
       "      <th>ability</th>\n",
       "      <th>able</th>\n",
       "      <th>abn</th>\n",
       "      <th>...</th>\n",
       "      <th>yushchenko</th>\n",
       "      <th>yvonne</th>\n",
       "      <th>zealand</th>\n",
       "      <th>zero</th>\n",
       "      <th>zeta</th>\n",
       "      <th>zhang</th>\n",
       "      <th>zombie</th>\n",
       "      <th>zone</th>\n",
       "      <th>zurich</th>\n",
       "      <th>zvonareva</th>\n",
       "    </tr>\n",
       "  </thead>\n",
       "  <tbody>\n",
       "    <tr>\n",
       "      <th>0</th>\n",
       "      <td>0</td>\n",
       "      <td>0</td>\n",
       "      <td>0</td>\n",
       "      <td>0</td>\n",
       "      <td>0</td>\n",
       "      <td>0</td>\n",
       "      <td>1</td>\n",
       "      <td>0</td>\n",
       "      <td>0</td>\n",
       "      <td>0</td>\n",
       "      <td>...</td>\n",
       "      <td>0</td>\n",
       "      <td>0</td>\n",
       "      <td>0</td>\n",
       "      <td>0</td>\n",
       "      <td>0</td>\n",
       "      <td>0</td>\n",
       "      <td>0</td>\n",
       "      <td>0</td>\n",
       "      <td>0</td>\n",
       "      <td>0</td>\n",
       "    </tr>\n",
       "    <tr>\n",
       "      <th>1</th>\n",
       "      <td>0</td>\n",
       "      <td>0</td>\n",
       "      <td>0</td>\n",
       "      <td>0</td>\n",
       "      <td>0</td>\n",
       "      <td>0</td>\n",
       "      <td>0</td>\n",
       "      <td>1</td>\n",
       "      <td>0</td>\n",
       "      <td>0</td>\n",
       "      <td>...</td>\n",
       "      <td>0</td>\n",
       "      <td>0</td>\n",
       "      <td>0</td>\n",
       "      <td>0</td>\n",
       "      <td>0</td>\n",
       "      <td>0</td>\n",
       "      <td>0</td>\n",
       "      <td>0</td>\n",
       "      <td>0</td>\n",
       "      <td>0</td>\n",
       "    </tr>\n",
       "    <tr>\n",
       "      <th>2</th>\n",
       "      <td>0</td>\n",
       "      <td>0</td>\n",
       "      <td>0</td>\n",
       "      <td>0</td>\n",
       "      <td>0</td>\n",
       "      <td>0</td>\n",
       "      <td>0</td>\n",
       "      <td>0</td>\n",
       "      <td>0</td>\n",
       "      <td>0</td>\n",
       "      <td>...</td>\n",
       "      <td>0</td>\n",
       "      <td>0</td>\n",
       "      <td>0</td>\n",
       "      <td>0</td>\n",
       "      <td>0</td>\n",
       "      <td>0</td>\n",
       "      <td>0</td>\n",
       "      <td>0</td>\n",
       "      <td>0</td>\n",
       "      <td>0</td>\n",
       "    </tr>\n",
       "    <tr>\n",
       "      <th>3</th>\n",
       "      <td>0</td>\n",
       "      <td>0</td>\n",
       "      <td>0</td>\n",
       "      <td>0</td>\n",
       "      <td>0</td>\n",
       "      <td>0</td>\n",
       "      <td>0</td>\n",
       "      <td>0</td>\n",
       "      <td>0</td>\n",
       "      <td>0</td>\n",
       "      <td>...</td>\n",
       "      <td>0</td>\n",
       "      <td>0</td>\n",
       "      <td>0</td>\n",
       "      <td>0</td>\n",
       "      <td>0</td>\n",
       "      <td>0</td>\n",
       "      <td>0</td>\n",
       "      <td>0</td>\n",
       "      <td>0</td>\n",
       "      <td>0</td>\n",
       "    </tr>\n",
       "    <tr>\n",
       "      <th>4</th>\n",
       "      <td>0</td>\n",
       "      <td>0</td>\n",
       "      <td>0</td>\n",
       "      <td>0</td>\n",
       "      <td>0</td>\n",
       "      <td>0</td>\n",
       "      <td>0</td>\n",
       "      <td>0</td>\n",
       "      <td>0</td>\n",
       "      <td>0</td>\n",
       "      <td>...</td>\n",
       "      <td>0</td>\n",
       "      <td>0</td>\n",
       "      <td>0</td>\n",
       "      <td>0</td>\n",
       "      <td>1</td>\n",
       "      <td>0</td>\n",
       "      <td>0</td>\n",
       "      <td>0</td>\n",
       "      <td>0</td>\n",
       "      <td>0</td>\n",
       "    </tr>\n",
       "  </tbody>\n",
       "</table>\n",
       "<p>5 rows × 5678 columns</p>\n",
       "</div>"
      ],
      "text/plain": [
       "   aaltra  abandonment  abdication  abdullah  aberavon  abhorrent  abide   \n",
       "0       0            0           0         0         0          0      1  \\\n",
       "1       0            0           0         0         0          0      0   \n",
       "2       0            0           0         0         0          0      0   \n",
       "3       0            0           0         0         0          0      0   \n",
       "4       0            0           0         0         0          0      0   \n",
       "\n",
       "   ability  able  abn  ...  yushchenko  yvonne  zealand  zero  zeta  zhang   \n",
       "0        0     0    0  ...           0       0        0     0     0      0  \\\n",
       "1        1     0    0  ...           0       0        0     0     0      0   \n",
       "2        0     0    0  ...           0       0        0     0     0      0   \n",
       "3        0     0    0  ...           0       0        0     0     0      0   \n",
       "4        0     0    0  ...           0       0        0     0     1      0   \n",
       "\n",
       "   zombie  zone  zurich  zvonareva  \n",
       "0       0     0       0          0  \n",
       "1       0     0       0          0  \n",
       "2       0     0       0          0  \n",
       "3       0     0       0          0  \n",
       "4       0     0       0          0  \n",
       "\n",
       "[5 rows x 5678 columns]"
      ]
     },
     "execution_count": 39,
     "metadata": {},
     "output_type": "execute_result"
    }
   ],
   "source": [
    "transformed_train_df.head()"
   ]
  },
  {
   "cell_type": "markdown",
   "id": "27968eb7",
   "metadata": {},
   "source": [
    "### Train-Test Split"
   ]
  },
  {
   "cell_type": "code",
   "execution_count": 40,
   "id": "200b5003",
   "metadata": {},
   "outputs": [],
   "source": [
    "def make_train_test_split(text_data, labels, test_size=0.2):\n",
    "    X = text_data\n",
    "    y = labels\n",
    "    X_train, X_test, y_train, y_test = train_test_split(X, y, test_size=test_size, stratify=y, random_state=42)\n",
    "    \n",
    "    # Print the shapes of the resulting subsets\n",
    "    print(\"Train data shape:\", X_train.shape)\n",
    "    print(\"Test data shape:\", X_test.shape)\n",
    "    print(\"Train labels shape:\", len(y_train))\n",
    "    print(\"Test labels shape:\", len(y_test))\n",
    "    \n",
    "    # Print the class distribution in the train and test sets\n",
    "    print(\"\\nClass distribution in the training set:\")\n",
    "    print(y_train.value_counts())\n",
    "    print(\"\\nClass distribution in the test set:\")\n",
    "    print(y_test.value_counts())\n",
    "    \n",
    "    return X_train, X_test, y_train, y_test"
   ]
  },
  {
   "cell_type": "code",
   "execution_count": 41,
   "id": "a4b14835",
   "metadata": {},
   "outputs": [
    {
     "name": "stdout",
     "output_type": "stream",
     "text": [
      "Train data shape: (1594,)\n",
      "Test data shape: (532,)\n",
      "Train labels shape: 1594\n",
      "Test labels shape: 532\n",
      "\n",
      "Class distribution in the training set:\n",
      "Category_encoded\n",
      "3    378\n",
      "0    377\n",
      "2    302\n",
      "1    277\n",
      "4    260\n",
      "Name: count, dtype: int64\n",
      "\n",
      "Class distribution in the test set:\n",
      "Category_encoded\n",
      "3    126\n",
      "0    126\n",
      "2    101\n",
      "1     92\n",
      "4     87\n",
      "Name: count, dtype: int64\n"
     ]
    }
   ],
   "source": [
    "text_data = processed_news_articles['Article']\n",
    "labels = processed_news_articles['Category_encoded']\n",
    "\n",
    "X_train, X_test, y_train, y_test = make_train_test_split(text_data, labels, test_size=0.25)"
   ]
  },
  {
   "cell_type": "code",
   "execution_count": 42,
   "id": "c10bdca5",
   "metadata": {},
   "outputs": [
    {
     "data": {
      "text/plain": [
       "1005    newcastle gloucester newcastle centre mathew t...\n",
       "833     bbc allow scrutiny urge bbc watchdog freedom s...\n",
       "1465    half life sweep bafta awards person shooter ha...\n",
       "1661    payoff shell boss shell pay finance chief step...\n",
       "1928    tindall aim earn lion spot bath england centre...\n",
       "                              ...                        \n",
       "224     fox reliant reality head network fox admit bro...\n",
       "2043    gen console generation video game console deve...\n",
       "1297    clarke defend terror detention home secretary ...\n",
       "336     aid climate davos agenda climate change fight ...\n",
       "1338    call truce deficit battle european commission ...\n",
       "Name: Article, Length: 1594, dtype: object"
      ]
     },
     "execution_count": 42,
     "metadata": {},
     "output_type": "execute_result"
    }
   ],
   "source": [
    "X_train"
   ]
  },
  {
   "cell_type": "code",
   "execution_count": 43,
   "id": "314e8b75",
   "metadata": {},
   "outputs": [
    {
     "data": {
      "text/plain": [
       "1005    3\n",
       "833     1\n",
       "1465    4\n",
       "1661    0\n",
       "1928    3\n",
       "       ..\n",
       "224     1\n",
       "2043    4\n",
       "1297    2\n",
       "336     0\n",
       "1338    0\n",
       "Name: Category_encoded, Length: 1594, dtype: int32"
      ]
     },
     "execution_count": 43,
     "metadata": {},
     "output_type": "execute_result"
    }
   ],
   "source": [
    "y_train"
   ]
  },
  {
   "cell_type": "markdown",
   "id": "53af6110",
   "metadata": {},
   "source": [
    "##  Model Training & Evaluation"
   ]
  },
  {
   "cell_type": "markdown",
   "id": "30a856b3",
   "metadata": {},
   "source": [
    "### Functionalized Code"
   ]
  },
  {
   "cell_type": "code",
   "execution_count": 44,
   "id": "5d627db9",
   "metadata": {},
   "outputs": [],
   "source": [
    "def model_check(model_obj, X_train, X_test, y_train, y_test, class_names, method='tf_idf', n_grams=(1,1)):\n",
    "    # Fit and transform the training set and Transform the testing set\n",
    "    transformed_data = vectorize_data(X_train, X_test, method=method, n_grams=n_grams)\n",
    "    \n",
    "    # tuple unpacking\n",
    "    X_train_vec, X_test_vec = transformed_data\n",
    "    \n",
    "    # Initialize and train the classifier\n",
    "    clf = model_obj\n",
    "    clf.fit(X_train_vec, y_train)\n",
    "    \n",
    "    # Make predictions on the testing set\n",
    "    y_pred = clf.predict(X_test_vec)\n",
    "    \n",
    "    # Calculate overall performance of the model\n",
    "    test_accuracy = accuracy_score(y_test, y_pred)\n",
    "    print(\"Model Performance:\")\n",
    "    print(f\"Test Accuracy: {round(test_accuracy*100,2)} %\")\n",
    "\n",
    "    # Generate confusion matrix\n",
    "    confusion_mat = confusion_matrix(y_test, y_pred)\n",
    "    print(\"Confusion Matrix:\")\n",
    "    cm_display = ConfusionMatrixDisplay(confusion_mat, display_labels=class_names)\n",
    "    cm_display.plot(cmap='Blues', xticks_rotation='vertical')\n",
    "    plt.show()\n",
    "\n",
    "    # Generate classification report\n",
    "    report = classification_report(y_test, y_pred)\n",
    "    print(\"Classification Report:\")\n",
    "    print(report)"
   ]
  },
  {
   "cell_type": "code",
   "execution_count": 57,
   "id": "cebdeb6e",
   "metadata": {},
   "outputs": [
    {
     "name": "stdout",
     "output_type": "stream",
     "text": [
      "{'Business': 0.85, 'Entertainment': 1.15, 'Politics': 1.06, 'Sports': 0.84, 'Technology': 1.23}\n"
     ]
    }
   ],
   "source": [
    "# Compute class weights\n",
    "class_labels = [0, 1, 2, 3, 4]\n",
    "class_weights = class_weight.compute_class_weight('balanced', classes=class_labels, y=y_train)\n",
    "print(dict(zip(category_mapping.keys(), np.asarray(class_weights).round(2))))"
   ]
  },
  {
   "cell_type": "code",
   "execution_count": 54,
   "id": "6deb23fc",
   "metadata": {},
   "outputs": [
    {
     "name": "stdout",
     "output_type": "stream",
     "text": [
      "{'Business': 0, 'Entertainment': 1, 'Politics': 2, 'Sports': 3, 'Technology': 4}\n"
     ]
    }
   ],
   "source": [
    "print(category_mapping)"
   ]
  },
  {
   "cell_type": "markdown",
   "id": "244922bf",
   "metadata": {},
   "source": [
    "### Naive Bayes model"
   ]
  },
  {
   "cell_type": "markdown",
   "id": "8433ce95",
   "metadata": {},
   "source": [
    "#### CountVectorizer"
   ]
  },
  {
   "cell_type": "code",
   "execution_count": 60,
   "id": "4931e20b",
   "metadata": {},
   "outputs": [
    {
     "name": "stdout",
     "output_type": "stream",
     "text": [
      "Model Performance:\n",
      "Test Accuracy: 97.37 %\n",
      "Confusion Matrix:\n"
     ]
    },
    {
     "data": {
      "image/png": "[encoded data removed]",
      "text/plain": [
       "<Figure size 640x480 with 2 Axes>"
      ]
     },
     "metadata": {},
     "output_type": "display_data"
    },
    {
     "name": "stdout",
     "output_type": "stream",
     "text": [
      "Classification Report:\n",
      "              precision    recall  f1-score   support\n",
      "\n",
      "           0       0.96      0.98      0.97       126\n",
      "           1       0.97      0.95      0.96        92\n",
      "           2       0.97      0.97      0.97       101\n",
      "           3       1.00      0.99      1.00       126\n",
      "           4       0.97      0.97      0.97        87\n",
      "\n",
      "    accuracy                           0.97       532\n",
      "   macro avg       0.97      0.97      0.97       532\n",
      "weighted avg       0.97      0.97      0.97       532\n",
      "\n"
     ]
    }
   ],
   "source": [
    "NB_model = MultinomialNB(class_prior=class_weights)\n",
    "model_check(NB_model, X_train, X_test, y_train, y_test, class_names, method='freq', n_grams=(1,1))"
   ]
  },
  {
   "cell_type": "markdown",
   "id": "3a8145e7",
   "metadata": {},
   "source": [
    "#### TF-IDF Vectorizer"
   ]
  },
  {
   "cell_type": "code",
   "execution_count": 61,
   "id": "7a091b1b",
   "metadata": {},
   "outputs": [
    {
     "name": "stdout",
     "output_type": "stream",
     "text": [
      "Model Performance:\n",
      "Test Accuracy: 96.43 %\n",
      "Confusion Matrix:\n"
     ]
    },
    {
     "data": {
      "image/png": "[encoded data removed]",
      "text/plain": [
       "<Figure size 640x480 with 2 Axes>"
      ]
     },
     "metadata": {},
     "output_type": "display_data"
    },
    {
     "name": "stdout",
     "output_type": "stream",
     "text": [
      "Classification Report:\n",
      "              precision    recall  f1-score   support\n",
      "\n",
      "           0       0.96      0.98      0.97       126\n",
      "           1       0.97      0.92      0.94        92\n",
      "           2       0.93      0.98      0.95       101\n",
      "           3       1.00      0.99      1.00       126\n",
      "           4       0.96      0.93      0.95        87\n",
      "\n",
      "    accuracy                           0.96       532\n",
      "   macro avg       0.96      0.96      0.96       532\n",
      "weighted avg       0.96      0.96      0.96       532\n",
      "\n"
     ]
    }
   ],
   "source": [
    "NB_model = MultinomialNB(class_prior=class_weights)\n",
    "model_check(NB_model, X_train, X_test, y_train, y_test, class_names, method='tf_idf', n_grams=(1,1))"
   ]
  },
  {
   "cell_type": "markdown",
   "id": "609068ee",
   "metadata": {},
   "source": [
    "### DecisionTree"
   ]
  },
  {
   "cell_type": "markdown",
   "id": "f062e3e1",
   "metadata": {},
   "source": [
    "#### CountVectorizer"
   ]
  },
  {
   "cell_type": "code",
   "execution_count": 62,
   "id": "e6c25e5e",
   "metadata": {},
   "outputs": [
    {
     "name": "stdout",
     "output_type": "stream",
     "text": [
      "Model Performance:\n",
      "Test Accuracy: 83.08 %\n",
      "Confusion Matrix:\n"
     ]
    },
    {
     "data": {
      "image/png": "[encoded data removed]",
      "text/plain": [
       "<Figure size 640x480 with 2 Axes>"
      ]
     },
     "metadata": {},
     "output_type": "display_data"
    },
    {
     "name": "stdout",
     "output_type": "stream",
     "text": [
      "Classification Report:\n",
      "              precision    recall  f1-score   support\n",
      "\n",
      "           0       0.77      0.88      0.82       126\n",
      "           1       0.79      0.74      0.76        92\n",
      "           2       0.86      0.80      0.83       101\n",
      "           3       0.93      0.88      0.90       126\n",
      "           4       0.82      0.82      0.82        87\n",
      "\n",
      "    accuracy                           0.83       532\n",
      "   macro avg       0.83      0.82      0.83       532\n",
      "weighted avg       0.83      0.83      0.83       532\n",
      "\n"
     ]
    }
   ],
   "source": [
    "DT_model = DecisionTreeClassifier(class_weight=dict(zip(class_labels, class_weights)))\n",
    "model_check(DT_model, X_train, X_test, y_train, y_test, class_names, method='freq', n_grams=(1,1))"
   ]
  },
  {
   "cell_type": "markdown",
   "id": "b5fadd10",
   "metadata": {},
   "source": [
    "#### TF-IDF Vectorizer"
   ]
  },
  {
   "cell_type": "code",
   "execution_count": 63,
   "id": "170e200d",
   "metadata": {},
   "outputs": [
    {
     "name": "stdout",
     "output_type": "stream",
     "text": [
      "Model Performance:\n",
      "Test Accuracy: 79.89 %\n",
      "Confusion Matrix:\n"
     ]
    },
    {
     "data": {
      "image/png": "[encoded data removed]",
      "text/plain": [
       "<Figure size 640x480 with 2 Axes>"
      ]
     },
     "metadata": {},
     "output_type": "display_data"
    },
    {
     "name": "stdout",
     "output_type": "stream",
     "text": [
      "Classification Report:\n",
      "              precision    recall  f1-score   support\n",
      "\n",
      "           0       0.77      0.82      0.79       126\n",
      "           1       0.72      0.67      0.70        92\n",
      "           2       0.78      0.78      0.78       101\n",
      "           3       0.87      0.89      0.88       126\n",
      "           4       0.84      0.79      0.82        87\n",
      "\n",
      "    accuracy                           0.80       532\n",
      "   macro avg       0.80      0.79      0.79       532\n",
      "weighted avg       0.80      0.80      0.80       532\n",
      "\n"
     ]
    }
   ],
   "source": [
    "DT_model = DecisionTreeClassifier(class_weight=dict(zip(class_labels, class_weights)))\n",
    "model_check(DT_model, X_train, X_test, y_train, y_test, class_names, method='tf_idf', n_grams=(1,1))"
   ]
  },
  {
   "cell_type": "markdown",
   "id": "de397b59",
   "metadata": {},
   "source": [
    "### Nearest Neighbors"
   ]
  },
  {
   "cell_type": "markdown",
   "id": "e0515782",
   "metadata": {},
   "source": [
    "#### CountVectorizer"
   ]
  },
  {
   "cell_type": "code",
   "execution_count": 64,
   "id": "088c689b",
   "metadata": {},
   "outputs": [
    {
     "name": "stdout",
     "output_type": "stream",
     "text": [
      "Model Performance:\n",
      "Test Accuracy: 61.84 %\n",
      "Confusion Matrix:\n"
     ]
    },
    {
     "data": {
      "image/png": "[encoded data removed]",
      "text/plain": [
       "<Figure size 640x480 with 2 Axes>"
      ]
     },
     "metadata": {},
     "output_type": "display_data"
    },
    {
     "name": "stdout",
     "output_type": "stream",
     "text": [
      "Classification Report:\n",
      "              precision    recall  f1-score   support\n",
      "\n",
      "           0       0.80      0.60      0.69       126\n",
      "           1       0.97      0.42      0.59        92\n",
      "           2       1.00      0.51      0.68       101\n",
      "           3       0.41      1.00      0.58       126\n",
      "           4       1.00      0.41      0.59        87\n",
      "\n",
      "    accuracy                           0.62       532\n",
      "   macro avg       0.84      0.59      0.62       532\n",
      "weighted avg       0.81      0.62      0.63       532\n",
      "\n"
     ]
    }
   ],
   "source": [
    "K = 5\n",
    "KNN_model = KNeighborsClassifier(n_neighbors=K)\n",
    "model_check(KNN_model, X_train, X_test, y_train, y_test, class_names, method='freq', n_grams=(1,1))"
   ]
  },
  {
   "cell_type": "markdown",
   "id": "8988546f",
   "metadata": {},
   "source": [
    "#### TF-IDF Vectorizer"
   ]
  },
  {
   "cell_type": "code",
   "execution_count": 65,
   "id": "bcd8eed0",
   "metadata": {},
   "outputs": [
    {
     "name": "stdout",
     "output_type": "stream",
     "text": [
      "Model Performance:\n",
      "Test Accuracy: 95.49 %\n",
      "Confusion Matrix:\n"
     ]
    },
    {
     "data": {
      "image/png": "[encoded data removed]",
      "text/plain": [
       "<Figure size 640x480 with 2 Axes>"
      ]
     },
     "metadata": {},
     "output_type": "display_data"
    },
    {
     "name": "stdout",
     "output_type": "stream",
     "text": [
      "Classification Report:\n",
      "              precision    recall  f1-score   support\n",
      "\n",
      "           0       0.94      0.98      0.96       126\n",
      "           1       0.95      0.91      0.93        92\n",
      "           2       0.93      0.95      0.94       101\n",
      "           3       0.99      0.98      0.99       126\n",
      "           4       0.95      0.92      0.94        87\n",
      "\n",
      "    accuracy                           0.95       532\n",
      "   macro avg       0.95      0.95      0.95       532\n",
      "weighted avg       0.96      0.95      0.95       532\n",
      "\n"
     ]
    }
   ],
   "source": [
    "K = 5\n",
    "KNN_model = KNeighborsClassifier(n_neighbors=K)\n",
    "model_check(KNN_model, X_train, X_test, y_train, y_test, class_names, method='tf_idf', n_grams=(1,1))"
   ]
  },
  {
   "cell_type": "markdown",
   "id": "b8c78807",
   "metadata": {},
   "source": [
    "### Random Forest"
   ]
  },
  {
   "cell_type": "markdown",
   "id": "59be1b3e",
   "metadata": {},
   "source": [
    "#### CountVectorizer"
   ]
  },
  {
   "cell_type": "code",
   "execution_count": 66,
   "id": "686a199d",
   "metadata": {},
   "outputs": [
    {
     "name": "stdout",
     "output_type": "stream",
     "text": [
      "Model Performance:\n",
      "Test Accuracy: 95.49 %\n",
      "Confusion Matrix:\n"
     ]
    },
    {
     "data": {
      "image/png": "[encoded data removed]",
      "text/plain": [
       "<Figure size 640x480 with 2 Axes>"
      ]
     },
     "metadata": {},
     "output_type": "display_data"
    },
    {
     "name": "stdout",
     "output_type": "stream",
     "text": [
      "Classification Report:\n",
      "              precision    recall  f1-score   support\n",
      "\n",
      "           0       0.91      0.98      0.94       126\n",
      "           1       0.99      0.91      0.95        92\n",
      "           2       0.97      0.94      0.95       101\n",
      "           3       0.97      1.00      0.98       126\n",
      "           4       0.95      0.92      0.94        87\n",
      "\n",
      "    accuracy                           0.95       532\n",
      "   macro avg       0.96      0.95      0.95       532\n",
      "weighted avg       0.96      0.95      0.95       532\n",
      "\n"
     ]
    }
   ],
   "source": [
    "RF_model = RandomForestClassifier(class_weight=dict(zip(class_labels, class_weights)))\n",
    "model_check(RF_model, X_train, X_test, y_train, y_test, class_names, method='freq', n_grams=(1,1))"
   ]
  },
  {
   "cell_type": "markdown",
   "id": "e9516a9e",
   "metadata": {},
   "source": [
    "#### TF-IDF Vectorizer"
   ]
  },
  {
   "cell_type": "code",
   "execution_count": 70,
   "id": "9362ad2b",
   "metadata": {},
   "outputs": [
    {
     "name": "stdout",
     "output_type": "stream",
     "text": [
      "Model Performance:\n",
      "Test Accuracy: 94.55 %\n",
      "Confusion Matrix:\n"
     ]
    },
    {
     "data": {
      "image/png": "[encoded data removed]",
      "text/plain": [
       "<Figure size 640x480 with 2 Axes>"
      ]
     },
     "metadata": {},
     "output_type": "display_data"
    },
    {
     "name": "stdout",
     "output_type": "stream",
     "text": [
      "Classification Report:\n",
      "              precision    recall  f1-score   support\n",
      "\n",
      "           0       0.92      0.96      0.94       126\n",
      "           1       0.99      0.89      0.94        92\n",
      "           2       0.92      0.95      0.94       101\n",
      "           3       0.96      1.00      0.98       126\n",
      "           4       0.95      0.90      0.92        87\n",
      "\n",
      "    accuracy                           0.95       532\n",
      "   macro avg       0.95      0.94      0.94       532\n",
      "weighted avg       0.95      0.95      0.95       532\n",
      "\n"
     ]
    }
   ],
   "source": [
    "RF_model = RandomForestClassifier(class_weight=dict(zip(class_labels, class_weights)))\n",
    "model_check(RF_model, X_train, X_test, y_train, y_test, class_names, method='tf_idf', n_grams=(1,1))"
   ]
  },
  {
   "cell_type": "markdown",
   "id": "67efc74a",
   "metadata": {},
   "source": [
    "## Observations on model performance"
   ]
  },
  {
   "cell_type": "markdown",
   "id": "25353441",
   "metadata": {},
   "source": [
    "1. We achieved test accuracy of 97% for **Naive Bayes model** with CountVectorizer & 96% with TF-IDF vectorizer\n",
    "2. We achieved test accuracy of 83% for **Decision Tress** model with CountVectorizer & 80% with TF-IDF vectorizer\n",
    "3. We achieved test accuracy of 62% for **KNN** model with CountVectorizer & 95% with TF-IDF vectorizer\n",
    "3. We achieved test accuracy of 95% for **Random Forest** model with CountVectorizer & 95% with TF-IDF vectorizer"
   ]
  },
  {
   "cell_type": "markdown",
   "id": "7db0cc5d",
   "metadata": {},
   "source": [
    "## Questionnaire"
   ]
  },
  {
   "cell_type": "markdown",
   "id": "11ec58c3",
   "metadata": {},
   "source": [
    "### How many news articles are present in the dataset that we have?"
   ]
  },
  {
   "cell_type": "markdown",
   "id": "990f111c",
   "metadata": {},
   "source": [
    "*Ans: There are 2225 news articles present in given dataset but out of which 99 are duplicates so that gives us only 2126 unique news articles*"
   ]
  },
  {
   "cell_type": "markdown",
   "id": "02288e27",
   "metadata": {},
   "source": [
    "### Most of the news articles are from _____ category."
   ]
  },
  {
   "cell_type": "markdown",
   "id": "be35f576",
   "metadata": {},
   "source": [
    "*Ans: Sport category shows highest news articles (504)*"
   ]
  },
  {
   "cell_type": "markdown",
   "id": "9174adfe",
   "metadata": {},
   "source": [
    "### Only ___ no. of articles belong to the ‘Technology’ category."
   ]
  },
  {
   "cell_type": "markdown",
   "id": "104c0503",
   "metadata": {},
   "source": [
    "*Ans: 347 news articles belong to the ‘Technology’ category*"
   ]
  },
  {
   "cell_type": "markdown",
   "id": "69c57633",
   "metadata": {},
   "source": [
    "### What are Stop Words and why should they be removed from the text data?"
   ]
  },
  {
   "cell_type": "markdown",
   "id": "3640e2f6",
   "metadata": {},
   "source": [
    "Ans: \n",
    "\n",
    "Stop words are common words that do not carry significant meaning in a given language. Examples of stop words in English include \"a,\" \"an,\" \"the,\" \"is,\" \"and,\" \"but,\" etc. These words are considered to be noise in the text and are often removed during the preprocessing step in natural language processing tasks.\n",
    "\n",
    "There are several reasons for removing stop words from text data:\n",
    "\n",
    "1. Noise reduction: Stop words appear frequently in text but do not contribute much to the overall meaning or context. By removing them, we reduce the noise in the data, making it easier to focus on the more important words.\n",
    "\n",
    "2. Storage and memory efficiency: Stop words are typically very common words, and removing them reduces the size of the text data, resulting in more efficient storage and memory usage.\n",
    "\n",
    "3. Improved performance: Removing stop words can enhance the performance of text analysis tasks such as text classification, information retrieval, and sentiment analysis. Stop words often do not provide valuable insights and removing them can improve the accuracy and efficiency of these algorithms.\n",
    "\n",
    "4. Focus on content words: By eliminating stop words, the emphasis is placed on content words, which carry more meaningful information. This can be especially important in tasks like keyword extraction, topic modeling, or document clustering, where the goal is to identify the most important terms or concepts."
   ]
  },
  {
   "cell_type": "markdown",
   "id": "af409647",
   "metadata": {},
   "source": [
    "### Explain the difference between Stemming and Lemmatization."
   ]
  },
  {
   "cell_type": "markdown",
   "id": "e456e1b8",
   "metadata": {},
   "source": [
    "Ans:\n",
    "\n",
    "Both stemming and lemmatization are techniques used in natural language processing (NLP) to reduce words to their base or root form. The main difference between stemming and lemmatization lies in their approach and the level of abstraction they provide.\n",
    "\n",
    "**1. Stemming:**\n",
    "Stemming is a simple and heuristic-based approach that chops off prefixes or suffixes from words to obtain their root or base form. The resulting stem may not always be a valid word in the language. For example:\n",
    "- Running -> Run\n",
    "- Jumps -> Jump\n",
    "- Happily -> Happi\n",
    "\n",
    "Stemming algorithms are generally faster and less computationally intensive because they use simple string manipulation rules to transform words. However, they may produce stems that are not actual words and may not always capture the correct base form. Stemming is often used for tasks like information retrieval or indexing, where the exact meaning of the words is not crucial, and speed is essential.\n",
    "\n",
    "Popular stemming algorithms include Porter Stemmer, Snowball Stemmer, and Lancaster Stemmer.\n",
    "\n",
    "**2. Lemmatization:**\n",
    "Lemmatization, on the other hand, is a more advanced and linguistically informed process. It involves reducing words to their base or dictionary form, known as the lemma, while taking into account the word's part of speech (POS) and its meaning in the context. The resulting lemma is always a valid word in the language. For example:\n",
    "- Running -> Run\n",
    "- Jumps -> Jump\n",
    "- Happily -> Happy\n",
    "\n",
    "Lemmatization requires access to a lexicon or dictionary to map words to their base forms correctly. It considers the grammatical and semantic relationships of words in a sentence, making it more accurate than stemming. Lemmatization is generally slower and more computationally intensive compared to stemming due to its reliance on linguistic analysis.\n",
    "\n",
    "Lemmatization is often preferred for tasks that require a deeper understanding of the text, such as language generation, sentiment analysis, and machine translation.\n",
    "\n",
    "In summary, stemming is a faster and less accurate technique that chops off prefixes and suffixes to obtain word stems, while lemmatization is a more accurate process that reduces words to their base form, the lemma, considering the word's part of speech and meaning. The choice between stemming and lemmatization depends on the specific NLP task and the level of precision and linguistic detail required."
   ]
  },
  {
   "cell_type": "markdown",
   "id": "e131aa04",
   "metadata": {},
   "source": [
    "### Which of the techniques Bag of Words or TF-IDF is considered to be more efficient than the other?"
   ]
  },
  {
   "cell_type": "markdown",
   "id": "d4617607",
   "metadata": {},
   "source": [
    "Ans:\n",
    "    \n",
    "The efficiency of Bag of Words (BoW) and Term Frequency-Inverse Document Frequency (TF-IDF) depends on the specific use case and the size of the dataset. Both techniques have their advantages and trade-offs.\n",
    "\n",
    "**1. Bag of Words (BoW):**\n",
    "BoW is a simple and straightforward technique where a document's content is represented as an unordered collection of words, and the frequency of each word is used as a feature. BoW does not consider the order of words or their context in the document.\n",
    "\n",
    "Efficiency of BoW:\n",
    "- BoW is efficient in terms of computation and memory usage, especially when dealing with large datasets. It requires minimal preprocessing and can scale well to large corpora.\n",
    "- Since BoW only involves counting the occurrences of each word, the feature representation is typically sparse, which can lead to faster processing and memory savings.\n",
    "- BoW is commonly used in text classification and information retrieval tasks.\n",
    "\n",
    "However, BoW has limitations:\n",
    "- It ignores word order and grammar, leading to a loss of sequential and contextual information.\n",
    "- It treats all words equally, without considering the importance or discriminative power of each word.\n",
    "- BoW can result in a high-dimensional feature space, especially with a large vocabulary, which can be computationally expensive for some algorithms.\n",
    "\n",
    "**2. Term Frequency-Inverse Document Frequency (TF-IDF):**\n",
    "TF-IDF is a more sophisticated technique that aims to address some of the limitations of BoW. It calculates the importance of a word in a document relative to its occurrence in the entire corpus. Words that appear frequently in a document but infrequently across the corpus receive higher weights.\n",
    "\n",
    "Efficiency of TF-IDF:\n",
    "- While TF-IDF requires more computational resources than BoW, its efficiency depends on the size of the corpus. For small and medium-sized datasets, TF-IDF can still perform well and provide more meaningful representations.\n",
    "- TF-IDF assigns higher importance to words that are more discriminative in the context of a specific document, helping to capture more relevant information.\n",
    "- It can help reduce the impact of common and less informative words (stop words) by downweighting them in the feature representation.\n",
    "\n",
    "However, TF-IDF has its own limitations:\n",
    "- TF-IDF still loses contextual information and word order like BoW, as it is based on the individual term's frequency and inverse document frequency.\n",
    "- For very large corpora, calculating TF-IDF can become computationally expensive and require significant memory resources.\n",
    "\n",
    "In conclusion, the choice between Bag of Words and TF-IDF depends on the specific requirements of the NLP task, the size of the dataset, and the available computational resources. For large-scale applications or tasks that need to capture more meaningful word representations, TF-IDF can be a better choice despite its additional computational cost. For quick and efficient processing, especially with large datasets, Bag of Words might be preferred due to its simplicity and lower memory requirements."
   ]
  },
  {
   "cell_type": "markdown",
   "id": "7a0a701e",
   "metadata": {},
   "source": [
    "### What’s the shape of train & test data sets after performing a 75:25 split"
   ]
  },
  {
   "cell_type": "markdown",
   "id": "01c88f85",
   "metadata": {},
   "source": [
    "Ans:\n",
    "- Train data shape: (1594,)\n",
    "- Test data shape: (532,)\n",
    "- Train labels shape: 1594\n",
    "- Test labels shape: 532"
   ]
  },
  {
   "cell_type": "markdown",
   "id": "56ebbe61",
   "metadata": {},
   "source": [
    "### Which of the following is found to be the best performing model..\n",
    "\n",
    "a. Random Forest b. Nearest Neighbors c. Naive Bayes"
   ]
  },
  {
   "cell_type": "markdown",
   "id": "cda0c8a0",
   "metadata": {},
   "source": [
    "Ans:\n",
    "Naive Bayes"
   ]
  },
  {
   "cell_type": "markdown",
   "id": "d2d5ce05",
   "metadata": {},
   "source": [
    "### According to this particular use case, both precision and recall are equally important. (T/F)"
   ]
  },
  {
   "cell_type": "markdown",
   "id": "b3827540",
   "metadata": {},
   "source": [
    "Ans: T (Class Imbalance)"
   ]
  }
 ],
 "metadata": {
  "kernelspec": {
   "display_name": "Python 3 (ipykernel)",
   "language": "python",
   "name": "python3"
  },
  "language_info": {
   "codemirror_mode": {
    "name": "ipython",
    "version": 3
   },
   "file_extension": ".py",
   "mimetype": "text/x-python",
   "name": "python",
   "nbconvert_exporter": "python",
   "pygments_lexer": "ipython3",
   "version": "3.9.16"
  }
 },
 "nbformat": 4,
 "nbformat_minor": 5
}
